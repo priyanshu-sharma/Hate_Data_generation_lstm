{
 "cells": [
  {
   "cell_type": "markdown",
   "metadata": {},
   "source": [
    "# HATE DATASET ANALYSIS"
   ]
  },
  {
   "cell_type": "markdown",
   "metadata": {},
   "source": [
    "## LIBRARIES "
   ]
  },
  {
   "cell_type": "code",
   "execution_count": 1,
   "metadata": {},
   "outputs": [],
   "source": [
    "%load_ext autoreload\n",
    "%autoreload 2"
   ]
  },
  {
   "cell_type": "code",
   "execution_count": 2,
   "metadata": {},
   "outputs": [],
   "source": [
    "%matplotlib inline"
   ]
  },
  {
   "cell_type": "code",
   "execution_count": 3,
   "metadata": {},
   "outputs": [],
   "source": [
    "# DataFrame\n",
    "import pandas as pd\n",
    "\n",
    "# Matplotlib\n",
    "import matplotlib.pyplot as plt\n",
    "%matplotlib inline\n",
    "\n",
    "# Scikit-learn\n",
    "from sklearn.model_selection import train_test_split\n",
    "from sklearn.preprocessing import LabelEncoder\n",
    "from sklearn.metrics import confusion_matrix, classification_report, accuracy_score\n",
    "from sklearn.manifold import TSNE\n",
    "from sklearn.feature_extraction.text import TfidfVectorizer"
   ]
  },
  {
   "cell_type": "code",
   "execution_count": 4,
   "metadata": {},
   "outputs": [
    {
     "name": "stderr",
     "output_type": "stream",
     "text": [
      "Using TensorFlow backend.\n"
     ]
    }
   ],
   "source": [
    "# Keras\n",
    "from keras.preprocessing.text import Tokenizer\n",
    "from keras.preprocessing.sequence import pad_sequences\n",
    "from keras.models import Sequential\n",
    "from keras.layers import Activation, Dense, Dropout, Embedding, Flatten, Conv1D, MaxPooling1D, LSTM\n",
    "from keras import utils\n",
    "from keras.callbacks import ReduceLROnPlateau, EarlyStopping"
   ]
  },
  {
   "cell_type": "code",
   "execution_count": 5,
   "metadata": {},
   "outputs": [],
   "source": [
    "# nltk\n",
    "import nltk\n",
    "from nltk.corpus import stopwords\n",
    "from  nltk.stem import SnowballStemmer\n",
    "\n",
    "# Word2vec\n",
    "import gensim"
   ]
  },
  {
   "cell_type": "code",
   "execution_count": 6,
   "metadata": {},
   "outputs": [],
   "source": [
    "# Utility\n",
    "import re\n",
    "import numpy as np\n",
    "import os\n",
    "from collections import Counter\n",
    "import logging\n",
    "import time\n",
    "import pickle\n",
    "import itertools"
   ]
  },
  {
   "cell_type": "code",
   "execution_count": 7,
   "metadata": {},
   "outputs": [],
   "source": [
    "# Set log\n",
    "logging.basicConfig(format='%(asctime)s : %(levelname)s : %(message)s', level=logging.INFO)"
   ]
  },
  {
   "cell_type": "markdown",
   "metadata": {},
   "source": [
    "## SETTINGS "
   ]
  },
  {
   "cell_type": "code",
   "execution_count": 8,
   "metadata": {},
   "outputs": [],
   "source": [
    "# DATASET\n",
    "DATASET_ENCODING = \"ISO-8859-1\"\n",
    "TRAIN_SIZE = 0.8\n",
    "\n",
    "# TEXT CLENAING\n",
    "TEXT_CLEANING_RE = \"@\\S+|https?:\\S+|http?:\\S|[^A-Za-z0-9]+\"\n",
    "\n",
    "# WORD2VEC \n",
    "W2V_SIZE = 300\n",
    "W2V_WINDOW = 7\n",
    "W2V_EPOCH = 32\n",
    "W2V_MIN_COUNT = 10\n",
    "\n",
    "# KERAS\n",
    "SEQUENCE_LENGTH = 300\n",
    "EPOCHS = 8\n",
    "BATCH_SIZE = 1024\n",
    "\n",
    "# EXPORT\n",
    "KERAS_MODEL = \"model.h5\"\n",
    "WORD2VEC_MODEL = \"model.w2v\"\n",
    "TOKENIZER_MODEL = \"tokenizer.pkl\"\n",
    "ENCODER_MODEL = \"encoder.pkl\""
   ]
  },
  {
   "cell_type": "markdown",
   "metadata": {},
   "source": [
    "## READING DATASET "
   ]
  },
  {
   "cell_type": "code",
   "execution_count": 9,
   "metadata": {},
   "outputs": [],
   "source": [
    "import pickle\n",
    "from sklearn.utils import shuffle"
   ]
  },
  {
   "cell_type": "code",
   "execution_count": 10,
   "metadata": {},
   "outputs": [],
   "source": [
    "with open('processed_final_ws_hate', 'rb') as fp:\n",
    "    data = pickle.load(fp)"
   ]
  },
  {
   "cell_type": "code",
   "execution_count": 11,
   "metadata": {},
   "outputs": [
    {
     "data": {
      "text/html": [
       "<div>\n",
       "<style scoped>\n",
       "    .dataframe tbody tr th:only-of-type {\n",
       "        vertical-align: middle;\n",
       "    }\n",
       "\n",
       "    .dataframe tbody tr th {\n",
       "        vertical-align: top;\n",
       "    }\n",
       "\n",
       "    .dataframe thead th {\n",
       "        text-align: right;\n",
       "    }\n",
       "</style>\n",
       "<table border=\"1\" class=\"dataframe\">\n",
       "  <thead>\n",
       "    <tr style=\"text-align: right;\">\n",
       "      <th></th>\n",
       "      <th>tweet</th>\n",
       "      <th>tweet_punct</th>\n",
       "      <th>tweet_pre</th>\n",
       "      <th>tweet_tokenized</th>\n",
       "      <th>tweet_nonstop</th>\n",
       "      <th>tweet_stemmed</th>\n",
       "      <th>tweet_lemmatized</th>\n",
       "      <th>tweet_clean</th>\n",
       "      <th>class</th>\n",
       "    </tr>\n",
       "  </thead>\n",
       "  <tbody>\n",
       "    <tr>\n",
       "      <th>16840</th>\n",
       "      <td>RT @POONSoaker: Fucking bitches throwing THOTS</td>\n",
       "      <td>RT POONSoaker Fucking bitches throwing THOTS</td>\n",
       "      <td>rt poonsoaker fucking bitches throwing thots</td>\n",
       "      <td>[rt, poonsoaker, fucking, bitches, throwing, t...</td>\n",
       "      <td>[rt, poonsoaker, fucking, bitches, throwing, t...</td>\n",
       "      <td>[rt, poonsoak, fuck, bitch, throw, thot]</td>\n",
       "      <td>[rt, poonsoaker, fucking, bitch, throwing, thots]</td>\n",
       "      <td>[rt, poonsoak, fuck, bitch, throw, thot]</td>\n",
       "      <td>1</td>\n",
       "    </tr>\n",
       "    <tr>\n",
       "      <th>11960</th>\n",
       "      <td>It's no wonder my titanium ankle is killing me...</td>\n",
       "      <td>Its no wonder my titanium ankle is killing me ...</td>\n",
       "      <td>wonder titanium ankle killing woo retarded win...</td>\n",
       "      <td>[wonder, titanium, ankle, killing, woo, retard...</td>\n",
       "      <td>[wonder, titanium, ankle, killing, woo, retard...</td>\n",
       "      <td>[wonder, titanium, ankl, kill, woo, retard, wi...</td>\n",
       "      <td>[wonder, titanium, ankle, killing, woo, retard...</td>\n",
       "      <td>[wonder, titanium, ankl, kill, woo, retard, wi...</td>\n",
       "      <td>1</td>\n",
       "    </tr>\n",
       "    <tr>\n",
       "      <th>105501</th>\n",
       "      <td>\"\\n\\nSomeone thinks \"\"football\"\" as \"\"associat...</td>\n",
       "      <td>\\n\\nSomeone thinks football as association foo...</td>\n",
       "      <td>someone thinks football association football s...</td>\n",
       "      <td>[someone, thinks, football, association, footb...</td>\n",
       "      <td>[someone, thinks, football, association, footb...</td>\n",
       "      <td>[someon, think, footbal, associ, footbal, some...</td>\n",
       "      <td>[someone, think, football, association, footba...</td>\n",
       "      <td>[someon, think, footbal, associ, footbal, some...</td>\n",
       "      <td>0</td>\n",
       "    </tr>\n",
       "    <tr>\n",
       "      <th>112445</th>\n",
       "      <td>Labels \\n\\nAre the record labels an artist is ...</td>\n",
       "      <td>Labels \\n\\nAre the record labels an artist is ...</td>\n",
       "      <td>labels record labels artist signed really impo...</td>\n",
       "      <td>[labels, record, labels, artist, signed, reall...</td>\n",
       "      <td>[labels, record, labels, artist, signed, reall...</td>\n",
       "      <td>[label, record, label, artist, sign, realli, i...</td>\n",
       "      <td>[label, record, label, artist, signed, really,...</td>\n",
       "      <td>[label, record, label, artist, sign, realli, i...</td>\n",
       "      <td>0</td>\n",
       "    </tr>\n",
       "    <tr>\n",
       "      <th>116499</th>\n",
       "      <td>\"\\nAgain, I have reverted the 'link correction...</td>\n",
       "      <td>\\nAgain I have reverted the link correction by...</td>\n",
       "      <td>reverted link correction anonymous user reason...</td>\n",
       "      <td>[reverted, link, correction, anonymous, user, ...</td>\n",
       "      <td>[reverted, link, correction, anonymous, user, ...</td>\n",
       "      <td>[revert, link, correct, anonym, user, reason, ...</td>\n",
       "      <td>[reverted, link, correction, anonymous, user, ...</td>\n",
       "      <td>[revert, link, correct, anonym, user, reason, ...</td>\n",
       "      <td>0</td>\n",
       "    </tr>\n",
       "  </tbody>\n",
       "</table>\n",
       "</div>"
      ],
      "text/plain": [
       "                                                    tweet  \\\n",
       "16840      RT @POONSoaker: Fucking bitches throwing THOTS   \n",
       "11960   It's no wonder my titanium ankle is killing me...   \n",
       "105501  \"\\n\\nSomeone thinks \"\"football\"\" as \"\"associat...   \n",
       "112445  Labels \\n\\nAre the record labels an artist is ...   \n",
       "116499  \"\\nAgain, I have reverted the 'link correction...   \n",
       "\n",
       "                                              tweet_punct  \\\n",
       "16840        RT POONSoaker Fucking bitches throwing THOTS   \n",
       "11960   Its no wonder my titanium ankle is killing me ...   \n",
       "105501  \\n\\nSomeone thinks football as association foo...   \n",
       "112445  Labels \\n\\nAre the record labels an artist is ...   \n",
       "116499  \\nAgain I have reverted the link correction by...   \n",
       "\n",
       "                                                tweet_pre  \\\n",
       "16840        rt poonsoaker fucking bitches throwing thots   \n",
       "11960   wonder titanium ankle killing woo retarded win...   \n",
       "105501  someone thinks football association football s...   \n",
       "112445  labels record labels artist signed really impo...   \n",
       "116499  reverted link correction anonymous user reason...   \n",
       "\n",
       "                                          tweet_tokenized  \\\n",
       "16840   [rt, poonsoaker, fucking, bitches, throwing, t...   \n",
       "11960   [wonder, titanium, ankle, killing, woo, retard...   \n",
       "105501  [someone, thinks, football, association, footb...   \n",
       "112445  [labels, record, labels, artist, signed, reall...   \n",
       "116499  [reverted, link, correction, anonymous, user, ...   \n",
       "\n",
       "                                            tweet_nonstop  \\\n",
       "16840   [rt, poonsoaker, fucking, bitches, throwing, t...   \n",
       "11960   [wonder, titanium, ankle, killing, woo, retard...   \n",
       "105501  [someone, thinks, football, association, footb...   \n",
       "112445  [labels, record, labels, artist, signed, reall...   \n",
       "116499  [reverted, link, correction, anonymous, user, ...   \n",
       "\n",
       "                                            tweet_stemmed  \\\n",
       "16840            [rt, poonsoak, fuck, bitch, throw, thot]   \n",
       "11960   [wonder, titanium, ankl, kill, woo, retard, wi...   \n",
       "105501  [someon, think, footbal, associ, footbal, some...   \n",
       "112445  [label, record, label, artist, sign, realli, i...   \n",
       "116499  [revert, link, correct, anonym, user, reason, ...   \n",
       "\n",
       "                                         tweet_lemmatized  \\\n",
       "16840   [rt, poonsoaker, fucking, bitch, throwing, thots]   \n",
       "11960   [wonder, titanium, ankle, killing, woo, retard...   \n",
       "105501  [someone, think, football, association, footba...   \n",
       "112445  [label, record, label, artist, signed, really,...   \n",
       "116499  [reverted, link, correction, anonymous, user, ...   \n",
       "\n",
       "                                              tweet_clean  class  \n",
       "16840            [rt, poonsoak, fuck, bitch, throw, thot]      1  \n",
       "11960   [wonder, titanium, ankl, kill, woo, retard, wi...      1  \n",
       "105501  [someon, think, footbal, associ, footbal, some...      0  \n",
       "112445  [label, record, label, artist, sign, realli, i...      0  \n",
       "116499  [revert, link, correct, anonym, user, reason, ...      0  "
      ]
     },
     "execution_count": 11,
     "metadata": {},
     "output_type": "execute_result"
    }
   ],
   "source": [
    "data = shuffle(data)\n",
    "data.head()"
   ]
  },
  {
   "cell_type": "code",
   "execution_count": 12,
   "metadata": {},
   "outputs": [
    {
     "data": {
      "text/plain": [
       "(199004, 9)"
      ]
     },
     "execution_count": 12,
     "metadata": {},
     "output_type": "execute_result"
    }
   ],
   "source": [
    "data.shape"
   ]
  },
  {
   "cell_type": "code",
   "execution_count": 15,
   "metadata": {},
   "outputs": [],
   "source": [
    "data.rename(columns={'class': 'target'}, inplace=True)"
   ]
  },
  {
   "cell_type": "code",
   "execution_count": 19,
   "metadata": {},
   "outputs": [
    {
     "data": {
      "text/html": [
       "<div>\n",
       "<style scoped>\n",
       "    .dataframe tbody tr th:only-of-type {\n",
       "        vertical-align: middle;\n",
       "    }\n",
       "\n",
       "    .dataframe tbody tr th {\n",
       "        vertical-align: top;\n",
       "    }\n",
       "\n",
       "    .dataframe thead th {\n",
       "        text-align: right;\n",
       "    }\n",
       "</style>\n",
       "<table border=\"1\" class=\"dataframe\">\n",
       "  <thead>\n",
       "    <tr style=\"text-align: right;\">\n",
       "      <th></th>\n",
       "      <th>tweet</th>\n",
       "      <th>tweet_punct</th>\n",
       "      <th>tweet_pre</th>\n",
       "      <th>tweet_tokenized</th>\n",
       "      <th>tweet_nonstop</th>\n",
       "      <th>tweet_stemmed</th>\n",
       "      <th>tweet_lemmatized</th>\n",
       "      <th>tweet_clean</th>\n",
       "      <th>target</th>\n",
       "    </tr>\n",
       "  </thead>\n",
       "  <tbody>\n",
       "    <tr>\n",
       "      <th>16840</th>\n",
       "      <td>RT @POONSoaker: Fucking bitches throwing THOTS</td>\n",
       "      <td>RT POONSoaker Fucking bitches throwing THOTS</td>\n",
       "      <td>rt poonsoaker fucking bitches throwing thots</td>\n",
       "      <td>[rt, poonsoaker, fucking, bitches, throwing, t...</td>\n",
       "      <td>[rt, poonsoaker, fucking, bitches, throwing, t...</td>\n",
       "      <td>[rt, poonsoak, fuck, bitch, throw, thot]</td>\n",
       "      <td>[rt, poonsoaker, fucking, bitch, throwing, thots]</td>\n",
       "      <td>[rt, poonsoak, fuck, bitch, throw, thot]</td>\n",
       "      <td>1</td>\n",
       "    </tr>\n",
       "    <tr>\n",
       "      <th>11960</th>\n",
       "      <td>It's no wonder my titanium ankle is killing me...</td>\n",
       "      <td>Its no wonder my titanium ankle is killing me ...</td>\n",
       "      <td>wonder titanium ankle killing woo retarded win...</td>\n",
       "      <td>[wonder, titanium, ankle, killing, woo, retard...</td>\n",
       "      <td>[wonder, titanium, ankle, killing, woo, retard...</td>\n",
       "      <td>[wonder, titanium, ankl, kill, woo, retard, wi...</td>\n",
       "      <td>[wonder, titanium, ankle, killing, woo, retard...</td>\n",
       "      <td>[wonder, titanium, ankl, kill, woo, retard, wi...</td>\n",
       "      <td>1</td>\n",
       "    </tr>\n",
       "    <tr>\n",
       "      <th>105501</th>\n",
       "      <td>\"\\n\\nSomeone thinks \"\"football\"\" as \"\"associat...</td>\n",
       "      <td>\\n\\nSomeone thinks football as association foo...</td>\n",
       "      <td>someone thinks football association football s...</td>\n",
       "      <td>[someone, thinks, football, association, footb...</td>\n",
       "      <td>[someone, thinks, football, association, footb...</td>\n",
       "      <td>[someon, think, footbal, associ, footbal, some...</td>\n",
       "      <td>[someone, think, football, association, footba...</td>\n",
       "      <td>[someon, think, footbal, associ, footbal, some...</td>\n",
       "      <td>0</td>\n",
       "    </tr>\n",
       "    <tr>\n",
       "      <th>112445</th>\n",
       "      <td>Labels \\n\\nAre the record labels an artist is ...</td>\n",
       "      <td>Labels \\n\\nAre the record labels an artist is ...</td>\n",
       "      <td>labels record labels artist signed really impo...</td>\n",
       "      <td>[labels, record, labels, artist, signed, reall...</td>\n",
       "      <td>[labels, record, labels, artist, signed, reall...</td>\n",
       "      <td>[label, record, label, artist, sign, realli, i...</td>\n",
       "      <td>[label, record, label, artist, signed, really,...</td>\n",
       "      <td>[label, record, label, artist, sign, realli, i...</td>\n",
       "      <td>0</td>\n",
       "    </tr>\n",
       "    <tr>\n",
       "      <th>116499</th>\n",
       "      <td>\"\\nAgain, I have reverted the 'link correction...</td>\n",
       "      <td>\\nAgain I have reverted the link correction by...</td>\n",
       "      <td>reverted link correction anonymous user reason...</td>\n",
       "      <td>[reverted, link, correction, anonymous, user, ...</td>\n",
       "      <td>[reverted, link, correction, anonymous, user, ...</td>\n",
       "      <td>[revert, link, correct, anonym, user, reason, ...</td>\n",
       "      <td>[reverted, link, correction, anonymous, user, ...</td>\n",
       "      <td>[revert, link, correct, anonym, user, reason, ...</td>\n",
       "      <td>0</td>\n",
       "    </tr>\n",
       "  </tbody>\n",
       "</table>\n",
       "</div>"
      ],
      "text/plain": [
       "                                                    tweet  \\\n",
       "16840      RT @POONSoaker: Fucking bitches throwing THOTS   \n",
       "11960   It's no wonder my titanium ankle is killing me...   \n",
       "105501  \"\\n\\nSomeone thinks \"\"football\"\" as \"\"associat...   \n",
       "112445  Labels \\n\\nAre the record labels an artist is ...   \n",
       "116499  \"\\nAgain, I have reverted the 'link correction...   \n",
       "\n",
       "                                              tweet_punct  \\\n",
       "16840        RT POONSoaker Fucking bitches throwing THOTS   \n",
       "11960   Its no wonder my titanium ankle is killing me ...   \n",
       "105501  \\n\\nSomeone thinks football as association foo...   \n",
       "112445  Labels \\n\\nAre the record labels an artist is ...   \n",
       "116499  \\nAgain I have reverted the link correction by...   \n",
       "\n",
       "                                                tweet_pre  \\\n",
       "16840        rt poonsoaker fucking bitches throwing thots   \n",
       "11960   wonder titanium ankle killing woo retarded win...   \n",
       "105501  someone thinks football association football s...   \n",
       "112445  labels record labels artist signed really impo...   \n",
       "116499  reverted link correction anonymous user reason...   \n",
       "\n",
       "                                          tweet_tokenized  \\\n",
       "16840   [rt, poonsoaker, fucking, bitches, throwing, t...   \n",
       "11960   [wonder, titanium, ankle, killing, woo, retard...   \n",
       "105501  [someone, thinks, football, association, footb...   \n",
       "112445  [labels, record, labels, artist, signed, reall...   \n",
       "116499  [reverted, link, correction, anonymous, user, ...   \n",
       "\n",
       "                                            tweet_nonstop  \\\n",
       "16840   [rt, poonsoaker, fucking, bitches, throwing, t...   \n",
       "11960   [wonder, titanium, ankle, killing, woo, retard...   \n",
       "105501  [someone, thinks, football, association, footb...   \n",
       "112445  [labels, record, labels, artist, signed, reall...   \n",
       "116499  [reverted, link, correction, anonymous, user, ...   \n",
       "\n",
       "                                            tweet_stemmed  \\\n",
       "16840            [rt, poonsoak, fuck, bitch, throw, thot]   \n",
       "11960   [wonder, titanium, ankl, kill, woo, retard, wi...   \n",
       "105501  [someon, think, footbal, associ, footbal, some...   \n",
       "112445  [label, record, label, artist, sign, realli, i...   \n",
       "116499  [revert, link, correct, anonym, user, reason, ...   \n",
       "\n",
       "                                         tweet_lemmatized  \\\n",
       "16840   [rt, poonsoaker, fucking, bitch, throwing, thots]   \n",
       "11960   [wonder, titanium, ankle, killing, woo, retard...   \n",
       "105501  [someone, think, football, association, footba...   \n",
       "112445  [label, record, label, artist, signed, really,...   \n",
       "116499  [reverted, link, correction, anonymous, user, ...   \n",
       "\n",
       "                                              tweet_clean  target  \n",
       "16840            [rt, poonsoak, fuck, bitch, throw, thot]       1  \n",
       "11960   [wonder, titanium, ankl, kill, woo, retard, wi...       1  \n",
       "105501  [someon, think, footbal, associ, footbal, some...       0  \n",
       "112445  [label, record, label, artist, sign, realli, i...       0  \n",
       "116499  [revert, link, correct, anonym, user, reason, ...       0  "
      ]
     },
     "execution_count": 19,
     "metadata": {},
     "output_type": "execute_result"
    }
   ],
   "source": [
    "data.head()"
   ]
  },
  {
   "cell_type": "code",
   "execution_count": 21,
   "metadata": {},
   "outputs": [
    {
     "data": {
      "text/html": [
       "<div>\n",
       "<style scoped>\n",
       "    .dataframe tbody tr th:only-of-type {\n",
       "        vertical-align: middle;\n",
       "    }\n",
       "\n",
       "    .dataframe tbody tr th {\n",
       "        vertical-align: top;\n",
       "    }\n",
       "\n",
       "    .dataframe thead th {\n",
       "        text-align: right;\n",
       "    }\n",
       "</style>\n",
       "<table border=\"1\" class=\"dataframe\">\n",
       "  <thead>\n",
       "    <tr style=\"text-align: right;\">\n",
       "      <th></th>\n",
       "      <th>tweet</th>\n",
       "      <th>tweet_punct</th>\n",
       "      <th>tweet_pre</th>\n",
       "      <th>tweet_tokenized</th>\n",
       "      <th>tweet_nonstop</th>\n",
       "      <th>tweet_stemmed</th>\n",
       "      <th>tweet_lemmatized</th>\n",
       "      <th>tweet_clean</th>\n",
       "      <th>target</th>\n",
       "    </tr>\n",
       "  </thead>\n",
       "  <tbody>\n",
       "    <tr>\n",
       "      <th>16840</th>\n",
       "      <td>RT @POONSoaker: Fucking bitches throwing THOTS</td>\n",
       "      <td>RT POONSoaker Fucking bitches throwing THOTS</td>\n",
       "      <td>rt poonsoaker fucking bitches throwing thots</td>\n",
       "      <td>[rt, poonsoaker, fucking, bitches, throwing, t...</td>\n",
       "      <td>[rt, poonsoaker, fucking, bitches, throwing, t...</td>\n",
       "      <td>[rt, poonsoak, fuck, bitch, throw, thot]</td>\n",
       "      <td>[rt, poonsoaker, fucking, bitch, throwing, thots]</td>\n",
       "      <td>[rt, poonsoak, fuck, bitch, throw, thot]</td>\n",
       "      <td>1</td>\n",
       "    </tr>\n",
       "    <tr>\n",
       "      <th>11960</th>\n",
       "      <td>It's no wonder my titanium ankle is killing me...</td>\n",
       "      <td>Its no wonder my titanium ankle is killing me ...</td>\n",
       "      <td>wonder titanium ankle killing woo retarded win...</td>\n",
       "      <td>[wonder, titanium, ankle, killing, woo, retard...</td>\n",
       "      <td>[wonder, titanium, ankle, killing, woo, retard...</td>\n",
       "      <td>[wonder, titanium, ankl, kill, woo, retard, wi...</td>\n",
       "      <td>[wonder, titanium, ankle, killing, woo, retard...</td>\n",
       "      <td>[wonder, titanium, ankl, kill, woo, retard, wi...</td>\n",
       "      <td>1</td>\n",
       "    </tr>\n",
       "    <tr>\n",
       "      <th>131291</th>\n",
       "      <td>\"\\n\\n 100 point game \\n\\nI think you are a mor...</td>\n",
       "      <td>\\n\\n  point game \\n\\nI think you are a moron b...</td>\n",
       "      <td>point game think moron many times youre first ...</td>\n",
       "      <td>[point, game, think, moron, many, times, youre...</td>\n",
       "      <td>[point, game, think, moron, many, times, youre...</td>\n",
       "      <td>[point, game, think, moron, mani, time, your, ...</td>\n",
       "      <td>[point, game, think, moron, many, time, youre,...</td>\n",
       "      <td>[point, game, think, moron, mani, time, your, ...</td>\n",
       "      <td>1</td>\n",
       "    </tr>\n",
       "    <tr>\n",
       "      <th>6331</th>\n",
       "      <td>@kade_melton he triesto cause drama between pe...</td>\n",
       "      <td>kademelton he triesto cause drama between peop...</td>\n",
       "      <td>kademelton triesto cause drama people said cal...</td>\n",
       "      <td>[kademelton, triesto, cause, drama, people, sa...</td>\n",
       "      <td>[kademelton, triesto, cause, drama, people, sa...</td>\n",
       "      <td>[kademelton, triesto, caus, drama, peopl, said...</td>\n",
       "      <td>[kademelton, triesto, cause, drama, people, sa...</td>\n",
       "      <td>[kademelton, triesto, caus, drama, peopl, said...</td>\n",
       "      <td>1</td>\n",
       "    </tr>\n",
       "    <tr>\n",
       "      <th>10921</th>\n",
       "      <td>I swear females think they know me.... bitch y...</td>\n",
       "      <td>I swear females think they know me bitch you d...</td>\n",
       "      <td>swear females think know bitch dont know inten...</td>\n",
       "      <td>[swear, females, think, know, bitch, dont, kno...</td>\n",
       "      <td>[swear, females, think, know, bitch, dont, kno...</td>\n",
       "      <td>[swear, femal, think, know, bitch, dont, know,...</td>\n",
       "      <td>[swear, female, think, know, bitch, dont, know...</td>\n",
       "      <td>[swear, femal, think, know, bitch, dont, know,...</td>\n",
       "      <td>1</td>\n",
       "    </tr>\n",
       "  </tbody>\n",
       "</table>\n",
       "</div>"
      ],
      "text/plain": [
       "                                                    tweet  \\\n",
       "16840      RT @POONSoaker: Fucking bitches throwing THOTS   \n",
       "11960   It's no wonder my titanium ankle is killing me...   \n",
       "131291  \"\\n\\n 100 point game \\n\\nI think you are a mor...   \n",
       "6331    @kade_melton he triesto cause drama between pe...   \n",
       "10921   I swear females think they know me.... bitch y...   \n",
       "\n",
       "                                              tweet_punct  \\\n",
       "16840        RT POONSoaker Fucking bitches throwing THOTS   \n",
       "11960   Its no wonder my titanium ankle is killing me ...   \n",
       "131291  \\n\\n  point game \\n\\nI think you are a moron b...   \n",
       "6331    kademelton he triesto cause drama between peop...   \n",
       "10921   I swear females think they know me bitch you d...   \n",
       "\n",
       "                                                tweet_pre  \\\n",
       "16840        rt poonsoaker fucking bitches throwing thots   \n",
       "11960   wonder titanium ankle killing woo retarded win...   \n",
       "131291  point game think moron many times youre first ...   \n",
       "6331    kademelton triesto cause drama people said cal...   \n",
       "10921   swear females think know bitch dont know inten...   \n",
       "\n",
       "                                          tweet_tokenized  \\\n",
       "16840   [rt, poonsoaker, fucking, bitches, throwing, t...   \n",
       "11960   [wonder, titanium, ankle, killing, woo, retard...   \n",
       "131291  [point, game, think, moron, many, times, youre...   \n",
       "6331    [kademelton, triesto, cause, drama, people, sa...   \n",
       "10921   [swear, females, think, know, bitch, dont, kno...   \n",
       "\n",
       "                                            tweet_nonstop  \\\n",
       "16840   [rt, poonsoaker, fucking, bitches, throwing, t...   \n",
       "11960   [wonder, titanium, ankle, killing, woo, retard...   \n",
       "131291  [point, game, think, moron, many, times, youre...   \n",
       "6331    [kademelton, triesto, cause, drama, people, sa...   \n",
       "10921   [swear, females, think, know, bitch, dont, kno...   \n",
       "\n",
       "                                            tweet_stemmed  \\\n",
       "16840            [rt, poonsoak, fuck, bitch, throw, thot]   \n",
       "11960   [wonder, titanium, ankl, kill, woo, retard, wi...   \n",
       "131291  [point, game, think, moron, mani, time, your, ...   \n",
       "6331    [kademelton, triesto, caus, drama, peopl, said...   \n",
       "10921   [swear, femal, think, know, bitch, dont, know,...   \n",
       "\n",
       "                                         tweet_lemmatized  \\\n",
       "16840   [rt, poonsoaker, fucking, bitch, throwing, thots]   \n",
       "11960   [wonder, titanium, ankle, killing, woo, retard...   \n",
       "131291  [point, game, think, moron, many, time, youre,...   \n",
       "6331    [kademelton, triesto, cause, drama, people, sa...   \n",
       "10921   [swear, female, think, know, bitch, dont, know...   \n",
       "\n",
       "                                              tweet_clean  target  \n",
       "16840            [rt, poonsoak, fuck, bitch, throw, thot]       1  \n",
       "11960   [wonder, titanium, ankl, kill, woo, retard, wi...       1  \n",
       "131291  [point, game, think, moron, mani, time, your, ...       1  \n",
       "6331    [kademelton, triesto, caus, drama, peopl, said...       1  \n",
       "10921   [swear, femal, think, know, bitch, dont, know,...       1  "
      ]
     },
     "execution_count": 21,
     "metadata": {},
     "output_type": "execute_result"
    }
   ],
   "source": [
    "data_hate = data.loc[data['target'] == 1]\n",
    "data_hate.head()"
   ]
  },
  {
   "cell_type": "code",
   "execution_count": 22,
   "metadata": {},
   "outputs": [
    {
     "data": {
      "text/plain": [
       "(39090, 9)"
      ]
     },
     "execution_count": 22,
     "metadata": {},
     "output_type": "execute_result"
    }
   ],
   "source": [
    "data_hate.shape"
   ]
  },
  {
   "cell_type": "code",
   "execution_count": 23,
   "metadata": {},
   "outputs": [
    {
     "data": {
      "text/html": [
       "<div>\n",
       "<style scoped>\n",
       "    .dataframe tbody tr th:only-of-type {\n",
       "        vertical-align: middle;\n",
       "    }\n",
       "\n",
       "    .dataframe tbody tr th {\n",
       "        vertical-align: top;\n",
       "    }\n",
       "\n",
       "    .dataframe thead th {\n",
       "        text-align: right;\n",
       "    }\n",
       "</style>\n",
       "<table border=\"1\" class=\"dataframe\">\n",
       "  <thead>\n",
       "    <tr style=\"text-align: right;\">\n",
       "      <th></th>\n",
       "      <th>tweet</th>\n",
       "      <th>tweet_punct</th>\n",
       "      <th>tweet_pre</th>\n",
       "      <th>tweet_tokenized</th>\n",
       "      <th>tweet_nonstop</th>\n",
       "      <th>tweet_stemmed</th>\n",
       "      <th>tweet_lemmatized</th>\n",
       "      <th>tweet_clean</th>\n",
       "      <th>target</th>\n",
       "    </tr>\n",
       "  </thead>\n",
       "  <tbody>\n",
       "    <tr>\n",
       "      <th>105501</th>\n",
       "      <td>\"\\n\\nSomeone thinks \"\"football\"\" as \"\"associat...</td>\n",
       "      <td>\\n\\nSomeone thinks football as association foo...</td>\n",
       "      <td>someone thinks football association football s...</td>\n",
       "      <td>[someone, thinks, football, association, footb...</td>\n",
       "      <td>[someone, thinks, football, association, footb...</td>\n",
       "      <td>[someon, think, footbal, associ, footbal, some...</td>\n",
       "      <td>[someone, think, football, association, footba...</td>\n",
       "      <td>[someon, think, footbal, associ, footbal, some...</td>\n",
       "      <td>0</td>\n",
       "    </tr>\n",
       "    <tr>\n",
       "      <th>112445</th>\n",
       "      <td>Labels \\n\\nAre the record labels an artist is ...</td>\n",
       "      <td>Labels \\n\\nAre the record labels an artist is ...</td>\n",
       "      <td>labels record labels artist signed really impo...</td>\n",
       "      <td>[labels, record, labels, artist, signed, reall...</td>\n",
       "      <td>[labels, record, labels, artist, signed, reall...</td>\n",
       "      <td>[label, record, label, artist, sign, realli, i...</td>\n",
       "      <td>[label, record, label, artist, signed, really,...</td>\n",
       "      <td>[label, record, label, artist, sign, realli, i...</td>\n",
       "      <td>0</td>\n",
       "    </tr>\n",
       "    <tr>\n",
       "      <th>116499</th>\n",
       "      <td>\"\\nAgain, I have reverted the 'link correction...</td>\n",
       "      <td>\\nAgain I have reverted the link correction by...</td>\n",
       "      <td>reverted link correction anonymous user reason...</td>\n",
       "      <td>[reverted, link, correction, anonymous, user, ...</td>\n",
       "      <td>[reverted, link, correction, anonymous, user, ...</td>\n",
       "      <td>[revert, link, correct, anonym, user, reason, ...</td>\n",
       "      <td>[reverted, link, correction, anonymous, user, ...</td>\n",
       "      <td>[revert, link, correct, anonym, user, reason, ...</td>\n",
       "      <td>0</td>\n",
       "    </tr>\n",
       "    <tr>\n",
       "      <th>111350</th>\n",
       "      <td>No problem... but there were actually two othe...</td>\n",
       "      <td>No problem but there were actually two other N...</td>\n",
       "      <td>problem actually two njleg entries outstanding...</td>\n",
       "      <td>[problem, actually, two, njleg, entries, outst...</td>\n",
       "      <td>[problem, actually, two, njleg, entries, outst...</td>\n",
       "      <td>[problem, actual, two, njleg, entri, outstand,...</td>\n",
       "      <td>[problem, actually, two, njleg, entry, outstan...</td>\n",
       "      <td>[problem, actual, two, njleg, entri, outstand,...</td>\n",
       "      <td>0</td>\n",
       "    </tr>\n",
       "    <tr>\n",
       "      <th>94360</th>\n",
       "      <td>\"\\n\\n Wikilings exposed at http://rexcurry.net...</td>\n",
       "      <td>\\n\\n Wikilings exposed at httprexcurrynetwikip...</td>\n",
       "      <td>wikilings exposed httprexcurrynetwikipedialies...</td>\n",
       "      <td>[wikilings, exposed, httprexcurrynetwikipedial...</td>\n",
       "      <td>[wikilings, exposed, httprexcurrynetwikipedial...</td>\n",
       "      <td>[wikil, expos, httprexcurrynetwikipedialieshtm...</td>\n",
       "      <td>[wikilings, exposed, httprexcurrynetwikipedial...</td>\n",
       "      <td>[wikil, expos, httprexcurrynetwikipedialieshtm...</td>\n",
       "      <td>0</td>\n",
       "    </tr>\n",
       "  </tbody>\n",
       "</table>\n",
       "</div>"
      ],
      "text/plain": [
       "                                                    tweet  \\\n",
       "105501  \"\\n\\nSomeone thinks \"\"football\"\" as \"\"associat...   \n",
       "112445  Labels \\n\\nAre the record labels an artist is ...   \n",
       "116499  \"\\nAgain, I have reverted the 'link correction...   \n",
       "111350  No problem... but there were actually two othe...   \n",
       "94360   \"\\n\\n Wikilings exposed at http://rexcurry.net...   \n",
       "\n",
       "                                              tweet_punct  \\\n",
       "105501  \\n\\nSomeone thinks football as association foo...   \n",
       "112445  Labels \\n\\nAre the record labels an artist is ...   \n",
       "116499  \\nAgain I have reverted the link correction by...   \n",
       "111350  No problem but there were actually two other N...   \n",
       "94360   \\n\\n Wikilings exposed at httprexcurrynetwikip...   \n",
       "\n",
       "                                                tweet_pre  \\\n",
       "105501  someone thinks football association football s...   \n",
       "112445  labels record labels artist signed really impo...   \n",
       "116499  reverted link correction anonymous user reason...   \n",
       "111350  problem actually two njleg entries outstanding...   \n",
       "94360   wikilings exposed httprexcurrynetwikipedialies...   \n",
       "\n",
       "                                          tweet_tokenized  \\\n",
       "105501  [someone, thinks, football, association, footb...   \n",
       "112445  [labels, record, labels, artist, signed, reall...   \n",
       "116499  [reverted, link, correction, anonymous, user, ...   \n",
       "111350  [problem, actually, two, njleg, entries, outst...   \n",
       "94360   [wikilings, exposed, httprexcurrynetwikipedial...   \n",
       "\n",
       "                                            tweet_nonstop  \\\n",
       "105501  [someone, thinks, football, association, footb...   \n",
       "112445  [labels, record, labels, artist, signed, reall...   \n",
       "116499  [reverted, link, correction, anonymous, user, ...   \n",
       "111350  [problem, actually, two, njleg, entries, outst...   \n",
       "94360   [wikilings, exposed, httprexcurrynetwikipedial...   \n",
       "\n",
       "                                            tweet_stemmed  \\\n",
       "105501  [someon, think, footbal, associ, footbal, some...   \n",
       "112445  [label, record, label, artist, sign, realli, i...   \n",
       "116499  [revert, link, correct, anonym, user, reason, ...   \n",
       "111350  [problem, actual, two, njleg, entri, outstand,...   \n",
       "94360   [wikil, expos, httprexcurrynetwikipedialieshtm...   \n",
       "\n",
       "                                         tweet_lemmatized  \\\n",
       "105501  [someone, think, football, association, footba...   \n",
       "112445  [label, record, label, artist, signed, really,...   \n",
       "116499  [reverted, link, correction, anonymous, user, ...   \n",
       "111350  [problem, actually, two, njleg, entry, outstan...   \n",
       "94360   [wikilings, exposed, httprexcurrynetwikipedial...   \n",
       "\n",
       "                                              tweet_clean  target  \n",
       "105501  [someon, think, footbal, associ, footbal, some...       0  \n",
       "112445  [label, record, label, artist, sign, realli, i...       0  \n",
       "116499  [revert, link, correct, anonym, user, reason, ...       0  \n",
       "111350  [problem, actual, two, njleg, entri, outstand,...       0  \n",
       "94360   [wikil, expos, httprexcurrynetwikipedialieshtm...       0  "
      ]
     },
     "execution_count": 23,
     "metadata": {},
     "output_type": "execute_result"
    }
   ],
   "source": [
    "data_unhate = data.loc[data['target'] == 0]\n",
    "data_unhate.head()"
   ]
  },
  {
   "cell_type": "code",
   "execution_count": 24,
   "metadata": {},
   "outputs": [
    {
     "data": {
      "text/plain": [
       "(159914, 9)"
      ]
     },
     "execution_count": 24,
     "metadata": {},
     "output_type": "execute_result"
    }
   ],
   "source": [
    "data_unhate.shape"
   ]
  },
  {
   "cell_type": "code",
   "execution_count": 25,
   "metadata": {},
   "outputs": [
    {
     "data": {
      "text/html": [
       "<div>\n",
       "<style scoped>\n",
       "    .dataframe tbody tr th:only-of-type {\n",
       "        vertical-align: middle;\n",
       "    }\n",
       "\n",
       "    .dataframe tbody tr th {\n",
       "        vertical-align: top;\n",
       "    }\n",
       "\n",
       "    .dataframe thead th {\n",
       "        text-align: right;\n",
       "    }\n",
       "</style>\n",
       "<table border=\"1\" class=\"dataframe\">\n",
       "  <thead>\n",
       "    <tr style=\"text-align: right;\">\n",
       "      <th></th>\n",
       "      <th>tweet</th>\n",
       "      <th>tweet_punct</th>\n",
       "      <th>tweet_pre</th>\n",
       "      <th>tweet_tokenized</th>\n",
       "      <th>tweet_nonstop</th>\n",
       "      <th>tweet_stemmed</th>\n",
       "      <th>tweet_lemmatized</th>\n",
       "      <th>tweet_clean</th>\n",
       "      <th>target</th>\n",
       "    </tr>\n",
       "  </thead>\n",
       "  <tbody>\n",
       "    <tr>\n",
       "      <th>65515</th>\n",
       "      <td>Probably not. If you want to include such a th...</td>\n",
       "      <td>Probably not If you want to include such a thi...</td>\n",
       "      <td>probably want include thing make section menti...</td>\n",
       "      <td>[probably, want, include, thing, make, section...</td>\n",
       "      <td>[probably, want, include, thing, make, section...</td>\n",
       "      <td>[probabl, want, includ, thing, make, section, ...</td>\n",
       "      <td>[probably, want, include, thing, make, section...</td>\n",
       "      <td>[probabl, want, includ, thing, make, section, ...</td>\n",
       "      <td>0</td>\n",
       "    </tr>\n",
       "    <tr>\n",
       "      <th>60694</th>\n",
       "      <td>\"\\nThanks\\nThanks for the message\\nIAMR (or wh...</td>\n",
       "      <td>\\nThanks\\nThanks for the message\\nIAMR or what...</td>\n",
       "      <td>thanks thanks message iamr whatever deleted th...</td>\n",
       "      <td>[thanks, thanks, message, iamr, whatever, dele...</td>\n",
       "      <td>[thanks, thanks, message, iamr, whatever, dele...</td>\n",
       "      <td>[thank, thank, messag, iamr, whatev, delet, th...</td>\n",
       "      <td>[thanks, thanks, message, iamr, whatever, dele...</td>\n",
       "      <td>[thank, thank, messag, iamr, whatev, delet, th...</td>\n",
       "      <td>0</td>\n",
       "    </tr>\n",
       "    <tr>\n",
       "      <th>97185</th>\n",
       "      <td>catskill mountains \\n\\nhave given reason. is u...</td>\n",
       "      <td>catskill mountains \\n\\nhave given reason is un...</td>\n",
       "      <td>catskill mountains given reason unsourced mate...</td>\n",
       "      <td>[catskill, mountains, given, reason, unsourced...</td>\n",
       "      <td>[catskill, mountains, given, reason, unsourced...</td>\n",
       "      <td>[catskil, mountain, given, reason, unsourc, ma...</td>\n",
       "      <td>[catskill, mountain, given, reason, unsourced,...</td>\n",
       "      <td>[catskil, mountain, given, reason, unsourc, ma...</td>\n",
       "      <td>0</td>\n",
       "    </tr>\n",
       "    <tr>\n",
       "      <th>125373</th>\n",
       "      <td>Erie, Pennsylvania \\nPlease refrain from addin...</td>\n",
       "      <td>Erie Pennsylvania \\nPlease refrain from adding...</td>\n",
       "      <td>erie pennsylvania please refrain adding nonsen...</td>\n",
       "      <td>[erie, pennsylvania, please, refrain, adding, ...</td>\n",
       "      <td>[erie, pennsylvania, please, refrain, adding, ...</td>\n",
       "      <td>[eri, pennsylvania, pleas, refrain, ad, nonsen...</td>\n",
       "      <td>[erie, pennsylvania, please, refrain, adding, ...</td>\n",
       "      <td>[eri, pennsylvania, pleas, refrain, ad, nonsen...</td>\n",
       "      <td>0</td>\n",
       "    </tr>\n",
       "    <tr>\n",
       "      <th>36675</th>\n",
       "      <td>The sources tend to indicate that his being Af...</td>\n",
       "      <td>The sources tend to indicate that his being Af...</td>\n",
       "      <td>sources tend indicate africanamerican fact fir...</td>\n",
       "      <td>[sources, tend, indicate, africanamerican, fac...</td>\n",
       "      <td>[sources, tend, indicate, africanamerican, fac...</td>\n",
       "      <td>[sourc, tend, indic, africanamerican, fact, fi...</td>\n",
       "      <td>[source, tend, indicate, africanamerican, fact...</td>\n",
       "      <td>[sourc, tend, indic, africanamerican, fact, fi...</td>\n",
       "      <td>0</td>\n",
       "    </tr>\n",
       "  </tbody>\n",
       "</table>\n",
       "</div>"
      ],
      "text/plain": [
       "                                                    tweet  \\\n",
       "65515   Probably not. If you want to include such a th...   \n",
       "60694   \"\\nThanks\\nThanks for the message\\nIAMR (or wh...   \n",
       "97185   catskill mountains \\n\\nhave given reason. is u...   \n",
       "125373  Erie, Pennsylvania \\nPlease refrain from addin...   \n",
       "36675   The sources tend to indicate that his being Af...   \n",
       "\n",
       "                                              tweet_punct  \\\n",
       "65515   Probably not If you want to include such a thi...   \n",
       "60694   \\nThanks\\nThanks for the message\\nIAMR or what...   \n",
       "97185   catskill mountains \\n\\nhave given reason is un...   \n",
       "125373  Erie Pennsylvania \\nPlease refrain from adding...   \n",
       "36675   The sources tend to indicate that his being Af...   \n",
       "\n",
       "                                                tweet_pre  \\\n",
       "65515   probably want include thing make section menti...   \n",
       "60694   thanks thanks message iamr whatever deleted th...   \n",
       "97185   catskill mountains given reason unsourced mate...   \n",
       "125373  erie pennsylvania please refrain adding nonsen...   \n",
       "36675   sources tend indicate africanamerican fact fir...   \n",
       "\n",
       "                                          tweet_tokenized  \\\n",
       "65515   [probably, want, include, thing, make, section...   \n",
       "60694   [thanks, thanks, message, iamr, whatever, dele...   \n",
       "97185   [catskill, mountains, given, reason, unsourced...   \n",
       "125373  [erie, pennsylvania, please, refrain, adding, ...   \n",
       "36675   [sources, tend, indicate, africanamerican, fac...   \n",
       "\n",
       "                                            tweet_nonstop  \\\n",
       "65515   [probably, want, include, thing, make, section...   \n",
       "60694   [thanks, thanks, message, iamr, whatever, dele...   \n",
       "97185   [catskill, mountains, given, reason, unsourced...   \n",
       "125373  [erie, pennsylvania, please, refrain, adding, ...   \n",
       "36675   [sources, tend, indicate, africanamerican, fac...   \n",
       "\n",
       "                                            tweet_stemmed  \\\n",
       "65515   [probabl, want, includ, thing, make, section, ...   \n",
       "60694   [thank, thank, messag, iamr, whatev, delet, th...   \n",
       "97185   [catskil, mountain, given, reason, unsourc, ma...   \n",
       "125373  [eri, pennsylvania, pleas, refrain, ad, nonsen...   \n",
       "36675   [sourc, tend, indic, africanamerican, fact, fi...   \n",
       "\n",
       "                                         tweet_lemmatized  \\\n",
       "65515   [probably, want, include, thing, make, section...   \n",
       "60694   [thanks, thanks, message, iamr, whatever, dele...   \n",
       "97185   [catskill, mountain, given, reason, unsourced,...   \n",
       "125373  [erie, pennsylvania, please, refrain, adding, ...   \n",
       "36675   [source, tend, indicate, africanamerican, fact...   \n",
       "\n",
       "                                              tweet_clean  target  \n",
       "65515   [probabl, want, includ, thing, make, section, ...       0  \n",
       "60694   [thank, thank, messag, iamr, whatev, delet, th...       0  \n",
       "97185   [catskil, mountain, given, reason, unsourc, ma...       0  \n",
       "125373  [eri, pennsylvania, pleas, refrain, ad, nonsen...       0  \n",
       "36675   [sourc, tend, indic, africanamerican, fact, fi...       0  "
      ]
     },
     "execution_count": 25,
     "metadata": {},
     "output_type": "execute_result"
    }
   ],
   "source": [
    "data_unhate = data_unhate.sample(39090)\n",
    "data_unhate.head()"
   ]
  },
  {
   "cell_type": "code",
   "execution_count": 26,
   "metadata": {},
   "outputs": [
    {
     "data": {
      "text/plain": [
       "(39090, 9)"
      ]
     },
     "execution_count": 26,
     "metadata": {},
     "output_type": "execute_result"
    }
   ],
   "source": [
    "data_unhate.shape"
   ]
  },
  {
   "cell_type": "code",
   "execution_count": 27,
   "metadata": {},
   "outputs": [
    {
     "data": {
      "text/html": [
       "<div>\n",
       "<style scoped>\n",
       "    .dataframe tbody tr th:only-of-type {\n",
       "        vertical-align: middle;\n",
       "    }\n",
       "\n",
       "    .dataframe tbody tr th {\n",
       "        vertical-align: top;\n",
       "    }\n",
       "\n",
       "    .dataframe thead th {\n",
       "        text-align: right;\n",
       "    }\n",
       "</style>\n",
       "<table border=\"1\" class=\"dataframe\">\n",
       "  <thead>\n",
       "    <tr style=\"text-align: right;\">\n",
       "      <th></th>\n",
       "      <th>tweet</th>\n",
       "      <th>tweet_punct</th>\n",
       "      <th>tweet_pre</th>\n",
       "      <th>tweet_tokenized</th>\n",
       "      <th>tweet_nonstop</th>\n",
       "      <th>tweet_stemmed</th>\n",
       "      <th>tweet_lemmatized</th>\n",
       "      <th>tweet_clean</th>\n",
       "      <th>target</th>\n",
       "    </tr>\n",
       "  </thead>\n",
       "  <tbody>\n",
       "    <tr>\n",
       "      <th>1906</th>\n",
       "      <td>&amp;#8220;@souljaboy: @kmichelle ur pussy smell l...</td>\n",
       "      <td>souljaboy kmichelle ur pussy smell like dumpst...</td>\n",
       "      <td>souljaboy kmichelle ur pussy smell like dumpst...</td>\n",
       "      <td>[souljaboy, kmichelle, ur, pussy, smell, like,...</td>\n",
       "      <td>[souljaboy, kmichelle, ur, pussy, smell, like,...</td>\n",
       "      <td>[souljaboy, kmichel, ur, pussi, smell, like, d...</td>\n",
       "      <td>[souljaboy, kmichelle, ur, pussy, smell, like,...</td>\n",
       "      <td>[souljaboy, kmichel, ur, pussi, smell, like, d...</td>\n",
       "      <td>1</td>\n",
       "    </tr>\n",
       "    <tr>\n",
       "      <th>158454</th>\n",
       "      <td>HI\\n\\nI HATE TURKS A LOT, MAYBE ONE DAY THERE ...</td>\n",
       "      <td>HI\\n\\nI HATE TURKS A LOT MAYBE ONE DAY THERE W...</td>\n",
       "      <td>hi hate turks lot maybe one day war greece tur...</td>\n",
       "      <td>[hi, hate, turks, lot, maybe, one, day, war, g...</td>\n",
       "      <td>[hi, hate, turks, lot, maybe, one, day, war, g...</td>\n",
       "      <td>[hi, hate, turk, lot, mayb, one, day, war, gre...</td>\n",
       "      <td>[hi, hate, turk, lot, maybe, one, day, war, gr...</td>\n",
       "      <td>[hi, hate, turk, lot, mayb, one, day, war, gre...</td>\n",
       "      <td>1</td>\n",
       "    </tr>\n",
       "    <tr>\n",
       "      <th>1521</th>\n",
       "      <td>Poor editing? The edit looks fine!!! WTF is th...</td>\n",
       "      <td>Poor editing The edit looks fine WTF is the ma...</td>\n",
       "      <td>poor editing edit looks fine wtf matter</td>\n",
       "      <td>[poor, editing, edit, looks, fine, wtf, matter]</td>\n",
       "      <td>[poor, editing, edit, looks, fine, wtf, matter]</td>\n",
       "      <td>[poor, edit, edit, look, fine, wtf, matter]</td>\n",
       "      <td>[poor, editing, edit, look, fine, wtf, matter]</td>\n",
       "      <td>[poor, edit, edit, look, fine, wtf, matter]</td>\n",
       "      <td>1</td>\n",
       "    </tr>\n",
       "    <tr>\n",
       "      <th>116649</th>\n",
       "      <td>wow, all this crap over some faory stories. wh...</td>\n",
       "      <td>wow all this crap over some faory stories what...</td>\n",
       "      <td>wow crap faory stories bunch douches</td>\n",
       "      <td>[wow, crap, faory, stories, bunch, douches]</td>\n",
       "      <td>[wow, crap, faory, stories, bunch, douches]</td>\n",
       "      <td>[wow, crap, faori, stori, bunch, douch]</td>\n",
       "      <td>[wow, crap, faory, story, bunch, douche]</td>\n",
       "      <td>[wow, crap, faori, stori, bunch, douch]</td>\n",
       "      <td>1</td>\n",
       "    </tr>\n",
       "    <tr>\n",
       "      <th>6960</th>\n",
       "      <td>@samross58 it's parseltounge, not basilisk you...</td>\n",
       "      <td>samross its parseltounge not basilisk you fuck...</td>\n",
       "      <td>samross parseltounge basilisk fucking pussy ge...</td>\n",
       "      <td>[samross, parseltounge, basilisk, fucking, pus...</td>\n",
       "      <td>[samross, parseltounge, basilisk, fucking, pus...</td>\n",
       "      <td>[samross, parseltoung, basilisk, fuck, pussi, ...</td>\n",
       "      <td>[samross, parseltounge, basilisk, fucking, pus...</td>\n",
       "      <td>[samross, parseltoung, basilisk, fuck, pussi, ...</td>\n",
       "      <td>1</td>\n",
       "    </tr>\n",
       "  </tbody>\n",
       "</table>\n",
       "</div>"
      ],
      "text/plain": [
       "                                                    tweet  \\\n",
       "1906    &#8220;@souljaboy: @kmichelle ur pussy smell l...   \n",
       "158454  HI\\n\\nI HATE TURKS A LOT, MAYBE ONE DAY THERE ...   \n",
       "1521    Poor editing? The edit looks fine!!! WTF is th...   \n",
       "116649  wow, all this crap over some faory stories. wh...   \n",
       "6960    @samross58 it's parseltounge, not basilisk you...   \n",
       "\n",
       "                                              tweet_punct  \\\n",
       "1906    souljaboy kmichelle ur pussy smell like dumpst...   \n",
       "158454  HI\\n\\nI HATE TURKS A LOT MAYBE ONE DAY THERE W...   \n",
       "1521    Poor editing The edit looks fine WTF is the ma...   \n",
       "116649  wow all this crap over some faory stories what...   \n",
       "6960    samross its parseltounge not basilisk you fuck...   \n",
       "\n",
       "                                                tweet_pre  \\\n",
       "1906    souljaboy kmichelle ur pussy smell like dumpst...   \n",
       "158454  hi hate turks lot maybe one day war greece tur...   \n",
       "1521              poor editing edit looks fine wtf matter   \n",
       "116649               wow crap faory stories bunch douches   \n",
       "6960    samross parseltounge basilisk fucking pussy ge...   \n",
       "\n",
       "                                          tweet_tokenized  \\\n",
       "1906    [souljaboy, kmichelle, ur, pussy, smell, like,...   \n",
       "158454  [hi, hate, turks, lot, maybe, one, day, war, g...   \n",
       "1521      [poor, editing, edit, looks, fine, wtf, matter]   \n",
       "116649        [wow, crap, faory, stories, bunch, douches]   \n",
       "6960    [samross, parseltounge, basilisk, fucking, pus...   \n",
       "\n",
       "                                            tweet_nonstop  \\\n",
       "1906    [souljaboy, kmichelle, ur, pussy, smell, like,...   \n",
       "158454  [hi, hate, turks, lot, maybe, one, day, war, g...   \n",
       "1521      [poor, editing, edit, looks, fine, wtf, matter]   \n",
       "116649        [wow, crap, faory, stories, bunch, douches]   \n",
       "6960    [samross, parseltounge, basilisk, fucking, pus...   \n",
       "\n",
       "                                            tweet_stemmed  \\\n",
       "1906    [souljaboy, kmichel, ur, pussi, smell, like, d...   \n",
       "158454  [hi, hate, turk, lot, mayb, one, day, war, gre...   \n",
       "1521          [poor, edit, edit, look, fine, wtf, matter]   \n",
       "116649            [wow, crap, faori, stori, bunch, douch]   \n",
       "6960    [samross, parseltoung, basilisk, fuck, pussi, ...   \n",
       "\n",
       "                                         tweet_lemmatized  \\\n",
       "1906    [souljaboy, kmichelle, ur, pussy, smell, like,...   \n",
       "158454  [hi, hate, turk, lot, maybe, one, day, war, gr...   \n",
       "1521       [poor, editing, edit, look, fine, wtf, matter]   \n",
       "116649           [wow, crap, faory, story, bunch, douche]   \n",
       "6960    [samross, parseltounge, basilisk, fucking, pus...   \n",
       "\n",
       "                                              tweet_clean  target  \n",
       "1906    [souljaboy, kmichel, ur, pussi, smell, like, d...       1  \n",
       "158454  [hi, hate, turk, lot, mayb, one, day, war, gre...       1  \n",
       "1521          [poor, edit, edit, look, fine, wtf, matter]       1  \n",
       "116649            [wow, crap, faori, stori, bunch, douch]       1  \n",
       "6960    [samross, parseltoung, basilisk, fuck, pussi, ...       1  "
      ]
     },
     "execution_count": 27,
     "metadata": {},
     "output_type": "execute_result"
    }
   ],
   "source": [
    "dataframe = [data_hate, data_unhate]\n",
    "data = pd.concat(dataframe)\n",
    "data = shuffle(data)\n",
    "data.head()"
   ]
  },
  {
   "cell_type": "code",
   "execution_count": 32,
   "metadata": {},
   "outputs": [
    {
     "data": {
      "text/html": [
       "<div>\n",
       "<style scoped>\n",
       "    .dataframe tbody tr th:only-of-type {\n",
       "        vertical-align: middle;\n",
       "    }\n",
       "\n",
       "    .dataframe tbody tr th {\n",
       "        vertical-align: top;\n",
       "    }\n",
       "\n",
       "    .dataframe thead th {\n",
       "        text-align: right;\n",
       "    }\n",
       "</style>\n",
       "<table border=\"1\" class=\"dataframe\">\n",
       "  <thead>\n",
       "    <tr style=\"text-align: right;\">\n",
       "      <th></th>\n",
       "      <th>tweet</th>\n",
       "      <th>tweet_punct</th>\n",
       "      <th>tweet_pre</th>\n",
       "      <th>tweet_tokenized</th>\n",
       "      <th>tweet_nonstop</th>\n",
       "      <th>tweet_stemmed</th>\n",
       "      <th>tweet_lemmatized</th>\n",
       "      <th>tweet_clean</th>\n",
       "      <th>target</th>\n",
       "    </tr>\n",
       "  </thead>\n",
       "  <tbody>\n",
       "    <tr>\n",
       "      <th>138037</th>\n",
       "      <td>Explanation for silence\\nTo all my associates,...</td>\n",
       "      <td>Explanation for silence\\nTo all my associates ...</td>\n",
       "      <td>explanation silence associates friends enemies...</td>\n",
       "      <td>[explanation, silence, associates, friends, en...</td>\n",
       "      <td>[explanation, silence, associates, friends, en...</td>\n",
       "      <td>[explan, silenc, associ, friend, enemi, etc, w...</td>\n",
       "      <td>[explanation, silence, associate, friend, enem...</td>\n",
       "      <td>[explan, silenc, associ, friend, enemi, etc, w...</td>\n",
       "      <td>0</td>\n",
       "    </tr>\n",
       "    <tr>\n",
       "      <th>39722</th>\n",
       "      <td>Fair game to copy. ) No copyright protection e...</td>\n",
       "      <td>Fair game to copy  No copyright protection exi...</td>\n",
       "      <td>fair game copy copyright protection exists del...</td>\n",
       "      <td>[fair, game, copy, copyright, protection, exis...</td>\n",
       "      <td>[fair, game, copy, copyright, protection, exis...</td>\n",
       "      <td>[fair, game, copi, copyright, protect, exist, ...</td>\n",
       "      <td>[fair, game, copy, copyright, protection, exis...</td>\n",
       "      <td>[fair, game, copi, copyright, protect, exist, ...</td>\n",
       "      <td>0</td>\n",
       "    </tr>\n",
       "    <tr>\n",
       "      <th>16537</th>\n",
       "      <td>RT @Mr_JSmart24: So damn sick of that damn lie...</td>\n",
       "      <td>RT MrJSmart So damn sick of that damn lie smfh...</td>\n",
       "      <td>rt mrjsmart damn sick damn lie smfhskinny girl...</td>\n",
       "      <td>[rt, mrjsmart, damn, sick, damn, lie, smfhskin...</td>\n",
       "      <td>[rt, mrjsmart, damn, sick, damn, lie, smfhskin...</td>\n",
       "      <td>[rt, mrjsmart, damn, sick, damn, lie, smfhskin...</td>\n",
       "      <td>[rt, mrjsmart, damn, sick, damn, lie, smfhskin...</td>\n",
       "      <td>[rt, mrjsmart, damn, sick, damn, lie, smfhskin...</td>\n",
       "      <td>1</td>\n",
       "    </tr>\n",
       "    <tr>\n",
       "      <th>5695</th>\n",
       "      <td>@carterboy_leake @italian_montana @tyg235 chil...</td>\n",
       "      <td>carterboyleake italianmontana tyg chill your d...</td>\n",
       "      <td>carterboyleake italianmontana tyg chill dad ge...</td>\n",
       "      <td>[carterboyleake, italianmontana, tyg, chill, d...</td>\n",
       "      <td>[carterboyleake, italianmontana, tyg, chill, d...</td>\n",
       "      <td>[carterboyleak, italianmontana, tyg, chill, da...</td>\n",
       "      <td>[carterboyleake, italianmontana, tyg, chill, d...</td>\n",
       "      <td>[carterboyleak, italianmontana, tyg, chill, da...</td>\n",
       "      <td>1</td>\n",
       "    </tr>\n",
       "    <tr>\n",
       "      <th>110655</th>\n",
       "      <td>I don't know the extent of the EU. Is all of t...</td>\n",
       "      <td>I dont know the extent of the EU Is all of the...</td>\n",
       "      <td>dont know extent eu french republic part eu cf...</td>\n",
       "      <td>[dont, know, extent, eu, french, republic, par...</td>\n",
       "      <td>[dont, know, extent, eu, french, republic, par...</td>\n",
       "      <td>[dont, know, extent, eu, french, republ, part,...</td>\n",
       "      <td>[dont, know, extent, eu, french, republic, par...</td>\n",
       "      <td>[dont, know, extent, eu, french, republ, part,...</td>\n",
       "      <td>0</td>\n",
       "    </tr>\n",
       "  </tbody>\n",
       "</table>\n",
       "</div>"
      ],
      "text/plain": [
       "                                                    tweet  \\\n",
       "138037  Explanation for silence\\nTo all my associates,...   \n",
       "39722   Fair game to copy. ) No copyright protection e...   \n",
       "16537   RT @Mr_JSmart24: So damn sick of that damn lie...   \n",
       "5695    @carterboy_leake @italian_montana @tyg235 chil...   \n",
       "110655  I don't know the extent of the EU. Is all of t...   \n",
       "\n",
       "                                              tweet_punct  \\\n",
       "138037  Explanation for silence\\nTo all my associates ...   \n",
       "39722   Fair game to copy  No copyright protection exi...   \n",
       "16537   RT MrJSmart So damn sick of that damn lie smfh...   \n",
       "5695    carterboyleake italianmontana tyg chill your d...   \n",
       "110655  I dont know the extent of the EU Is all of the...   \n",
       "\n",
       "                                                tweet_pre  \\\n",
       "138037  explanation silence associates friends enemies...   \n",
       "39722   fair game copy copyright protection exists del...   \n",
       "16537   rt mrjsmart damn sick damn lie smfhskinny girl...   \n",
       "5695    carterboyleake italianmontana tyg chill dad ge...   \n",
       "110655  dont know extent eu french republic part eu cf...   \n",
       "\n",
       "                                          tweet_tokenized  \\\n",
       "138037  [explanation, silence, associates, friends, en...   \n",
       "39722   [fair, game, copy, copyright, protection, exis...   \n",
       "16537   [rt, mrjsmart, damn, sick, damn, lie, smfhskin...   \n",
       "5695    [carterboyleake, italianmontana, tyg, chill, d...   \n",
       "110655  [dont, know, extent, eu, french, republic, par...   \n",
       "\n",
       "                                            tweet_nonstop  \\\n",
       "138037  [explanation, silence, associates, friends, en...   \n",
       "39722   [fair, game, copy, copyright, protection, exis...   \n",
       "16537   [rt, mrjsmart, damn, sick, damn, lie, smfhskin...   \n",
       "5695    [carterboyleake, italianmontana, tyg, chill, d...   \n",
       "110655  [dont, know, extent, eu, french, republic, par...   \n",
       "\n",
       "                                            tweet_stemmed  \\\n",
       "138037  [explan, silenc, associ, friend, enemi, etc, w...   \n",
       "39722   [fair, game, copi, copyright, protect, exist, ...   \n",
       "16537   [rt, mrjsmart, damn, sick, damn, lie, smfhskin...   \n",
       "5695    [carterboyleak, italianmontana, tyg, chill, da...   \n",
       "110655  [dont, know, extent, eu, french, republ, part,...   \n",
       "\n",
       "                                         tweet_lemmatized  \\\n",
       "138037  [explanation, silence, associate, friend, enem...   \n",
       "39722   [fair, game, copy, copyright, protection, exis...   \n",
       "16537   [rt, mrjsmart, damn, sick, damn, lie, smfhskin...   \n",
       "5695    [carterboyleake, italianmontana, tyg, chill, d...   \n",
       "110655  [dont, know, extent, eu, french, republic, par...   \n",
       "\n",
       "                                              tweet_clean  target  \n",
       "138037  [explan, silenc, associ, friend, enemi, etc, w...       0  \n",
       "39722   [fair, game, copi, copyright, protect, exist, ...       0  \n",
       "16537   [rt, mrjsmart, damn, sick, damn, lie, smfhskin...       1  \n",
       "5695    [carterboyleak, italianmontana, tyg, chill, da...       1  \n",
       "110655  [dont, know, extent, eu, french, republ, part,...       0  "
      ]
     },
     "execution_count": 32,
     "metadata": {},
     "output_type": "execute_result"
    }
   ],
   "source": [
    "data = shuffle(data)\n",
    "data.head()"
   ]
  },
  {
   "cell_type": "code",
   "execution_count": 33,
   "metadata": {},
   "outputs": [
    {
     "data": {
      "text/plain": [
       "(78180, 9)"
      ]
     },
     "execution_count": 33,
     "metadata": {},
     "output_type": "execute_result"
    }
   ],
   "source": [
    "data.shape"
   ]
  },
  {
   "cell_type": "code",
   "execution_count": 34,
   "metadata": {},
   "outputs": [
    {
     "data": {
      "text/plain": [
       "78180"
      ]
     },
     "execution_count": 34,
     "metadata": {},
     "output_type": "execute_result"
    }
   ],
   "source": [
    "39090*2"
   ]
  },
  {
   "cell_type": "code",
   "execution_count": 35,
   "metadata": {},
   "outputs": [],
   "source": [
    "with open('equal_processed_final_ws', 'wb') as fp:\n",
    "    pickle.dump(data, fp)"
   ]
  },
  {
   "cell_type": "code",
   "execution_count": 36,
   "metadata": {},
   "outputs": [
    {
     "data": {
      "text/plain": [
       "(78180, 9)"
      ]
     },
     "execution_count": 36,
     "metadata": {},
     "output_type": "execute_result"
    }
   ],
   "source": [
    "data.shape"
   ]
  },
  {
   "cell_type": "code",
   "execution_count": 37,
   "metadata": {},
   "outputs": [],
   "source": [
    "decode_map = {0: \"UNHATE\", 1: \"HATE\"}\n",
    "def decode_sentiment(label):\n",
    "    return decode_map[int(label)]"
   ]
  },
  {
   "cell_type": "code",
   "execution_count": 38,
   "metadata": {},
   "outputs": [
    {
     "name": "stdout",
     "output_type": "stream",
     "text": [
      "CPU times: user 1.23 s, sys: 2.91 ms, total: 1.23 s\n",
      "Wall time: 1.23 s\n"
     ]
    }
   ],
   "source": [
    "%%time\n",
    "data.target = data.target.apply(lambda x: decode_sentiment(x))"
   ]
  },
  {
   "cell_type": "code",
   "execution_count": 39,
   "metadata": {},
   "outputs": [
    {
     "data": {
      "text/html": [
       "<div>\n",
       "<style scoped>\n",
       "    .dataframe tbody tr th:only-of-type {\n",
       "        vertical-align: middle;\n",
       "    }\n",
       "\n",
       "    .dataframe tbody tr th {\n",
       "        vertical-align: top;\n",
       "    }\n",
       "\n",
       "    .dataframe thead th {\n",
       "        text-align: right;\n",
       "    }\n",
       "</style>\n",
       "<table border=\"1\" class=\"dataframe\">\n",
       "  <thead>\n",
       "    <tr style=\"text-align: right;\">\n",
       "      <th></th>\n",
       "      <th>tweet</th>\n",
       "      <th>tweet_punct</th>\n",
       "      <th>tweet_pre</th>\n",
       "      <th>tweet_tokenized</th>\n",
       "      <th>tweet_nonstop</th>\n",
       "      <th>tweet_stemmed</th>\n",
       "      <th>tweet_lemmatized</th>\n",
       "      <th>tweet_clean</th>\n",
       "      <th>target</th>\n",
       "    </tr>\n",
       "  </thead>\n",
       "  <tbody>\n",
       "    <tr>\n",
       "      <th>138037</th>\n",
       "      <td>Explanation for silence\\nTo all my associates,...</td>\n",
       "      <td>Explanation for silence\\nTo all my associates ...</td>\n",
       "      <td>explanation silence associates friends enemies...</td>\n",
       "      <td>[explanation, silence, associates, friends, en...</td>\n",
       "      <td>[explanation, silence, associates, friends, en...</td>\n",
       "      <td>[explan, silenc, associ, friend, enemi, etc, w...</td>\n",
       "      <td>[explanation, silence, associate, friend, enem...</td>\n",
       "      <td>[explan, silenc, associ, friend, enemi, etc, w...</td>\n",
       "      <td>UNHATE</td>\n",
       "    </tr>\n",
       "    <tr>\n",
       "      <th>39722</th>\n",
       "      <td>Fair game to copy. ) No copyright protection e...</td>\n",
       "      <td>Fair game to copy  No copyright protection exi...</td>\n",
       "      <td>fair game copy copyright protection exists del...</td>\n",
       "      <td>[fair, game, copy, copyright, protection, exis...</td>\n",
       "      <td>[fair, game, copy, copyright, protection, exis...</td>\n",
       "      <td>[fair, game, copi, copyright, protect, exist, ...</td>\n",
       "      <td>[fair, game, copy, copyright, protection, exis...</td>\n",
       "      <td>[fair, game, copi, copyright, protect, exist, ...</td>\n",
       "      <td>UNHATE</td>\n",
       "    </tr>\n",
       "    <tr>\n",
       "      <th>16537</th>\n",
       "      <td>RT @Mr_JSmart24: So damn sick of that damn lie...</td>\n",
       "      <td>RT MrJSmart So damn sick of that damn lie smfh...</td>\n",
       "      <td>rt mrjsmart damn sick damn lie smfhskinny girl...</td>\n",
       "      <td>[rt, mrjsmart, damn, sick, damn, lie, smfhskin...</td>\n",
       "      <td>[rt, mrjsmart, damn, sick, damn, lie, smfhskin...</td>\n",
       "      <td>[rt, mrjsmart, damn, sick, damn, lie, smfhskin...</td>\n",
       "      <td>[rt, mrjsmart, damn, sick, damn, lie, smfhskin...</td>\n",
       "      <td>[rt, mrjsmart, damn, sick, damn, lie, smfhskin...</td>\n",
       "      <td>HATE</td>\n",
       "    </tr>\n",
       "    <tr>\n",
       "      <th>5695</th>\n",
       "      <td>@carterboy_leake @italian_montana @tyg235 chil...</td>\n",
       "      <td>carterboyleake italianmontana tyg chill your d...</td>\n",
       "      <td>carterboyleake italianmontana tyg chill dad ge...</td>\n",
       "      <td>[carterboyleake, italianmontana, tyg, chill, d...</td>\n",
       "      <td>[carterboyleake, italianmontana, tyg, chill, d...</td>\n",
       "      <td>[carterboyleak, italianmontana, tyg, chill, da...</td>\n",
       "      <td>[carterboyleake, italianmontana, tyg, chill, d...</td>\n",
       "      <td>[carterboyleak, italianmontana, tyg, chill, da...</td>\n",
       "      <td>HATE</td>\n",
       "    </tr>\n",
       "    <tr>\n",
       "      <th>110655</th>\n",
       "      <td>I don't know the extent of the EU. Is all of t...</td>\n",
       "      <td>I dont know the extent of the EU Is all of the...</td>\n",
       "      <td>dont know extent eu french republic part eu cf...</td>\n",
       "      <td>[dont, know, extent, eu, french, republic, par...</td>\n",
       "      <td>[dont, know, extent, eu, french, republic, par...</td>\n",
       "      <td>[dont, know, extent, eu, french, republ, part,...</td>\n",
       "      <td>[dont, know, extent, eu, french, republic, par...</td>\n",
       "      <td>[dont, know, extent, eu, french, republ, part,...</td>\n",
       "      <td>UNHATE</td>\n",
       "    </tr>\n",
       "  </tbody>\n",
       "</table>\n",
       "</div>"
      ],
      "text/plain": [
       "                                                    tweet  \\\n",
       "138037  Explanation for silence\\nTo all my associates,...   \n",
       "39722   Fair game to copy. ) No copyright protection e...   \n",
       "16537   RT @Mr_JSmart24: So damn sick of that damn lie...   \n",
       "5695    @carterboy_leake @italian_montana @tyg235 chil...   \n",
       "110655  I don't know the extent of the EU. Is all of t...   \n",
       "\n",
       "                                              tweet_punct  \\\n",
       "138037  Explanation for silence\\nTo all my associates ...   \n",
       "39722   Fair game to copy  No copyright protection exi...   \n",
       "16537   RT MrJSmart So damn sick of that damn lie smfh...   \n",
       "5695    carterboyleake italianmontana tyg chill your d...   \n",
       "110655  I dont know the extent of the EU Is all of the...   \n",
       "\n",
       "                                                tweet_pre  \\\n",
       "138037  explanation silence associates friends enemies...   \n",
       "39722   fair game copy copyright protection exists del...   \n",
       "16537   rt mrjsmart damn sick damn lie smfhskinny girl...   \n",
       "5695    carterboyleake italianmontana tyg chill dad ge...   \n",
       "110655  dont know extent eu french republic part eu cf...   \n",
       "\n",
       "                                          tweet_tokenized  \\\n",
       "138037  [explanation, silence, associates, friends, en...   \n",
       "39722   [fair, game, copy, copyright, protection, exis...   \n",
       "16537   [rt, mrjsmart, damn, sick, damn, lie, smfhskin...   \n",
       "5695    [carterboyleake, italianmontana, tyg, chill, d...   \n",
       "110655  [dont, know, extent, eu, french, republic, par...   \n",
       "\n",
       "                                            tweet_nonstop  \\\n",
       "138037  [explanation, silence, associates, friends, en...   \n",
       "39722   [fair, game, copy, copyright, protection, exis...   \n",
       "16537   [rt, mrjsmart, damn, sick, damn, lie, smfhskin...   \n",
       "5695    [carterboyleake, italianmontana, tyg, chill, d...   \n",
       "110655  [dont, know, extent, eu, french, republic, par...   \n",
       "\n",
       "                                            tweet_stemmed  \\\n",
       "138037  [explan, silenc, associ, friend, enemi, etc, w...   \n",
       "39722   [fair, game, copi, copyright, protect, exist, ...   \n",
       "16537   [rt, mrjsmart, damn, sick, damn, lie, smfhskin...   \n",
       "5695    [carterboyleak, italianmontana, tyg, chill, da...   \n",
       "110655  [dont, know, extent, eu, french, republ, part,...   \n",
       "\n",
       "                                         tweet_lemmatized  \\\n",
       "138037  [explanation, silence, associate, friend, enem...   \n",
       "39722   [fair, game, copy, copyright, protection, exis...   \n",
       "16537   [rt, mrjsmart, damn, sick, damn, lie, smfhskin...   \n",
       "5695    [carterboyleake, italianmontana, tyg, chill, d...   \n",
       "110655  [dont, know, extent, eu, french, republic, par...   \n",
       "\n",
       "                                              tweet_clean  target  \n",
       "138037  [explan, silenc, associ, friend, enemi, etc, w...  UNHATE  \n",
       "39722   [fair, game, copi, copyright, protect, exist, ...  UNHATE  \n",
       "16537   [rt, mrjsmart, damn, sick, damn, lie, smfhskin...    HATE  \n",
       "5695    [carterboyleak, italianmontana, tyg, chill, da...    HATE  \n",
       "110655  [dont, know, extent, eu, french, republ, part,...  UNHATE  "
      ]
     },
     "execution_count": 39,
     "metadata": {},
     "output_type": "execute_result"
    }
   ],
   "source": [
    "data.head()"
   ]
  },
  {
   "cell_type": "code",
   "execution_count": 40,
   "metadata": {},
   "outputs": [
    {
     "data": {
      "text/plain": [
       "<matplotlib.axes._subplots.AxesSubplot at 0x7f3e74f05908>"
      ]
     },
     "execution_count": 40,
     "metadata": {},
     "output_type": "execute_result"
    },
    {
     "data": {
      "image/png": "[encoded data removed]",
      "text/plain": [
       "<Figure size 432x288 with 1 Axes>"
      ]
     },
     "metadata": {
      "needs_background": "light"
     },
     "output_type": "display_data"
    }
   ],
   "source": [
    "import seaborn as sns\n",
    "sns.countplot(x = 'target', data = data)"
   ]
  },
  {
   "cell_type": "markdown",
   "metadata": {},
   "source": [
    "## PREPROCESS DATASET "
   ]
  },
  {
   "cell_type": "code",
   "execution_count": 41,
   "metadata": {},
   "outputs": [],
   "source": [
    "stop_words = stopwords.words(\"english\")\n",
    "stemmer = SnowballStemmer(\"english\")"
   ]
  },
  {
   "cell_type": "code",
   "execution_count": 42,
   "metadata": {},
   "outputs": [],
   "source": [
    "def preprocess(text, stem=False):\n",
    "    # Remove link,user and special characters\n",
    "    text = re.sub(TEXT_CLEANING_RE, ' ', str(text).lower()).strip()\n",
    "    tokens = []\n",
    "    for token in text.split():\n",
    "        if token not in stop_words:\n",
    "            if stem:\n",
    "                tokens.append(stemmer.stem(token))\n",
    "            else:\n",
    "                tokens.append(token)\n",
    "    return \" \".join(tokens)"
   ]
  },
  {
   "cell_type": "code",
   "execution_count": 43,
   "metadata": {},
   "outputs": [
    {
     "name": "stdout",
     "output_type": "stream",
     "text": [
      "CPU times: user 8.85 s, sys: 13 ms, total: 8.87 s\n",
      "Wall time: 8.86 s\n"
     ]
    }
   ],
   "source": [
    "%%time\n",
    "data.tweet = data.tweet.apply(lambda x: preprocess(x))"
   ]
  },
  {
   "cell_type": "code",
   "execution_count": 44,
   "metadata": {},
   "outputs": [
    {
     "data": {
      "text/plain": [
       "Index(['tweet', 'tweet_punct', 'tweet_pre', 'tweet_tokenized', 'tweet_nonstop',\n",
       "       'tweet_stemmed', 'tweet_lemmatized', 'tweet_clean', 'target'],\n",
       "      dtype='object')"
      ]
     },
     "execution_count": 44,
     "metadata": {},
     "output_type": "execute_result"
    }
   ],
   "source": [
    "data.columns"
   ]
  },
  {
   "cell_type": "markdown",
   "metadata": {},
   "source": [
    "## SPLIT TRAIN AND TEST "
   ]
  },
  {
   "cell_type": "code",
   "execution_count": 45,
   "metadata": {},
   "outputs": [
    {
     "name": "stdout",
     "output_type": "stream",
     "text": [
      "TRAIN size: 62544\n",
      "TEST size: 15636\n"
     ]
    }
   ],
   "source": [
    "df_train, df_test = train_test_split(data, test_size=1-TRAIN_SIZE, random_state=42)\n",
    "print(\"TRAIN size:\", len(df_train))\n",
    "print(\"TEST size:\", len(df_test))"
   ]
  },
  {
   "cell_type": "markdown",
   "metadata": {},
   "source": [
    "## WORD2VEC "
   ]
  },
  {
   "cell_type": "code",
   "execution_count": 46,
   "metadata": {},
   "outputs": [
    {
     "name": "stdout",
     "output_type": "stream",
     "text": [
      "CPU times: user 142 ms, sys: 67.5 ms, total: 210 ms\n",
      "Wall time: 208 ms\n"
     ]
    }
   ],
   "source": [
    "%%time\n",
    "documents = [_text.split() for _text in df_train.tweet] "
   ]
  },
  {
   "cell_type": "code",
   "execution_count": 47,
   "metadata": {},
   "outputs": [],
   "source": [
    "w2v_model = gensim.models.word2vec.Word2Vec(size=W2V_SIZE, \n",
    "                                            window=W2V_WINDOW, \n",
    "                                            min_count=W2V_MIN_COUNT, \n",
    "                                            workers=8)"
   ]
  },
  {
   "cell_type": "code",
   "execution_count": 48,
   "metadata": {},
   "outputs": [
    {
     "name": "stderr",
     "output_type": "stream",
     "text": [
      "2019-03-24 20:57:31,589 : INFO : collecting all words and their counts\n",
      "2019-03-24 20:57:31,590 : INFO : PROGRESS: at sentence #0, processed 0 words, keeping 0 word types\n",
      "2019-03-24 20:57:31,650 : INFO : PROGRESS: at sentence #10000, processed 254293 words, keeping 30280 word types\n",
      "2019-03-24 20:57:31,719 : INFO : PROGRESS: at sentence #20000, processed 509638 words, keeping 45752 word types\n",
      "2019-03-24 20:57:31,791 : INFO : PROGRESS: at sentence #30000, processed 765178 words, keeping 58045 word types\n",
      "2019-03-24 20:57:31,862 : INFO : PROGRESS: at sentence #40000, processed 1013730 words, keeping 68836 word types\n",
      "2019-03-24 20:57:31,936 : INFO : PROGRESS: at sentence #50000, processed 1266480 words, keeping 78294 word types\n",
      "2019-03-24 20:57:32,014 : INFO : PROGRESS: at sentence #60000, processed 1530517 words, keeping 87465 word types\n",
      "2019-03-24 20:57:32,035 : INFO : collected 89700 word types from a corpus of 1597007 raw words and 62544 sentences\n",
      "2019-03-24 20:57:32,036 : INFO : Loading a fresh vocabulary\n",
      "2019-03-24 20:57:32,097 : INFO : effective_min_count=10 retains 12570 unique words (14% of original 89700, drops 77130)\n",
      "2019-03-24 20:57:32,098 : INFO : effective_min_count=10 leaves 1441217 word corpus (90% of original 1597007, drops 155790)\n",
      "2019-03-24 20:57:32,143 : INFO : deleting the raw counts dictionary of 89700 items\n",
      "2019-03-24 20:57:32,146 : INFO : sample=0.001 downsamples 23 most-common words\n",
      "2019-03-24 20:57:32,148 : INFO : downsampling leaves estimated 1390156 word corpus (96.5% of prior 1441217)\n",
      "2019-03-24 20:57:32,196 : INFO : estimated required memory for 12570 words and 300 dimensions: 36453000 bytes\n",
      "2019-03-24 20:57:32,197 : INFO : resetting layer weights\n"
     ]
    }
   ],
   "source": [
    "w2v_model.build_vocab(documents)"
   ]
  },
  {
   "cell_type": "code",
   "execution_count": 49,
   "metadata": {},
   "outputs": [
    {
     "name": "stdout",
     "output_type": "stream",
     "text": [
      "Vocab size 12570\n"
     ]
    }
   ],
   "source": [
    "words = w2v_model.wv.vocab.keys()\n",
    "vocab_size = len(words)\n",
    "print(\"Vocab size\", vocab_size)"
   ]
  },
  {
   "cell_type": "code",
   "execution_count": 50,
   "metadata": {},
   "outputs": [
    {
     "name": "stderr",
     "output_type": "stream",
     "text": [
      "2019-03-24 20:57:46,983 : INFO : training model with 8 workers on 12570 vocabulary and 300 features, using sg=0 hs=0 sample=0.001 negative=5 window=7\n",
      "2019-03-24 20:57:47,997 : INFO : EPOCH 1 - PROGRESS: at 75.90% examples, 1043792 words/s, in_qsize 14, out_qsize 1\n",
      "2019-03-24 20:57:48,247 : INFO : worker thread finished; awaiting finish of 7 more threads\n",
      "2019-03-24 20:57:48,248 : INFO : worker thread finished; awaiting finish of 6 more threads\n",
      "2019-03-24 20:57:48,264 : INFO : worker thread finished; awaiting finish of 5 more threads\n",
      "2019-03-24 20:57:48,265 : INFO : worker thread finished; awaiting finish of 4 more threads\n",
      "2019-03-24 20:57:48,276 : INFO : worker thread finished; awaiting finish of 3 more threads\n",
      "2019-03-24 20:57:48,278 : INFO : worker thread finished; awaiting finish of 2 more threads\n",
      "2019-03-24 20:57:48,280 : INFO : worker thread finished; awaiting finish of 1 more threads\n",
      "2019-03-24 20:57:48,282 : INFO : worker thread finished; awaiting finish of 0 more threads\n",
      "2019-03-24 20:57:48,282 : INFO : EPOCH - 1 : training on 1597007 raw words (1390205 effective words) took 1.3s, 1079390 effective words/s\n",
      "2019-03-24 20:57:49,301 : INFO : EPOCH 2 - PROGRESS: at 73.30% examples, 1001719 words/s, in_qsize 15, out_qsize 0\n",
      "2019-03-24 20:57:49,569 : INFO : worker thread finished; awaiting finish of 7 more threads\n",
      "2019-03-24 20:57:49,570 : INFO : worker thread finished; awaiting finish of 6 more threads\n",
      "2019-03-24 20:57:49,576 : INFO : worker thread finished; awaiting finish of 5 more threads\n",
      "2019-03-24 20:57:49,584 : INFO : worker thread finished; awaiting finish of 4 more threads\n",
      "2019-03-24 20:57:49,593 : INFO : worker thread finished; awaiting finish of 3 more threads\n",
      "2019-03-24 20:57:49,595 : INFO : worker thread finished; awaiting finish of 2 more threads\n",
      "2019-03-24 20:57:49,596 : INFO : worker thread finished; awaiting finish of 1 more threads\n",
      "2019-03-24 20:57:49,598 : INFO : worker thread finished; awaiting finish of 0 more threads\n",
      "2019-03-24 20:57:49,598 : INFO : EPOCH - 2 : training on 1597007 raw words (1390362 effective words) took 1.3s, 1063800 effective words/s\n",
      "2019-03-24 20:57:50,613 : INFO : EPOCH 3 - PROGRESS: at 75.89% examples, 1045936 words/s, in_qsize 14, out_qsize 1\n",
      "2019-03-24 20:57:50,875 : INFO : worker thread finished; awaiting finish of 7 more threads\n",
      "2019-03-24 20:57:50,878 : INFO : worker thread finished; awaiting finish of 6 more threads\n",
      "2019-03-24 20:57:50,884 : INFO : worker thread finished; awaiting finish of 5 more threads\n",
      "2019-03-24 20:57:50,886 : INFO : worker thread finished; awaiting finish of 4 more threads\n",
      "2019-03-24 20:57:50,895 : INFO : worker thread finished; awaiting finish of 3 more threads\n",
      "2019-03-24 20:57:50,899 : INFO : worker thread finished; awaiting finish of 2 more threads\n",
      "2019-03-24 20:57:50,905 : INFO : worker thread finished; awaiting finish of 1 more threads\n",
      "2019-03-24 20:57:50,911 : INFO : worker thread finished; awaiting finish of 0 more threads\n",
      "2019-03-24 20:57:50,912 : INFO : EPOCH - 3 : training on 1597007 raw words (1389952 effective words) took 1.3s, 1069991 effective words/s\n",
      "2019-03-24 20:57:51,925 : INFO : EPOCH 4 - PROGRESS: at 75.89% examples, 1041004 words/s, in_qsize 15, out_qsize 0\n",
      "2019-03-24 20:57:52,178 : INFO : worker thread finished; awaiting finish of 7 more threads\n",
      "2019-03-24 20:57:52,180 : INFO : worker thread finished; awaiting finish of 6 more threads\n",
      "2019-03-24 20:57:52,187 : INFO : worker thread finished; awaiting finish of 5 more threads\n",
      "2019-03-24 20:57:52,190 : INFO : worker thread finished; awaiting finish of 4 more threads\n",
      "2019-03-24 20:57:52,195 : INFO : worker thread finished; awaiting finish of 3 more threads\n",
      "2019-03-24 20:57:52,202 : INFO : worker thread finished; awaiting finish of 2 more threads\n",
      "2019-03-24 20:57:52,208 : INFO : worker thread finished; awaiting finish of 1 more threads\n",
      "2019-03-24 20:57:52,209 : INFO : worker thread finished; awaiting finish of 0 more threads\n",
      "2019-03-24 20:57:52,210 : INFO : EPOCH - 4 : training on 1597007 raw words (1390187 effective words) took 1.3s, 1077567 effective words/s\n",
      "2019-03-24 20:57:53,223 : INFO : EPOCH 5 - PROGRESS: at 73.30% examples, 1006476 words/s, in_qsize 14, out_qsize 1\n",
      "2019-03-24 20:57:53,510 : INFO : worker thread finished; awaiting finish of 7 more threads\n",
      "2019-03-24 20:57:53,512 : INFO : worker thread finished; awaiting finish of 6 more threads\n",
      "2019-03-24 20:57:53,514 : INFO : worker thread finished; awaiting finish of 5 more threads\n",
      "2019-03-24 20:57:53,522 : INFO : worker thread finished; awaiting finish of 4 more threads\n",
      "2019-03-24 20:57:53,533 : INFO : worker thread finished; awaiting finish of 3 more threads\n",
      "2019-03-24 20:57:53,536 : INFO : worker thread finished; awaiting finish of 2 more threads\n",
      "2019-03-24 20:57:53,537 : INFO : worker thread finished; awaiting finish of 1 more threads\n",
      "2019-03-24 20:57:53,544 : INFO : worker thread finished; awaiting finish of 0 more threads\n",
      "2019-03-24 20:57:53,545 : INFO : EPOCH - 5 : training on 1597007 raw words (1390084 effective words) took 1.3s, 1047622 effective words/s\n",
      "2019-03-24 20:57:54,561 : INFO : EPOCH 6 - PROGRESS: at 73.98% examples, 1016551 words/s, in_qsize 14, out_qsize 1\n",
      "2019-03-24 20:57:54,848 : INFO : worker thread finished; awaiting finish of 7 more threads\n",
      "2019-03-24 20:57:54,850 : INFO : worker thread finished; awaiting finish of 6 more threads\n",
      "2019-03-24 20:57:54,852 : INFO : worker thread finished; awaiting finish of 5 more threads\n",
      "2019-03-24 20:57:54,853 : INFO : worker thread finished; awaiting finish of 4 more threads\n",
      "2019-03-24 20:57:54,859 : INFO : worker thread finished; awaiting finish of 3 more threads\n",
      "2019-03-24 20:57:54,869 : INFO : worker thread finished; awaiting finish of 2 more threads\n",
      "2019-03-24 20:57:54,872 : INFO : worker thread finished; awaiting finish of 1 more threads\n",
      "2019-03-24 20:57:54,874 : INFO : worker thread finished; awaiting finish of 0 more threads\n",
      "2019-03-24 20:57:54,875 : INFO : EPOCH - 6 : training on 1597007 raw words (1390202 effective words) took 1.3s, 1054905 effective words/s\n",
      "2019-03-24 20:57:55,894 : INFO : EPOCH 7 - PROGRESS: at 76.48% examples, 1043525 words/s, in_qsize 15, out_qsize 0\n",
      "2019-03-24 20:57:56,150 : INFO : worker thread finished; awaiting finish of 7 more threads\n",
      "2019-03-24 20:57:56,159 : INFO : worker thread finished; awaiting finish of 6 more threads\n",
      "2019-03-24 20:57:56,161 : INFO : worker thread finished; awaiting finish of 5 more threads\n",
      "2019-03-24 20:57:56,162 : INFO : worker thread finished; awaiting finish of 4 more threads\n",
      "2019-03-24 20:57:56,169 : INFO : worker thread finished; awaiting finish of 3 more threads\n",
      "2019-03-24 20:57:56,180 : INFO : worker thread finished; awaiting finish of 2 more threads\n",
      "2019-03-24 20:57:56,183 : INFO : worker thread finished; awaiting finish of 1 more threads\n",
      "2019-03-24 20:57:56,188 : INFO : worker thread finished; awaiting finish of 0 more threads\n",
      "2019-03-24 20:57:56,189 : INFO : EPOCH - 7 : training on 1597007 raw words (1390169 effective words) took 1.3s, 1064679 effective words/s\n",
      "2019-03-24 20:57:57,208 : INFO : EPOCH 8 - PROGRESS: at 75.22% examples, 1027034 words/s, in_qsize 15, out_qsize 0\n",
      "2019-03-24 20:57:57,473 : INFO : worker thread finished; awaiting finish of 7 more threads\n",
      "2019-03-24 20:57:57,477 : INFO : worker thread finished; awaiting finish of 6 more threads\n",
      "2019-03-24 20:57:57,478 : INFO : worker thread finished; awaiting finish of 5 more threads\n",
      "2019-03-24 20:57:57,486 : INFO : worker thread finished; awaiting finish of 4 more threads\n",
      "2019-03-24 20:57:57,492 : INFO : worker thread finished; awaiting finish of 3 more threads\n",
      "2019-03-24 20:57:57,505 : INFO : worker thread finished; awaiting finish of 2 more threads\n",
      "2019-03-24 20:57:57,506 : INFO : worker thread finished; awaiting finish of 1 more threads\n",
      "2019-03-24 20:57:57,508 : INFO : worker thread finished; awaiting finish of 0 more threads\n",
      "2019-03-24 20:57:57,509 : INFO : EPOCH - 8 : training on 1597007 raw words (1390163 effective words) took 1.3s, 1060083 effective words/s\n",
      "2019-03-24 20:57:58,519 : INFO : EPOCH 9 - PROGRESS: at 73.97% examples, 1019136 words/s, in_qsize 15, out_qsize 0\n",
      "2019-03-24 20:57:58,774 : INFO : worker thread finished; awaiting finish of 7 more threads\n"
     ]
    },
    {
     "name": "stderr",
     "output_type": "stream",
     "text": [
      "2019-03-24 20:57:58,780 : INFO : worker thread finished; awaiting finish of 6 more threads\n",
      "2019-03-24 20:57:58,802 : INFO : worker thread finished; awaiting finish of 5 more threads\n",
      "2019-03-24 20:57:58,807 : INFO : worker thread finished; awaiting finish of 4 more threads\n",
      "2019-03-24 20:57:58,817 : INFO : worker thread finished; awaiting finish of 3 more threads\n",
      "2019-03-24 20:57:58,822 : INFO : worker thread finished; awaiting finish of 2 more threads\n",
      "2019-03-24 20:57:58,823 : INFO : worker thread finished; awaiting finish of 1 more threads\n",
      "2019-03-24 20:57:58,827 : INFO : worker thread finished; awaiting finish of 0 more threads\n",
      "2019-03-24 20:57:58,828 : INFO : EPOCH - 9 : training on 1597007 raw words (1390128 effective words) took 1.3s, 1060773 effective words/s\n",
      "2019-03-24 20:57:59,840 : INFO : EPOCH 10 - PROGRESS: at 75.30% examples, 1037174 words/s, in_qsize 16, out_qsize 0\n",
      "2019-03-24 20:58:00,127 : INFO : worker thread finished; awaiting finish of 7 more threads\n",
      "2019-03-24 20:58:00,129 : INFO : worker thread finished; awaiting finish of 6 more threads\n",
      "2019-03-24 20:58:00,143 : INFO : worker thread finished; awaiting finish of 5 more threads\n",
      "2019-03-24 20:58:00,145 : INFO : worker thread finished; awaiting finish of 4 more threads\n",
      "2019-03-24 20:58:00,150 : INFO : worker thread finished; awaiting finish of 3 more threads\n",
      "2019-03-24 20:58:00,153 : INFO : worker thread finished; awaiting finish of 2 more threads\n",
      "2019-03-24 20:58:00,155 : INFO : worker thread finished; awaiting finish of 1 more threads\n",
      "2019-03-24 20:58:00,158 : INFO : worker thread finished; awaiting finish of 0 more threads\n",
      "2019-03-24 20:58:00,159 : INFO : EPOCH - 10 : training on 1597007 raw words (1390225 effective words) took 1.3s, 1053522 effective words/s\n",
      "2019-03-24 20:58:01,172 : INFO : EPOCH 11 - PROGRESS: at 79.01% examples, 1085102 words/s, in_qsize 15, out_qsize 0\n",
      "2019-03-24 20:58:01,410 : INFO : worker thread finished; awaiting finish of 7 more threads\n",
      "2019-03-24 20:58:01,412 : INFO : worker thread finished; awaiting finish of 6 more threads\n",
      "2019-03-24 20:58:01,423 : INFO : worker thread finished; awaiting finish of 5 more threads\n",
      "2019-03-24 20:58:01,425 : INFO : worker thread finished; awaiting finish of 4 more threads\n",
      "2019-03-24 20:58:01,427 : INFO : worker thread finished; awaiting finish of 3 more threads\n",
      "2019-03-24 20:58:01,437 : INFO : worker thread finished; awaiting finish of 2 more threads\n",
      "2019-03-24 20:58:01,440 : INFO : worker thread finished; awaiting finish of 1 more threads\n",
      "2019-03-24 20:58:01,442 : INFO : worker thread finished; awaiting finish of 0 more threads\n",
      "2019-03-24 20:58:01,443 : INFO : EPOCH - 11 : training on 1597007 raw words (1390108 effective words) took 1.3s, 1090330 effective words/s\n",
      "2019-03-24 20:58:02,457 : INFO : EPOCH 12 - PROGRESS: at 75.22% examples, 1033770 words/s, in_qsize 15, out_qsize 0\n",
      "2019-03-24 20:58:02,704 : INFO : worker thread finished; awaiting finish of 7 more threads\n",
      "2019-03-24 20:58:02,717 : INFO : worker thread finished; awaiting finish of 6 more threads\n",
      "2019-03-24 20:58:02,725 : INFO : worker thread finished; awaiting finish of 5 more threads\n",
      "2019-03-24 20:58:02,728 : INFO : worker thread finished; awaiting finish of 4 more threads\n",
      "2019-03-24 20:58:02,745 : INFO : worker thread finished; awaiting finish of 3 more threads\n",
      "2019-03-24 20:58:02,747 : INFO : worker thread finished; awaiting finish of 2 more threads\n",
      "2019-03-24 20:58:02,750 : INFO : worker thread finished; awaiting finish of 1 more threads\n",
      "2019-03-24 20:58:02,753 : INFO : worker thread finished; awaiting finish of 0 more threads\n",
      "2019-03-24 20:58:02,754 : INFO : EPOCH - 12 : training on 1597007 raw words (1390044 effective words) took 1.3s, 1069304 effective words/s\n",
      "2019-03-24 20:58:03,781 : INFO : EPOCH 13 - PROGRESS: at 75.89% examples, 1026892 words/s, in_qsize 15, out_qsize 0\n",
      "2019-03-24 20:58:04,006 : INFO : worker thread finished; awaiting finish of 7 more threads\n",
      "2019-03-24 20:58:04,012 : INFO : worker thread finished; awaiting finish of 6 more threads\n",
      "2019-03-24 20:58:04,023 : INFO : worker thread finished; awaiting finish of 5 more threads\n",
      "2019-03-24 20:58:04,025 : INFO : worker thread finished; awaiting finish of 4 more threads\n",
      "2019-03-24 20:58:04,032 : INFO : worker thread finished; awaiting finish of 3 more threads\n",
      "2019-03-24 20:58:04,036 : INFO : worker thread finished; awaiting finish of 2 more threads\n",
      "2019-03-24 20:58:04,045 : INFO : worker thread finished; awaiting finish of 1 more threads\n",
      "2019-03-24 20:58:04,046 : INFO : worker thread finished; awaiting finish of 0 more threads\n",
      "2019-03-24 20:58:04,047 : INFO : EPOCH - 13 : training on 1597007 raw words (1390010 effective words) took 1.3s, 1081593 effective words/s\n",
      "2019-03-24 20:58:05,066 : INFO : EPOCH 14 - PROGRESS: at 76.48% examples, 1045625 words/s, in_qsize 14, out_qsize 1\n",
      "2019-03-24 20:58:05,309 : INFO : worker thread finished; awaiting finish of 7 more threads\n",
      "2019-03-24 20:58:05,315 : INFO : worker thread finished; awaiting finish of 6 more threads\n",
      "2019-03-24 20:58:05,324 : INFO : worker thread finished; awaiting finish of 5 more threads\n",
      "2019-03-24 20:58:05,331 : INFO : worker thread finished; awaiting finish of 4 more threads\n",
      "2019-03-24 20:58:05,333 : INFO : worker thread finished; awaiting finish of 3 more threads\n",
      "2019-03-24 20:58:05,339 : INFO : worker thread finished; awaiting finish of 2 more threads\n",
      "2019-03-24 20:58:05,348 : INFO : worker thread finished; awaiting finish of 1 more threads\n",
      "2019-03-24 20:58:05,350 : INFO : worker thread finished; awaiting finish of 0 more threads\n",
      "2019-03-24 20:58:05,350 : INFO : EPOCH - 14 : training on 1597007 raw words (1390123 effective words) took 1.3s, 1074968 effective words/s\n",
      "2019-03-24 20:58:06,376 : INFO : EPOCH 15 - PROGRESS: at 77.16% examples, 1045277 words/s, in_qsize 15, out_qsize 0\n",
      "2019-03-24 20:58:06,612 : INFO : worker thread finished; awaiting finish of 7 more threads\n",
      "2019-03-24 20:58:06,620 : INFO : worker thread finished; awaiting finish of 6 more threads\n",
      "2019-03-24 20:58:06,623 : INFO : worker thread finished; awaiting finish of 5 more threads\n",
      "2019-03-24 20:58:06,631 : INFO : worker thread finished; awaiting finish of 4 more threads\n",
      "2019-03-24 20:58:06,635 : INFO : worker thread finished; awaiting finish of 3 more threads\n",
      "2019-03-24 20:58:06,650 : INFO : worker thread finished; awaiting finish of 2 more threads\n",
      "2019-03-24 20:58:06,652 : INFO : worker thread finished; awaiting finish of 1 more threads\n",
      "2019-03-24 20:58:06,654 : INFO : worker thread finished; awaiting finish of 0 more threads\n",
      "2019-03-24 20:58:06,655 : INFO : EPOCH - 15 : training on 1597007 raw words (1390175 effective words) took 1.3s, 1072414 effective words/s\n",
      "2019-03-24 20:58:07,667 : INFO : EPOCH 16 - PROGRESS: at 74.63% examples, 1025851 words/s, in_qsize 15, out_qsize 0\n",
      "2019-03-24 20:58:07,936 : INFO : worker thread finished; awaiting finish of 7 more threads\n",
      "2019-03-24 20:58:07,945 : INFO : worker thread finished; awaiting finish of 6 more threads\n",
      "2019-03-24 20:58:07,951 : INFO : worker thread finished; awaiting finish of 5 more threads\n",
      "2019-03-24 20:58:07,966 : INFO : worker thread finished; awaiting finish of 4 more threads\n",
      "2019-03-24 20:58:07,968 : INFO : worker thread finished; awaiting finish of 3 more threads\n",
      "2019-03-24 20:58:07,968 : INFO : worker thread finished; awaiting finish of 2 more threads\n",
      "2019-03-24 20:58:07,976 : INFO : worker thread finished; awaiting finish of 1 more threads\n",
      "2019-03-24 20:58:07,977 : INFO : worker thread finished; awaiting finish of 0 more threads\n",
      "2019-03-24 20:58:07,978 : INFO : EPOCH - 16 : training on 1597007 raw words (1390147 effective words) took 1.3s, 1057362 effective words/s\n",
      "2019-03-24 20:58:08,993 : INFO : EPOCH 17 - PROGRESS: at 76.48% examples, 1048153 words/s, in_qsize 15, out_qsize 0\n",
      "2019-03-24 20:58:09,243 : INFO : worker thread finished; awaiting finish of 7 more threads\n",
      "2019-03-24 20:58:09,245 : INFO : worker thread finished; awaiting finish of 6 more threads\n",
      "2019-03-24 20:58:09,254 : INFO : worker thread finished; awaiting finish of 5 more threads\n",
      "2019-03-24 20:58:09,256 : INFO : worker thread finished; awaiting finish of 4 more threads\n",
      "2019-03-24 20:58:09,268 : INFO : worker thread finished; awaiting finish of 3 more threads\n"
     ]
    },
    {
     "name": "stderr",
     "output_type": "stream",
     "text": [
      "2019-03-24 20:58:09,279 : INFO : worker thread finished; awaiting finish of 2 more threads\n",
      "2019-03-24 20:58:09,286 : INFO : worker thread finished; awaiting finish of 1 more threads\n",
      "2019-03-24 20:58:09,289 : INFO : worker thread finished; awaiting finish of 0 more threads\n",
      "2019-03-24 20:58:09,289 : INFO : EPOCH - 17 : training on 1597007 raw words (1389953 effective words) took 1.3s, 1067374 effective words/s\n",
      "2019-03-24 20:58:10,301 : INFO : EPOCH 18 - PROGRESS: at 74.65% examples, 1025848 words/s, in_qsize 13, out_qsize 2\n",
      "2019-03-24 20:58:10,565 : INFO : worker thread finished; awaiting finish of 7 more threads\n",
      "2019-03-24 20:58:10,572 : INFO : worker thread finished; awaiting finish of 6 more threads\n",
      "2019-03-24 20:58:10,583 : INFO : worker thread finished; awaiting finish of 5 more threads\n",
      "2019-03-24 20:58:10,586 : INFO : worker thread finished; awaiting finish of 4 more threads\n",
      "2019-03-24 20:58:10,588 : INFO : worker thread finished; awaiting finish of 3 more threads\n",
      "2019-03-24 20:58:10,599 : INFO : worker thread finished; awaiting finish of 2 more threads\n",
      "2019-03-24 20:58:10,607 : INFO : worker thread finished; awaiting finish of 1 more threads\n",
      "2019-03-24 20:58:10,609 : INFO : worker thread finished; awaiting finish of 0 more threads\n",
      "2019-03-24 20:58:10,609 : INFO : EPOCH - 18 : training on 1597007 raw words (1389933 effective words) took 1.3s, 1059690 effective words/s\n",
      "2019-03-24 20:58:11,632 : INFO : EPOCH 19 - PROGRESS: at 75.98% examples, 1031947 words/s, in_qsize 15, out_qsize 0\n",
      "2019-03-24 20:58:11,864 : INFO : worker thread finished; awaiting finish of 7 more threads\n",
      "2019-03-24 20:58:11,874 : INFO : worker thread finished; awaiting finish of 6 more threads\n",
      "2019-03-24 20:58:11,883 : INFO : worker thread finished; awaiting finish of 5 more threads\n",
      "2019-03-24 20:58:11,885 : INFO : worker thread finished; awaiting finish of 4 more threads\n",
      "2019-03-24 20:58:11,888 : INFO : worker thread finished; awaiting finish of 3 more threads\n",
      "2019-03-24 20:58:11,897 : INFO : worker thread finished; awaiting finish of 2 more threads\n",
      "2019-03-24 20:58:11,898 : INFO : worker thread finished; awaiting finish of 1 more threads\n",
      "2019-03-24 20:58:11,899 : INFO : worker thread finished; awaiting finish of 0 more threads\n",
      "2019-03-24 20:58:11,900 : INFO : EPOCH - 19 : training on 1597007 raw words (1390364 effective words) took 1.3s, 1084119 effective words/s\n",
      "2019-03-24 20:58:12,911 : INFO : EPOCH 20 - PROGRESS: at 73.95% examples, 1018359 words/s, in_qsize 15, out_qsize 0\n",
      "2019-03-24 20:58:13,175 : INFO : worker thread finished; awaiting finish of 7 more threads\n",
      "2019-03-24 20:58:13,176 : INFO : worker thread finished; awaiting finish of 6 more threads\n",
      "2019-03-24 20:58:13,187 : INFO : worker thread finished; awaiting finish of 5 more threads\n",
      "2019-03-24 20:58:13,204 : INFO : worker thread finished; awaiting finish of 4 more threads\n",
      "2019-03-24 20:58:13,206 : INFO : worker thread finished; awaiting finish of 3 more threads\n",
      "2019-03-24 20:58:13,210 : INFO : worker thread finished; awaiting finish of 2 more threads\n",
      "2019-03-24 20:58:13,220 : INFO : worker thread finished; awaiting finish of 1 more threads\n",
      "2019-03-24 20:58:13,222 : INFO : worker thread finished; awaiting finish of 0 more threads\n",
      "2019-03-24 20:58:13,222 : INFO : EPOCH - 20 : training on 1597007 raw words (1389952 effective words) took 1.3s, 1057968 effective words/s\n",
      "2019-03-24 20:58:14,237 : INFO : EPOCH 21 - PROGRESS: at 77.73% examples, 1065704 words/s, in_qsize 14, out_qsize 1\n",
      "2019-03-24 20:58:14,466 : INFO : worker thread finished; awaiting finish of 7 more threads\n",
      "2019-03-24 20:58:14,479 : INFO : worker thread finished; awaiting finish of 6 more threads\n",
      "2019-03-24 20:58:14,481 : INFO : worker thread finished; awaiting finish of 5 more threads\n",
      "2019-03-24 20:58:14,492 : INFO : worker thread finished; awaiting finish of 4 more threads\n",
      "2019-03-24 20:58:14,494 : INFO : worker thread finished; awaiting finish of 3 more threads\n",
      "2019-03-24 20:58:14,505 : INFO : worker thread finished; awaiting finish of 2 more threads\n",
      "2019-03-24 20:58:14,507 : INFO : worker thread finished; awaiting finish of 1 more threads\n",
      "2019-03-24 20:58:14,511 : INFO : worker thread finished; awaiting finish of 0 more threads\n",
      "2019-03-24 20:58:14,511 : INFO : EPOCH - 21 : training on 1597007 raw words (1390327 effective words) took 1.3s, 1085712 effective words/s\n",
      "2019-03-24 20:58:15,532 : INFO : EPOCH 22 - PROGRESS: at 75.30% examples, 1026158 words/s, in_qsize 16, out_qsize 0\n",
      "2019-03-24 20:58:15,800 : INFO : worker thread finished; awaiting finish of 7 more threads\n",
      "2019-03-24 20:58:15,803 : INFO : worker thread finished; awaiting finish of 6 more threads\n",
      "2019-03-24 20:58:15,805 : INFO : worker thread finished; awaiting finish of 5 more threads\n",
      "2019-03-24 20:58:15,807 : INFO : worker thread finished; awaiting finish of 4 more threads\n",
      "2019-03-24 20:58:15,819 : INFO : worker thread finished; awaiting finish of 3 more threads\n",
      "2019-03-24 20:58:15,823 : INFO : worker thread finished; awaiting finish of 2 more threads\n",
      "2019-03-24 20:58:15,827 : INFO : worker thread finished; awaiting finish of 1 more threads\n",
      "2019-03-24 20:58:15,831 : INFO : worker thread finished; awaiting finish of 0 more threads\n",
      "2019-03-24 20:58:15,831 : INFO : EPOCH - 22 : training on 1597007 raw words (1390382 effective words) took 1.3s, 1060389 effective words/s\n",
      "2019-03-24 20:58:16,844 : INFO : EPOCH 23 - PROGRESS: at 75.89% examples, 1041850 words/s, in_qsize 13, out_qsize 2\n",
      "2019-03-24 20:58:17,089 : INFO : worker thread finished; awaiting finish of 7 more threads\n",
      "2019-03-24 20:58:17,090 : INFO : worker thread finished; awaiting finish of 6 more threads\n",
      "2019-03-24 20:58:17,100 : INFO : worker thread finished; awaiting finish of 5 more threads\n",
      "2019-03-24 20:58:17,102 : INFO : worker thread finished; awaiting finish of 4 more threads\n",
      "2019-03-24 20:58:17,110 : INFO : worker thread finished; awaiting finish of 3 more threads\n",
      "2019-03-24 20:58:17,116 : INFO : worker thread finished; awaiting finish of 2 more threads\n",
      "2019-03-24 20:58:17,125 : INFO : worker thread finished; awaiting finish of 1 more threads\n",
      "2019-03-24 20:58:17,126 : INFO : worker thread finished; awaiting finish of 0 more threads\n",
      "2019-03-24 20:58:17,127 : INFO : EPOCH - 23 : training on 1597007 raw words (1390277 effective words) took 1.3s, 1080175 effective words/s\n",
      "2019-03-24 20:58:18,138 : INFO : EPOCH 24 - PROGRESS: at 77.16% examples, 1060615 words/s, in_qsize 15, out_qsize 0\n",
      "2019-03-24 20:58:18,372 : INFO : worker thread finished; awaiting finish of 7 more threads\n",
      "2019-03-24 20:58:18,375 : INFO : worker thread finished; awaiting finish of 6 more threads\n",
      "2019-03-24 20:58:18,380 : INFO : worker thread finished; awaiting finish of 5 more threads\n",
      "2019-03-24 20:58:18,390 : INFO : worker thread finished; awaiting finish of 4 more threads\n",
      "2019-03-24 20:58:18,393 : INFO : worker thread finished; awaiting finish of 3 more threads\n",
      "2019-03-24 20:58:18,399 : INFO : worker thread finished; awaiting finish of 2 more threads\n",
      "2019-03-24 20:58:18,406 : INFO : worker thread finished; awaiting finish of 1 more threads\n",
      "2019-03-24 20:58:18,408 : INFO : worker thread finished; awaiting finish of 0 more threads\n",
      "2019-03-24 20:58:18,409 : INFO : EPOCH - 24 : training on 1597007 raw words (1390023 effective words) took 1.3s, 1091276 effective words/s\n",
      "2019-03-24 20:58:19,423 : INFO : EPOCH 25 - PROGRESS: at 75.21% examples, 1031885 words/s, in_qsize 15, out_qsize 0\n",
      "2019-03-24 20:58:19,688 : INFO : worker thread finished; awaiting finish of 7 more threads\n",
      "2019-03-24 20:58:19,692 : INFO : worker thread finished; awaiting finish of 6 more threads\n",
      "2019-03-24 20:58:19,701 : INFO : worker thread finished; awaiting finish of 5 more threads\n",
      "2019-03-24 20:58:19,712 : INFO : worker thread finished; awaiting finish of 4 more threads\n",
      "2019-03-24 20:58:19,714 : INFO : worker thread finished; awaiting finish of 3 more threads\n",
      "2019-03-24 20:58:19,716 : INFO : worker thread finished; awaiting finish of 2 more threads\n",
      "2019-03-24 20:58:19,717 : INFO : worker thread finished; awaiting finish of 1 more threads\n",
      "2019-03-24 20:58:19,718 : INFO : worker thread finished; awaiting finish of 0 more threads\n",
      "2019-03-24 20:58:19,719 : INFO : EPOCH - 25 : training on 1597007 raw words (1390353 effective words) took 1.3s, 1068314 effective words/s\n"
     ]
    },
    {
     "name": "stderr",
     "output_type": "stream",
     "text": [
      "2019-03-24 20:58:20,733 : INFO : EPOCH 26 - PROGRESS: at 77.78% examples, 1068741 words/s, in_qsize 16, out_qsize 0\n",
      "2019-03-24 20:58:20,967 : INFO : worker thread finished; awaiting finish of 7 more threads\n",
      "2019-03-24 20:58:20,969 : INFO : worker thread finished; awaiting finish of 6 more threads\n",
      "2019-03-24 20:58:20,984 : INFO : worker thread finished; awaiting finish of 5 more threads\n",
      "2019-03-24 20:58:20,986 : INFO : worker thread finished; awaiting finish of 4 more threads\n",
      "2019-03-24 20:58:20,987 : INFO : worker thread finished; awaiting finish of 3 more threads\n",
      "2019-03-24 20:58:20,992 : INFO : worker thread finished; awaiting finish of 2 more threads\n",
      "2019-03-24 20:58:20,996 : INFO : worker thread finished; awaiting finish of 1 more threads\n",
      "2019-03-24 20:58:20,998 : INFO : worker thread finished; awaiting finish of 0 more threads\n",
      "2019-03-24 20:58:20,999 : INFO : EPOCH - 26 : training on 1597007 raw words (1390088 effective words) took 1.3s, 1095504 effective words/s\n",
      "2019-03-24 20:58:22,025 : INFO : EPOCH 27 - PROGRESS: at 76.48% examples, 1042644 words/s, in_qsize 16, out_qsize 0\n",
      "2019-03-24 20:58:22,262 : INFO : worker thread finished; awaiting finish of 7 more threads\n",
      "2019-03-24 20:58:22,278 : INFO : worker thread finished; awaiting finish of 6 more threads\n",
      "2019-03-24 20:58:22,283 : INFO : worker thread finished; awaiting finish of 5 more threads\n",
      "2019-03-24 20:58:22,288 : INFO : worker thread finished; awaiting finish of 4 more threads\n",
      "2019-03-24 20:58:22,296 : INFO : worker thread finished; awaiting finish of 3 more threads\n",
      "2019-03-24 20:58:22,297 : INFO : worker thread finished; awaiting finish of 2 more threads\n",
      "2019-03-24 20:58:22,306 : INFO : worker thread finished; awaiting finish of 1 more threads\n",
      "2019-03-24 20:58:22,313 : INFO : worker thread finished; awaiting finish of 0 more threads\n",
      "2019-03-24 20:58:22,314 : INFO : EPOCH - 27 : training on 1597007 raw words (1390239 effective words) took 1.3s, 1069202 effective words/s\n",
      "2019-03-24 20:58:23,341 : INFO : EPOCH 28 - PROGRESS: at 75.89% examples, 1039718 words/s, in_qsize 15, out_qsize 0\n",
      "2019-03-24 20:58:23,586 : INFO : worker thread finished; awaiting finish of 7 more threads\n",
      "2019-03-24 20:58:23,598 : INFO : worker thread finished; awaiting finish of 6 more threads\n",
      "2019-03-24 20:58:23,600 : INFO : worker thread finished; awaiting finish of 5 more threads\n",
      "2019-03-24 20:58:23,611 : INFO : worker thread finished; awaiting finish of 4 more threads\n",
      "2019-03-24 20:58:23,620 : INFO : worker thread finished; awaiting finish of 3 more threads\n",
      "2019-03-24 20:58:23,622 : INFO : worker thread finished; awaiting finish of 2 more threads\n",
      "2019-03-24 20:58:23,632 : INFO : worker thread finished; awaiting finish of 1 more threads\n",
      "2019-03-24 20:58:23,635 : INFO : worker thread finished; awaiting finish of 0 more threads\n",
      "2019-03-24 20:58:23,636 : INFO : EPOCH - 28 : training on 1597007 raw words (1389649 effective words) took 1.3s, 1068056 effective words/s\n",
      "2019-03-24 20:58:24,658 : INFO : EPOCH 29 - PROGRESS: at 77.78% examples, 1058288 words/s, in_qsize 16, out_qsize 2\n",
      "2019-03-24 20:58:24,883 : INFO : worker thread finished; awaiting finish of 7 more threads\n",
      "2019-03-24 20:58:24,888 : INFO : worker thread finished; awaiting finish of 6 more threads\n",
      "2019-03-24 20:58:24,893 : INFO : worker thread finished; awaiting finish of 5 more threads\n",
      "2019-03-24 20:58:24,895 : INFO : worker thread finished; awaiting finish of 4 more threads\n",
      "2019-03-24 20:58:24,899 : INFO : worker thread finished; awaiting finish of 3 more threads\n",
      "2019-03-24 20:58:24,906 : INFO : worker thread finished; awaiting finish of 2 more threads\n",
      "2019-03-24 20:58:24,911 : INFO : worker thread finished; awaiting finish of 1 more threads\n",
      "2019-03-24 20:58:24,912 : INFO : worker thread finished; awaiting finish of 0 more threads\n",
      "2019-03-24 20:58:24,913 : INFO : EPOCH - 29 : training on 1597007 raw words (1389987 effective words) took 1.3s, 1096200 effective words/s\n",
      "2019-03-24 20:58:25,924 : INFO : EPOCH 30 - PROGRESS: at 75.30% examples, 1034996 words/s, in_qsize 16, out_qsize 0\n",
      "2019-03-24 20:58:26,182 : INFO : worker thread finished; awaiting finish of 7 more threads\n",
      "2019-03-24 20:58:26,190 : INFO : worker thread finished; awaiting finish of 6 more threads\n",
      "2019-03-24 20:58:26,192 : INFO : worker thread finished; awaiting finish of 5 more threads\n",
      "2019-03-24 20:58:26,195 : INFO : worker thread finished; awaiting finish of 4 more threads\n",
      "2019-03-24 20:58:26,209 : INFO : worker thread finished; awaiting finish of 3 more threads\n",
      "2019-03-24 20:58:26,214 : INFO : worker thread finished; awaiting finish of 2 more threads\n",
      "2019-03-24 20:58:26,215 : INFO : worker thread finished; awaiting finish of 1 more threads\n",
      "2019-03-24 20:58:26,216 : INFO : worker thread finished; awaiting finish of 0 more threads\n",
      "2019-03-24 20:58:26,217 : INFO : EPOCH - 30 : training on 1597007 raw words (1390107 effective words) took 1.3s, 1072885 effective words/s\n",
      "2019-03-24 20:58:27,234 : INFO : EPOCH 31 - PROGRESS: at 77.16% examples, 1057770 words/s, in_qsize 15, out_qsize 0\n",
      "2019-03-24 20:58:27,474 : INFO : worker thread finished; awaiting finish of 7 more threads\n",
      "2019-03-24 20:58:27,486 : INFO : worker thread finished; awaiting finish of 6 more threads\n",
      "2019-03-24 20:58:27,488 : INFO : worker thread finished; awaiting finish of 5 more threads\n",
      "2019-03-24 20:58:27,489 : INFO : worker thread finished; awaiting finish of 4 more threads\n",
      "2019-03-24 20:58:27,503 : INFO : worker thread finished; awaiting finish of 3 more threads\n",
      "2019-03-24 20:58:27,506 : INFO : worker thread finished; awaiting finish of 2 more threads\n",
      "2019-03-24 20:58:27,519 : INFO : worker thread finished; awaiting finish of 1 more threads\n",
      "2019-03-24 20:58:27,520 : INFO : worker thread finished; awaiting finish of 0 more threads\n",
      "2019-03-24 20:58:27,521 : INFO : EPOCH - 31 : training on 1597007 raw words (1389820 effective words) took 1.3s, 1075538 effective words/s\n",
      "2019-03-24 20:58:28,534 : INFO : EPOCH 32 - PROGRESS: at 75.30% examples, 1034477 words/s, in_qsize 15, out_qsize 0\n",
      "2019-03-24 20:58:28,790 : INFO : worker thread finished; awaiting finish of 7 more threads\n",
      "2019-03-24 20:58:28,799 : INFO : worker thread finished; awaiting finish of 6 more threads\n",
      "2019-03-24 20:58:28,801 : INFO : worker thread finished; awaiting finish of 5 more threads\n",
      "2019-03-24 20:58:28,815 : INFO : worker thread finished; awaiting finish of 4 more threads\n",
      "2019-03-24 20:58:28,821 : INFO : worker thread finished; awaiting finish of 3 more threads\n",
      "2019-03-24 20:58:28,823 : INFO : worker thread finished; awaiting finish of 2 more threads\n",
      "2019-03-24 20:58:28,827 : INFO : worker thread finished; awaiting finish of 1 more threads\n",
      "2019-03-24 20:58:28,830 : INFO : worker thread finished; awaiting finish of 0 more threads\n",
      "2019-03-24 20:58:28,831 : INFO : EPOCH - 32 : training on 1597007 raw words (1390415 effective words) took 1.3s, 1068944 effective words/s\n",
      "2019-03-24 20:58:28,832 : INFO : training on a 51104224 raw words (44484153 effective words) took 41.8s, 1063023 effective words/s\n"
     ]
    },
    {
     "name": "stdout",
     "output_type": "stream",
     "text": [
      "CPU times: user 3min 52s, sys: 1.01 s, total: 3min 53s\n",
      "Wall time: 41.8 s\n"
     ]
    },
    {
     "data": {
      "text/plain": [
       "(44484153, 51104224)"
      ]
     },
     "execution_count": 50,
     "metadata": {},
     "output_type": "execute_result"
    }
   ],
   "source": [
    "%%time\n",
    "w2v_model.train(documents, total_examples=len(documents), epochs=W2V_EPOCH)"
   ]
  },
  {
   "cell_type": "code",
   "execution_count": 51,
   "metadata": {},
   "outputs": [
    {
     "name": "stderr",
     "output_type": "stream",
     "text": [
      "/home/spriyanshu723/anaconda3/envs/fastai-cpu/lib/python3.6/site-packages/ipykernel_launcher.py:1: DeprecationWarning: Call to deprecated `most_similar` (Method will be removed in 4.0.0, use self.wv.most_similar() instead).\n",
      "  \"\"\"Entry point for launching an IPython kernel.\n",
      "2019-03-24 20:58:34,504 : INFO : precomputing L2-norms of word weight vectors\n"
     ]
    },
    {
     "data": {
      "text/plain": [
       "[('fucking', 0.4944142699241638),\n",
       " ('shit', 0.45532524585723877),\n",
       " ('motherfucking', 0.44997256994247437),\n",
       " ('gwernol', 0.43931716680526733),\n",
       " ('fuckhead', 0.3986322581768036),\n",
       " ('snitch', 0.3973414897918701),\n",
       " ('motherfucker', 0.39610204100608826),\n",
       " ('jujube', 0.3946058452129364),\n",
       " ('fuckin', 0.392997682094574),\n",
       " ('eppstein', 0.39277517795562744)]"
      ]
     },
     "execution_count": 51,
     "metadata": {},
     "output_type": "execute_result"
    }
   ],
   "source": [
    "w2v_model.most_similar(\"fuck\")"
   ]
  },
  {
   "cell_type": "code",
   "execution_count": 52,
   "metadata": {},
   "outputs": [
    {
     "name": "stderr",
     "output_type": "stream",
     "text": [
      "/home/spriyanshu723/anaconda3/envs/fastai-cpu/lib/python3.6/site-packages/ipykernel_launcher.py:1: DeprecationWarning: Call to deprecated `most_similar` (Method will be removed in 4.0.0, use self.wv.most_similar() instead).\n",
      "  \"\"\"Entry point for launching an IPython kernel.\n"
     ]
    },
    {
     "data": {
      "text/plain": [
       "[('bitches', 0.690582275390625),\n",
       " ('hoe', 0.6671152114868164),\n",
       " ('niggah', 0.6000617146492004),\n",
       " ('nigguh', 0.5988130569458008),\n",
       " ('nicca', 0.58819580078125),\n",
       " ('hoes', 0.5832676291465759),\n",
       " ('ima', 0.5726193785667419),\n",
       " ('chick', 0.5721694231033325),\n",
       " ('nigga', 0.5589268207550049),\n",
       " ('pussy', 0.5450543165206909)]"
      ]
     },
     "execution_count": 52,
     "metadata": {},
     "output_type": "execute_result"
    }
   ],
   "source": [
    "w2v_model.most_similar(\"bitch\")"
   ]
  },
  {
   "cell_type": "markdown",
   "metadata": {},
   "source": [
    "## TOKENIZE TEXT "
   ]
  },
  {
   "cell_type": "code",
   "execution_count": 53,
   "metadata": {},
   "outputs": [
    {
     "name": "stdout",
     "output_type": "stream",
     "text": [
      "Total words 89701\n",
      "CPU times: user 2.16 s, sys: 28 ms, total: 2.18 s\n",
      "Wall time: 2.18 s\n"
     ]
    }
   ],
   "source": [
    "%%time\n",
    "tokenizer = Tokenizer()\n",
    "tokenizer.fit_on_texts(df_train.tweet)\n",
    "\n",
    "vocab_size = len(tokenizer.word_index) + 1\n",
    "print(\"Total words\", vocab_size)"
   ]
  },
  {
   "cell_type": "code",
   "execution_count": 54,
   "metadata": {},
   "outputs": [
    {
     "name": "stdout",
     "output_type": "stream",
     "text": [
      "CPU times: user 2.39 s, sys: 68.2 ms, total: 2.45 s\n",
      "Wall time: 2.45 s\n"
     ]
    }
   ],
   "source": [
    "%%time\n",
    "x_train = pad_sequences(tokenizer.texts_to_sequences(df_train.tweet), maxlen=SEQUENCE_LENGTH)\n",
    "x_test = pad_sequences(tokenizer.texts_to_sequences(df_test.tweet), maxlen=SEQUENCE_LENGTH)"
   ]
  },
  {
   "cell_type": "code",
   "execution_count": 55,
   "metadata": {},
   "outputs": [
    {
     "data": {
      "text/html": [
       "<div>\n",
       "<style scoped>\n",
       "    .dataframe tbody tr th:only-of-type {\n",
       "        vertical-align: middle;\n",
       "    }\n",
       "\n",
       "    .dataframe tbody tr th {\n",
       "        vertical-align: top;\n",
       "    }\n",
       "\n",
       "    .dataframe thead th {\n",
       "        text-align: right;\n",
       "    }\n",
       "</style>\n",
       "<table border=\"1\" class=\"dataframe\">\n",
       "  <thead>\n",
       "    <tr style=\"text-align: right;\">\n",
       "      <th></th>\n",
       "      <th>tweet</th>\n",
       "      <th>tweet_punct</th>\n",
       "      <th>tweet_pre</th>\n",
       "      <th>tweet_tokenized</th>\n",
       "      <th>tweet_nonstop</th>\n",
       "      <th>tweet_stemmed</th>\n",
       "      <th>tweet_lemmatized</th>\n",
       "      <th>tweet_clean</th>\n",
       "      <th>target</th>\n",
       "    </tr>\n",
       "  </thead>\n",
       "  <tbody>\n",
       "    <tr>\n",
       "      <th>138037</th>\n",
       "      <td>explanation silence associates friends enemies...</td>\n",
       "      <td>Explanation for silence\\nTo all my associates ...</td>\n",
       "      <td>explanation silence associates friends enemies...</td>\n",
       "      <td>[explanation, silence, associates, friends, en...</td>\n",
       "      <td>[explanation, silence, associates, friends, en...</td>\n",
       "      <td>[explan, silenc, associ, friend, enemi, etc, w...</td>\n",
       "      <td>[explanation, silence, associate, friend, enem...</td>\n",
       "      <td>[explan, silenc, associ, friend, enemi, etc, w...</td>\n",
       "      <td>UNHATE</td>\n",
       "    </tr>\n",
       "    <tr>\n",
       "      <th>39722</th>\n",
       "      <td>fair game copy copyright protection exists del...</td>\n",
       "      <td>Fair game to copy  No copyright protection exi...</td>\n",
       "      <td>fair game copy copyright protection exists del...</td>\n",
       "      <td>[fair, game, copy, copyright, protection, exis...</td>\n",
       "      <td>[fair, game, copy, copyright, protection, exis...</td>\n",
       "      <td>[fair, game, copi, copyright, protect, exist, ...</td>\n",
       "      <td>[fair, game, copy, copyright, protection, exis...</td>\n",
       "      <td>[fair, game, copi, copyright, protect, exist, ...</td>\n",
       "      <td>UNHATE</td>\n",
       "    </tr>\n",
       "    <tr>\n",
       "      <th>16537</th>\n",
       "      <td>rt mr jsmart24 damn sick damn lie smfh 8230 sk...</td>\n",
       "      <td>RT MrJSmart So damn sick of that damn lie smfh...</td>\n",
       "      <td>rt mrjsmart damn sick damn lie smfhskinny girl...</td>\n",
       "      <td>[rt, mrjsmart, damn, sick, damn, lie, smfhskin...</td>\n",
       "      <td>[rt, mrjsmart, damn, sick, damn, lie, smfhskin...</td>\n",
       "      <td>[rt, mrjsmart, damn, sick, damn, lie, smfhskin...</td>\n",
       "      <td>[rt, mrjsmart, damn, sick, damn, lie, smfhskin...</td>\n",
       "      <td>[rt, mrjsmart, damn, sick, damn, lie, smfhskin...</td>\n",
       "      <td>HATE</td>\n",
       "    </tr>\n",
       "    <tr>\n",
       "      <th>5695</th>\n",
       "      <td>italian montana tyg235 chill dad gets bitches ...</td>\n",
       "      <td>carterboyleake italianmontana tyg chill your d...</td>\n",
       "      <td>carterboyleake italianmontana tyg chill dad ge...</td>\n",
       "      <td>[carterboyleake, italianmontana, tyg, chill, d...</td>\n",
       "      <td>[carterboyleake, italianmontana, tyg, chill, d...</td>\n",
       "      <td>[carterboyleak, italianmontana, tyg, chill, da...</td>\n",
       "      <td>[carterboyleake, italianmontana, tyg, chill, d...</td>\n",
       "      <td>[carterboyleak, italianmontana, tyg, chill, da...</td>\n",
       "      <td>HATE</td>\n",
       "    </tr>\n",
       "    <tr>\n",
       "      <th>110655</th>\n",
       "      <td>know extent eu french republic part eu cfp fra...</td>\n",
       "      <td>I dont know the extent of the EU Is all of the...</td>\n",
       "      <td>dont know extent eu french republic part eu cf...</td>\n",
       "      <td>[dont, know, extent, eu, french, republic, par...</td>\n",
       "      <td>[dont, know, extent, eu, french, republic, par...</td>\n",
       "      <td>[dont, know, extent, eu, french, republ, part,...</td>\n",
       "      <td>[dont, know, extent, eu, french, republic, par...</td>\n",
       "      <td>[dont, know, extent, eu, french, republ, part,...</td>\n",
       "      <td>UNHATE</td>\n",
       "    </tr>\n",
       "  </tbody>\n",
       "</table>\n",
       "</div>"
      ],
      "text/plain": [
       "                                                    tweet  \\\n",
       "138037  explanation silence associates friends enemies...   \n",
       "39722   fair game copy copyright protection exists del...   \n",
       "16537   rt mr jsmart24 damn sick damn lie smfh 8230 sk...   \n",
       "5695    italian montana tyg235 chill dad gets bitches ...   \n",
       "110655  know extent eu french republic part eu cfp fra...   \n",
       "\n",
       "                                              tweet_punct  \\\n",
       "138037  Explanation for silence\\nTo all my associates ...   \n",
       "39722   Fair game to copy  No copyright protection exi...   \n",
       "16537   RT MrJSmart So damn sick of that damn lie smfh...   \n",
       "5695    carterboyleake italianmontana tyg chill your d...   \n",
       "110655  I dont know the extent of the EU Is all of the...   \n",
       "\n",
       "                                                tweet_pre  \\\n",
       "138037  explanation silence associates friends enemies...   \n",
       "39722   fair game copy copyright protection exists del...   \n",
       "16537   rt mrjsmart damn sick damn lie smfhskinny girl...   \n",
       "5695    carterboyleake italianmontana tyg chill dad ge...   \n",
       "110655  dont know extent eu french republic part eu cf...   \n",
       "\n",
       "                                          tweet_tokenized  \\\n",
       "138037  [explanation, silence, associates, friends, en...   \n",
       "39722   [fair, game, copy, copyright, protection, exis...   \n",
       "16537   [rt, mrjsmart, damn, sick, damn, lie, smfhskin...   \n",
       "5695    [carterboyleake, italianmontana, tyg, chill, d...   \n",
       "110655  [dont, know, extent, eu, french, republic, par...   \n",
       "\n",
       "                                            tweet_nonstop  \\\n",
       "138037  [explanation, silence, associates, friends, en...   \n",
       "39722   [fair, game, copy, copyright, protection, exis...   \n",
       "16537   [rt, mrjsmart, damn, sick, damn, lie, smfhskin...   \n",
       "5695    [carterboyleake, italianmontana, tyg, chill, d...   \n",
       "110655  [dont, know, extent, eu, french, republic, par...   \n",
       "\n",
       "                                            tweet_stemmed  \\\n",
       "138037  [explan, silenc, associ, friend, enemi, etc, w...   \n",
       "39722   [fair, game, copi, copyright, protect, exist, ...   \n",
       "16537   [rt, mrjsmart, damn, sick, damn, lie, smfhskin...   \n",
       "5695    [carterboyleak, italianmontana, tyg, chill, da...   \n",
       "110655  [dont, know, extent, eu, french, republ, part,...   \n",
       "\n",
       "                                         tweet_lemmatized  \\\n",
       "138037  [explanation, silence, associate, friend, enem...   \n",
       "39722   [fair, game, copy, copyright, protection, exis...   \n",
       "16537   [rt, mrjsmart, damn, sick, damn, lie, smfhskin...   \n",
       "5695    [carterboyleake, italianmontana, tyg, chill, d...   \n",
       "110655  [dont, know, extent, eu, french, republic, par...   \n",
       "\n",
       "                                              tweet_clean  target  \n",
       "138037  [explan, silenc, associ, friend, enemi, etc, w...  UNHATE  \n",
       "39722   [fair, game, copi, copyright, protect, exist, ...  UNHATE  \n",
       "16537   [rt, mrjsmart, damn, sick, damn, lie, smfhskin...    HATE  \n",
       "5695    [carterboyleak, italianmontana, tyg, chill, da...    HATE  \n",
       "110655  [dont, know, extent, eu, french, republ, part,...  UNHATE  "
      ]
     },
     "execution_count": 55,
     "metadata": {},
     "output_type": "execute_result"
    }
   ],
   "source": [
    "data.head()"
   ]
  },
  {
   "cell_type": "markdown",
   "metadata": {},
   "source": [
    "## LABEL ENCODER "
   ]
  },
  {
   "cell_type": "code",
   "execution_count": 56,
   "metadata": {},
   "outputs": [
    {
     "data": {
      "text/plain": [
       "['HATE', 'UNHATE']"
      ]
     },
     "execution_count": 56,
     "metadata": {},
     "output_type": "execute_result"
    }
   ],
   "source": [
    "labels = df_train.target.unique().tolist()\n",
    "labels"
   ]
  },
  {
   "cell_type": "code",
   "execution_count": 57,
   "metadata": {},
   "outputs": [
    {
     "data": {
      "text/plain": [
       "LabelEncoder()"
      ]
     },
     "execution_count": 57,
     "metadata": {},
     "output_type": "execute_result"
    }
   ],
   "source": [
    "encoder = LabelEncoder()\n",
    "encoder.fit(df_train.target.tolist())"
   ]
  },
  {
   "cell_type": "code",
   "execution_count": 58,
   "metadata": {},
   "outputs": [],
   "source": [
    "y_train = encoder.transform(df_train.target.tolist())\n",
    "y_test = encoder.transform(df_test.target.tolist())"
   ]
  },
  {
   "cell_type": "code",
   "execution_count": 62,
   "metadata": {},
   "outputs": [],
   "source": [
    "y_train = y_train.reshape(-1,1)\n",
    "y_test = y_test.reshape(-1,1)"
   ]
  },
  {
   "cell_type": "code",
   "execution_count": 63,
   "metadata": {},
   "outputs": [
    {
     "name": "stdout",
     "output_type": "stream",
     "text": [
      "y_train (62544, 1)\n",
      "y_test (15636, 1)\n"
     ]
    }
   ],
   "source": [
    "print(\"y_train\",y_train.shape)\n",
    "print(\"y_test\",y_test.shape)"
   ]
  },
  {
   "cell_type": "code",
   "execution_count": 64,
   "metadata": {},
   "outputs": [
    {
     "name": "stdout",
     "output_type": "stream",
     "text": [
      "x_train (62544, 300)\n",
      "y_train (62544, 1)\n",
      "\n",
      "x_test (15636, 300)\n",
      "y_test (15636, 1)\n"
     ]
    }
   ],
   "source": [
    "print(\"x_train\", x_train.shape)\n",
    "print(\"y_train\", y_train.shape)\n",
    "print()\n",
    "print(\"x_test\", x_test.shape)\n",
    "print(\"y_test\", y_test.shape)"
   ]
  },
  {
   "cell_type": "code",
   "execution_count": 65,
   "metadata": {},
   "outputs": [
    {
     "data": {
      "text/plain": [
       "array([[0],\n",
       "       [0],\n",
       "       [1],\n",
       "       [1],\n",
       "       [0],\n",
       "       [1],\n",
       "       [0],\n",
       "       [1],\n",
       "       [0],\n",
       "       [1]])"
      ]
     },
     "execution_count": 65,
     "metadata": {},
     "output_type": "execute_result"
    }
   ],
   "source": [
    "y_train[:10]"
   ]
  },
  {
   "cell_type": "markdown",
   "metadata": {},
   "source": [
    "## EMBEDDING LAYER "
   ]
  },
  {
   "cell_type": "code",
   "execution_count": 66,
   "metadata": {},
   "outputs": [
    {
     "name": "stdout",
     "output_type": "stream",
     "text": [
      "(89701, 300)\n"
     ]
    }
   ],
   "source": [
    "embedding_matrix = np.zeros((vocab_size, W2V_SIZE))\n",
    "for word, i in tokenizer.word_index.items():\n",
    "    if word in w2v_model.wv:\n",
    "        embedding_matrix[i] = w2v_model.wv[word]\n",
    "print(embedding_matrix.shape)"
   ]
  },
  {
   "cell_type": "code",
   "execution_count": 67,
   "metadata": {},
   "outputs": [],
   "source": [
    "embedding_layer = Embedding(vocab_size, W2V_SIZE, weights=[embedding_matrix], input_length=SEQUENCE_LENGTH, trainable=False)"
   ]
  },
  {
   "cell_type": "markdown",
   "metadata": {},
   "source": [
    "## BUILD MODEL "
   ]
  },
  {
   "cell_type": "code",
   "execution_count": 68,
   "metadata": {},
   "outputs": [
    {
     "name": "stdout",
     "output_type": "stream",
     "text": [
      "WARNING:tensorflow:From /home/spriyanshu723/anaconda3/envs/fastai-cpu/lib/python3.6/site-packages/tensorflow/python/framework/op_def_library.py:263: colocate_with (from tensorflow.python.framework.ops) is deprecated and will be removed in a future version.\n",
      "Instructions for updating:\n",
      "Colocations handled automatically by placer.\n"
     ]
    },
    {
     "name": "stderr",
     "output_type": "stream",
     "text": [
      "2019-03-24 21:03:34,883 : WARNING : From /home/spriyanshu723/anaconda3/envs/fastai-cpu/lib/python3.6/site-packages/tensorflow/python/framework/op_def_library.py:263: colocate_with (from tensorflow.python.framework.ops) is deprecated and will be removed in a future version.\n",
      "Instructions for updating:\n",
      "Colocations handled automatically by placer.\n"
     ]
    },
    {
     "name": "stdout",
     "output_type": "stream",
     "text": [
      "WARNING:tensorflow:From /home/spriyanshu723/anaconda3/envs/fastai-cpu/lib/python3.6/site-packages/keras/backend/tensorflow_backend.py:3445: calling dropout (from tensorflow.python.ops.nn_ops) with keep_prob is deprecated and will be removed in a future version.\n",
      "Instructions for updating:\n",
      "Please use `rate` instead of `keep_prob`. Rate should be set to `rate = 1 - keep_prob`.\n"
     ]
    },
    {
     "name": "stderr",
     "output_type": "stream",
     "text": [
      "2019-03-24 21:03:37,075 : WARNING : From /home/spriyanshu723/anaconda3/envs/fastai-cpu/lib/python3.6/site-packages/keras/backend/tensorflow_backend.py:3445: calling dropout (from tensorflow.python.ops.nn_ops) with keep_prob is deprecated and will be removed in a future version.\n",
      "Instructions for updating:\n",
      "Please use `rate` instead of `keep_prob`. Rate should be set to `rate = 1 - keep_prob`.\n"
     ]
    },
    {
     "name": "stdout",
     "output_type": "stream",
     "text": [
      "_________________________________________________________________\n",
      "Layer (type)                 Output Shape              Param #   \n",
      "=================================================================\n",
      "embedding_1 (Embedding)      (None, 300, 300)          26910300  \n",
      "_________________________________________________________________\n",
      "dropout_1 (Dropout)          (None, 300, 300)          0         \n",
      "_________________________________________________________________\n",
      "lstm_1 (LSTM)                (None, 100)               160400    \n",
      "_________________________________________________________________\n",
      "dense_1 (Dense)              (None, 1)                 101       \n",
      "=================================================================\n",
      "Total params: 27,070,801\n",
      "Trainable params: 160,501\n",
      "Non-trainable params: 26,910,300\n",
      "_________________________________________________________________\n"
     ]
    }
   ],
   "source": [
    "model = Sequential()\n",
    "model.add(embedding_layer)\n",
    "model.add(Dropout(0.5))\n",
    "model.add(LSTM(100, dropout=0.2, recurrent_dropout=0.2))\n",
    "model.add(Dense(1, activation='sigmoid'))\n",
    "\n",
    "model.summary()"
   ]
  },
  {
   "cell_type": "markdown",
   "metadata": {},
   "source": [
    "## COMPILE MODEL "
   ]
  },
  {
   "cell_type": "code",
   "execution_count": 69,
   "metadata": {},
   "outputs": [],
   "source": [
    "model.compile(loss='binary_crossentropy',\n",
    "              optimizer=\"adam\",\n",
    "              metrics=['accuracy'])"
   ]
  },
  {
   "cell_type": "markdown",
   "metadata": {},
   "source": [
    "## CALLBACKS "
   ]
  },
  {
   "cell_type": "code",
   "execution_count": 70,
   "metadata": {},
   "outputs": [],
   "source": [
    "callbacks = [ ReduceLROnPlateau(monitor='val_loss', patience=5, cooldown=0),\n",
    "              EarlyStopping(monitor='val_acc', min_delta=1e-4, patience=5)]"
   ]
  },
  {
   "cell_type": "markdown",
   "metadata": {},
   "source": [
    "## TRAIN "
   ]
  },
  {
   "cell_type": "code",
   "execution_count": 71,
   "metadata": {},
   "outputs": [
    {
     "name": "stdout",
     "output_type": "stream",
     "text": [
      "WARNING:tensorflow:From /home/spriyanshu723/anaconda3/envs/fastai-cpu/lib/python3.6/site-packages/tensorflow/python/ops/math_ops.py:3066: to_int32 (from tensorflow.python.ops.math_ops) is deprecated and will be removed in a future version.\n",
      "Instructions for updating:\n",
      "Use tf.cast instead.\n"
     ]
    },
    {
     "name": "stderr",
     "output_type": "stream",
     "text": [
      "2019-03-24 21:05:10,244 : WARNING : From /home/spriyanshu723/anaconda3/envs/fastai-cpu/lib/python3.6/site-packages/tensorflow/python/ops/math_ops.py:3066: to_int32 (from tensorflow.python.ops.math_ops) is deprecated and will be removed in a future version.\n",
      "Instructions for updating:\n",
      "Use tf.cast instead.\n"
     ]
    },
    {
     "name": "stdout",
     "output_type": "stream",
     "text": [
      "Train on 56289 samples, validate on 6255 samples\n",
      "Epoch 1/8\n",
      "56289/56289 [==============================] - 265s 5ms/step - loss: 0.3623 - acc: 0.8403 - val_loss: 0.2525 - val_acc: 0.8978\n",
      "Epoch 2/8\n",
      "56289/56289 [==============================] - 262s 5ms/step - loss: 0.2657 - acc: 0.8905 - val_loss: 0.2243 - val_acc: 0.9130\n",
      "Epoch 3/8\n",
      "56289/56289 [==============================] - 262s 5ms/step - loss: 0.2458 - acc: 0.8981 - val_loss: 0.1978 - val_acc: 0.9186\n",
      "Epoch 4/8\n",
      "56289/56289 [==============================] - 260s 5ms/step - loss: 0.2303 - acc: 0.9038 - val_loss: 0.1933 - val_acc: 0.9197\n",
      "Epoch 5/8\n",
      "56289/56289 [==============================] - 262s 5ms/step - loss: 0.2184 - acc: 0.9098 - val_loss: 0.1860 - val_acc: 0.9228\n",
      "Epoch 6/8\n",
      "56289/56289 [==============================] - 254s 5ms/step - loss: 0.2114 - acc: 0.9118 - val_loss: 0.1819 - val_acc: 0.9221\n",
      "Epoch 7/8\n",
      "56289/56289 [==============================] - 258s 5ms/step - loss: 0.2062 - acc: 0.9133 - val_loss: 0.1844 - val_acc: 0.9223\n",
      "Epoch 8/8\n",
      "56289/56289 [==============================] - 262s 5ms/step - loss: 0.1998 - acc: 0.9169 - val_loss: 0.1787 - val_acc: 0.9253\n",
      "CPU times: user 2h 51min 37s, sys: 39min 50s, total: 3h 31min 27s\n",
      "Wall time: 34min 44s\n"
     ]
    }
   ],
   "source": [
    "%%time\n",
    "history = model.fit(x_train, y_train,\n",
    "                    batch_size=BATCH_SIZE,\n",
    "                    epochs=EPOCHS,\n",
    "                    validation_split=0.1,\n",
    "                    verbose=1,\n",
    "                    callbacks=callbacks)"
   ]
  },
  {
   "cell_type": "markdown",
   "metadata": {},
   "source": [
    "## EVALUATE "
   ]
  },
  {
   "cell_type": "code",
   "execution_count": 72,
   "metadata": {},
   "outputs": [
    {
     "name": "stdout",
     "output_type": "stream",
     "text": [
      "15636/15636 [==============================] - 23s 1ms/step\n",
      "\n",
      "ACCURACY: 0.9217191100974436\n",
      "LOSS: 0.198402126546283\n",
      "CPU times: user 2min, sys: 23 s, total: 2min 23s\n",
      "Wall time: 23.2 s\n"
     ]
    }
   ],
   "source": [
    "%%time\n",
    "score = model.evaluate(x_test, y_test, batch_size=BATCH_SIZE)\n",
    "print()\n",
    "print(\"ACCURACY:\",score[1])\n",
    "print(\"LOSS:\",score[0])"
   ]
  },
  {
   "cell_type": "code",
   "execution_count": 73,
   "metadata": {},
   "outputs": [
    {
     "data": {
      "image/png": "[encoded data removed]",
      "text/plain": [
       "<Figure size 432x288 with 1 Axes>"
      ]
     },
     "metadata": {
      "needs_background": "light"
     },
     "output_type": "display_data"
    },
    {
     "data": {
      "image/png": "[encoded data removed]",
      "text/plain": [
       "<Figure size 432x288 with 1 Axes>"
      ]
     },
     "metadata": {
      "needs_background": "light"
     },
     "output_type": "display_data"
    }
   ],
   "source": [
    "acc = history.history['acc']\n",
    "val_acc = history.history['val_acc']\n",
    "loss = history.history['loss']\n",
    "val_loss = history.history['val_loss']\n",
    " \n",
    "epochs = range(len(acc))\n",
    " \n",
    "plt.plot(epochs, acc, 'b', label='Training acc')\n",
    "plt.plot(epochs, val_acc, 'r', label='Validation acc')\n",
    "plt.title('Training and validation accuracy')\n",
    "plt.legend()\n",
    " \n",
    "plt.figure()\n",
    " \n",
    "plt.plot(epochs, loss, 'b', label='Training loss')\n",
    "plt.plot(epochs, val_loss, 'r', label='Validation loss')\n",
    "plt.title('Training and validation loss')\n",
    "plt.legend()\n",
    " \n",
    "plt.show()"
   ]
  },
  {
   "cell_type": "markdown",
   "metadata": {},
   "source": [
    "## PREDICT "
   ]
  },
  {
   "cell_type": "code",
   "execution_count": 88,
   "metadata": {},
   "outputs": [],
   "source": [
    "def decode_hate(score):\n",
    "    if score < 0.51:\n",
    "        return \"HATE\"\n",
    "    else:\n",
    "        return \"UNHATE\""
   ]
  },
  {
   "cell_type": "code",
   "execution_count": 89,
   "metadata": {},
   "outputs": [],
   "source": [
    "def predict(text):\n",
    "    start_at = time.time()\n",
    "    # Tokenize text\n",
    "    x_test = pad_sequences(tokenizer.texts_to_sequences([text]), maxlen=SEQUENCE_LENGTH)\n",
    "    # Predict\n",
    "    score = model.predict([x_test])[0]\n",
    "    # Decode sentiment\n",
    "    label = decode_hate(score)\n",
    "\n",
    "    return {\"label\": label, \"score\": float(score),\n",
    "       \"elapsed_time\": time.time()-start_at}  "
   ]
  },
  {
   "cell_type": "code",
   "execution_count": 90,
   "metadata": {},
   "outputs": [
    {
     "data": {
      "text/plain": [
       "{'label': 'HATE',\n",
       " 'score': 0.0009987263474613428,\n",
       " 'elapsed_time': 0.05876946449279785}"
      ]
     },
     "execution_count": 90,
     "metadata": {},
     "output_type": "execute_result"
    }
   ],
   "source": [
    "predict(\"Fuck you asshole\")"
   ]
  },
  {
   "cell_type": "code",
   "execution_count": 91,
   "metadata": {},
   "outputs": [
    {
     "data": {
      "text/plain": [
       "{'label': 'UNHATE',\n",
       " 'score': 0.7760472297668457,\n",
       " 'elapsed_time': 0.0663914680480957}"
      ]
     },
     "execution_count": 91,
     "metadata": {},
     "output_type": "execute_result"
    }
   ],
   "source": [
    "predict(\"silence is gold\")"
   ]
  },
  {
   "cell_type": "code",
   "execution_count": 92,
   "metadata": {},
   "outputs": [
    {
     "data": {
      "text/plain": [
       "{'label': 'HATE',\n",
       " 'score': 0.0007183041889220476,\n",
       " 'elapsed_time': 0.07068705558776855}"
      ]
     },
     "execution_count": 92,
     "metadata": {},
     "output_type": "execute_result"
    }
   ],
   "source": [
    "predict(\"bitch get the hell out of here\")"
   ]
  },
  {
   "cell_type": "code",
   "execution_count": 93,
   "metadata": {},
   "outputs": [
    {
     "data": {
      "text/plain": [
       "{'label': 'UNHATE',\n",
       " 'score': 0.7903070449829102,\n",
       " 'elapsed_time': 0.07556271553039551}"
      ]
     },
     "execution_count": 93,
     "metadata": {},
     "output_type": "execute_result"
    }
   ],
   "source": [
    "predict(\"love is beauty\")"
   ]
  },
  {
   "cell_type": "markdown",
   "metadata": {},
   "source": [
    "## CONFUSION MATRIX "
   ]
  },
  {
   "cell_type": "code",
   "execution_count": 94,
   "metadata": {},
   "outputs": [
    {
     "name": "stdout",
     "output_type": "stream",
     "text": [
      "15636/15636 [==============================] - 25s 2ms/step\n",
      "CPU times: user 2min 7s, sys: 51.5 s, total: 2min 59s\n",
      "Wall time: 24.8 s\n"
     ]
    }
   ],
   "source": [
    "%%time\n",
    "y_pred_1d = []\n",
    "y_test_1d = list(df_test.target)\n",
    "scores = model.predict(x_test, verbose=1, batch_size=8000)\n",
    "y_pred_1d = [decode_hate(score) for score in scores]"
   ]
  },
  {
   "cell_type": "code",
   "execution_count": 95,
   "metadata": {},
   "outputs": [],
   "source": [
    "def plot_confusion_matrix(cm, classes,\n",
    "                          title='Confusion matrix',\n",
    "                          cmap=plt.cm.Blues):\n",
    "    \"\"\"\n",
    "    This function prints and plots the confusion matrix.\n",
    "    Normalization can be applied by setting `normalize=True`.\n",
    "    \"\"\"\n",
    "\n",
    "    cm = cm.astype('float') / cm.sum(axis=1)[:, np.newaxis]\n",
    "\n",
    "    plt.imshow(cm, interpolation='nearest', cmap=cmap)\n",
    "    plt.title(title, fontsize=30)\n",
    "    plt.colorbar()\n",
    "    tick_marks = np.arange(len(classes))\n",
    "    plt.xticks(tick_marks, classes, rotation=90, fontsize=22)\n",
    "    plt.yticks(tick_marks, classes, fontsize=22)\n",
    "\n",
    "    fmt = '.2f'\n",
    "    thresh = cm.max() / 2.\n",
    "    for i, j in itertools.product(range(cm.shape[0]), range(cm.shape[1])):\n",
    "        plt.text(j, i, format(cm[i, j], fmt),\n",
    "                 horizontalalignment=\"center\",\n",
    "                 color=\"white\" if cm[i, j] > thresh else \"black\")\n",
    "\n",
    "    plt.ylabel('True label', fontsize=25)\n",
    "    plt.xlabel('Predicted label', fontsize=25)"
   ]
  },
  {
   "cell_type": "code",
   "execution_count": 96,
   "metadata": {},
   "outputs": [
    {
     "data": {
      "image/png": "[encoded data removed]",
      "text/plain": [
       "<Figure size 864x864 with 2 Axes>"
      ]
     },
     "metadata": {
      "needs_background": "light"
     },
     "output_type": "display_data"
    },
    {
     "name": "stdout",
     "output_type": "stream",
     "text": [
      "CPU times: user 820 ms, sys: 0 ns, total: 820 ms\n",
      "Wall time: 336 ms\n"
     ]
    }
   ],
   "source": [
    "%%time\n",
    "\n",
    "cnf_matrix = confusion_matrix(y_test_1d, y_pred_1d)\n",
    "plt.figure(figsize=(12,12))\n",
    "plot_confusion_matrix(cnf_matrix, classes=df_train.target.unique(), title=\"Confusion matrix\")\n",
    "plt.show()"
   ]
  },
  {
   "cell_type": "markdown",
   "metadata": {},
   "source": [
    "## CLASSIFICATION REPORT "
   ]
  },
  {
   "cell_type": "code",
   "execution_count": 97,
   "metadata": {},
   "outputs": [
    {
     "name": "stdout",
     "output_type": "stream",
     "text": [
      "              precision    recall  f1-score   support\n",
      "\n",
      "        HATE       0.92      0.92      0.92      7921\n",
      "      UNHATE       0.92      0.92      0.92      7715\n",
      "\n",
      "   micro avg       0.92      0.92      0.92     15636\n",
      "   macro avg       0.92      0.92      0.92     15636\n",
      "weighted avg       0.92      0.92      0.92     15636\n",
      "\n"
     ]
    }
   ],
   "source": [
    "print(classification_report(y_test_1d, y_pred_1d))"
   ]
  },
  {
   "cell_type": "markdown",
   "metadata": {},
   "source": [
    "## ACCURACY SCORE "
   ]
  },
  {
   "cell_type": "code",
   "execution_count": 98,
   "metadata": {},
   "outputs": [
    {
     "data": {
      "text/plain": [
       "0.9213993348682528"
      ]
     },
     "execution_count": 98,
     "metadata": {},
     "output_type": "execute_result"
    }
   ],
   "source": [
    "accuracy_score(y_test_1d, y_pred_1d)"
   ]
  },
  {
   "cell_type": "markdown",
   "metadata": {},
   "source": [
    "## SAVE MODEL "
   ]
  },
  {
   "cell_type": "code",
   "execution_count": 99,
   "metadata": {},
   "outputs": [
    {
     "name": "stderr",
     "output_type": "stream",
     "text": [
      "2019-03-24 21:59:00,820 : INFO : saving Word2Vec object under model.w2v, separately None\n",
      "2019-03-24 21:59:00,821 : INFO : not storing attribute vectors_norm\n",
      "2019-03-24 21:59:00,824 : INFO : not storing attribute cum_table\n",
      "2019-03-24 21:59:01,253 : INFO : saved model.w2v\n"
     ]
    }
   ],
   "source": [
    "model.save(KERAS_MODEL)\n",
    "w2v_model.save(WORD2VEC_MODEL)\n",
    "pickle.dump(tokenizer, open(TOKENIZER_MODEL, \"wb\"), protocol=0)\n",
    "pickle.dump(encoder, open(ENCODER_MODEL, \"wb\"), protocol=0)"
   ]
  },
  {
   "cell_type": "code",
   "execution_count": null,
   "metadata": {},
   "outputs": [],
   "source": []
  }
 ],
 "metadata": {
  "kernelspec": {
   "display_name": "Python 3",
   "language": "python",
   "name": "python3"
  },
  "language_info": {
   "codemirror_mode": {
    "name": "ipython",
    "version": 3
   },
   "file_extension": ".py",
   "mimetype": "text/x-python",
   "name": "python",
   "nbconvert_exporter": "python",
   "pygments_lexer": "ipython3",
   "version": "3.6.8"
  }
 },
 "nbformat": 4,
 "nbformat_minor": 2
}
