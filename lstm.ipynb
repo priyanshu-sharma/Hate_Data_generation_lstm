{
 "cells": [
  {
   "cell_type": "code",
   "execution_count": null,
   "metadata": {},
   "outputs": [],
   "source": [
    "%load_ext autoreload\n",
    "%autoreload 2"
   ]
  },
  {
   "cell_type": "code",
   "execution_count": null,
   "metadata": {},
   "outputs": [],
   "source": [
    "%matplotlib inline"
   ]
  },
  {
   "cell_type": "code",
   "execution_count": null,
   "metadata": {},
   "outputs": [],
   "source": [
    "import numpy as np\n",
    "import pandas as pd"
   ]
  },
  {
   "cell_type": "code",
   "execution_count": null,
   "metadata": {},
   "outputs": [],
   "source": [
    "data = pd.read_csv('/home/spriyanshu723/prince/datagen/data.csv')\n",
    "data.head()"
   ]
  },
  {
   "cell_type": "code",
   "execution_count": null,
   "metadata": {},
   "outputs": [],
   "source": [
    "len(data)"
   ]
  },
  {
   "cell_type": "code",
   "execution_count": null,
   "metadata": {},
   "outputs": [],
   "source": [
    "type(data.content[0])"
   ]
  },
  {
   "cell_type": "code",
   "execution_count": null,
   "metadata": {},
   "outputs": [],
   "source": [
    "string = ''\n",
    "for i in range(0, 1):\n",
    "    string = string + data.content[i]"
   ]
  },
  {
   "cell_type": "code",
   "execution_count": null,
   "metadata": {},
   "outputs": [],
   "source": [
    "string"
   ]
  },
  {
   "cell_type": "code",
   "execution_count": null,
   "metadata": {},
   "outputs": [],
   "source": [
    "len(string)"
   ]
  },
  {
   "cell_type": "code",
   "execution_count": null,
   "metadata": {},
   "outputs": [],
   "source": [
    "string = ''\n",
    "len(string)"
   ]
  },
  {
   "cell_type": "code",
   "execution_count": null,
   "metadata": {},
   "outputs": [],
   "source": [
    "string = ''\n",
    "for i in range(0, len(data)):\n",
    "    string = string + data.content[i]"
   ]
  },
  {
   "cell_type": "code",
   "execution_count": null,
   "metadata": {},
   "outputs": [],
   "source": [
    "len(string)"
   ]
  },
  {
   "cell_type": "code",
   "execution_count": null,
   "metadata": {},
   "outputs": [],
   "source": [
    "f = open('/home/spriyanshu723/prince/datagen/impo.txt', 'w')"
   ]
  },
  {
   "cell_type": "code",
   "execution_count": null,
   "metadata": {},
   "outputs": [],
   "source": [
    "f.write(string)"
   ]
  },
  {
   "cell_type": "code",
   "execution_count": null,
   "metadata": {},
   "outputs": [],
   "source": [
    "f.close()"
   ]
  },
  {
   "cell_type": "code",
   "execution_count": 8,
   "metadata": {},
   "outputs": [
    {
     "name": "stdout",
     "output_type": "stream",
     "text": [
      "Your favorite way to waste time at work just got steamier. Slack, the professional messaging app that’s also used to share office gossip and up your GIF game, now facilitates workplace romances. Feeld, which describes itself as a matchmaker for “curious, couples and singles,” has integrated itself into the office collaboration tool, paving the way for you to hit on your before the weekly happy hour. \n"
     ]
    }
   ],
   "source": [
    "f = open(\"/home/spriyanshu723/impo_(1).txt\", \"r\")\n",
    "print(f.read()) "
   ]
  },
  {
   "cell_type": "code",
   "execution_count": 9,
   "metadata": {},
   "outputs": [],
   "source": [
    "f.close()"
   ]
  },
  {
   "cell_type": "code",
   "execution_count": 7,
   "metadata": {},
   "outputs": [
    {
     "name": "stdout",
     "output_type": "stream",
     "text": [
      "anaconda3\t\t\t normal-csv\r\n",
      "Anaconda3-4.3.1-Linux-x86_64.sh  normal_traffic_100mb_files\r\n",
      "attack\t\t\t\t normal-train\r\n",
      "attack-all\t\t\t normal-train-csv\r\n",
      "attack-all.csv\t\t\t normal-valid\r\n",
      "attack-attack.ipynb\t\t normal-valid-csv\r\n",
      "attackdataset\t\t\t prince\r\n",
      "attack-normal-Copy1.ipynb\t signdetection\r\n",
      "attack-normal.ipynb\t\t TCP Files\r\n",
      "content_combined\t\t TCPSYNACK_Flood.csv\r\n",
      "datapreprocessing.ipynb\t\t TCPSYNACK_Normal.csv\r\n",
      "fastai\t\t\t\t TCPSYN_Flood.csv\r\n",
      "ICMP_Flood.csv\t\t\t TCPSYN_Normal.csv\r\n",
      "ICMP_Normal.csv\t\t\t test-atk-dataset\r\n",
      "impo_(1).txt\t\t\t test-atk-dataset.csv\r\n",
      "impo.txt\t\t\t The-Sign-Language-Platform-master\r\n",
      "Land_Flood.csv\t\t\t The-Sign-Language-Platform-master.zip\r\n",
      "LAND_Normal.csv\t\t\t twitter.ipynb\r\n",
      "__MACOSX\t\t\t UDP_Flood.csv\r\n",
      "nltk_data\t\t\t UDP_Normal.csv\r\n",
      "normal\t\t\t\t Untitled1.ipynb\r\n",
      "normal_attack_25mb_files\t Untitled.ipynb\r\n",
      "normal_attack_500mb_files\t valid-atk-dataset\r\n",
      "normal_attack_50mb_files\t valid-atk-dataset.csv\r\n"
     ]
    }
   ],
   "source": [
    "!ls /home/spriyanshu723/"
   ]
  },
  {
   "cell_type": "code",
   "execution_count": null,
   "metadata": {},
   "outputs": [],
   "source": []
  }
 ],
 "metadata": {
  "kernelspec": {
   "display_name": "Python 3",
   "language": "python",
   "name": "python3"
  },
  "language_info": {
   "codemirror_mode": {
    "name": "ipython",
    "version": 3
   },
   "file_extension": ".py",
   "mimetype": "text/x-python",
   "name": "python",
   "nbconvert_exporter": "python",
   "pygments_lexer": "ipython3",
   "version": "3.6.8"
  }
 },
 "nbformat": 4,
 "nbformat_minor": 2
}
