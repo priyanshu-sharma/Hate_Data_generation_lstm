{
 "cells": [
  {
   "cell_type": "code",
   "execution_count": 1,
   "metadata": {},
   "outputs": [],
   "source": [
    "%load_ext autoreload\n",
    "%autoreload 2"
   ]
  },
  {
   "cell_type": "code",
   "execution_count": 2,
   "metadata": {},
   "outputs": [],
   "source": [
    "%matplotlib inline"
   ]
  },
  {
   "cell_type": "code",
   "execution_count": 95,
   "metadata": {},
   "outputs": [],
   "source": [
    "import pandas as pd\n",
    "import numpy as np\n",
    "import pickle"
   ]
  },
  {
   "cell_type": "markdown",
   "metadata": {},
   "source": [
    "# HATE DATA COMBINED "
   ]
  },
  {
   "cell_type": "code",
   "execution_count": 96,
   "metadata": {},
   "outputs": [],
   "source": [
    "with open('a_hate_one', 'rb') as fp:\n",
    "    data_one = pickle.load(fp)"
   ]
  },
  {
   "cell_type": "code",
   "execution_count": 97,
   "metadata": {},
   "outputs": [
    {
     "data": {
      "text/html": [
       "<div>\n",
       "<style scoped>\n",
       "    .dataframe tbody tr th:only-of-type {\n",
       "        vertical-align: middle;\n",
       "    }\n",
       "\n",
       "    .dataframe tbody tr th {\n",
       "        vertical-align: top;\n",
       "    }\n",
       "\n",
       "    .dataframe thead th {\n",
       "        text-align: right;\n",
       "    }\n",
       "</style>\n",
       "<table border=\"1\" class=\"dataframe\">\n",
       "  <thead>\n",
       "    <tr style=\"text-align: right;\">\n",
       "      <th></th>\n",
       "      <th>tweet</th>\n",
       "      <th>class</th>\n",
       "    </tr>\n",
       "  </thead>\n",
       "  <tbody>\n",
       "    <tr>\n",
       "      <th>15407</th>\n",
       "      <td>RT @HBCUfessions: I know if my bf breaks up w/ me I'll become the biggest hoe of all time &amp;amp;p...</td>\n",
       "      <td>0</td>\n",
       "    </tr>\n",
       "    <tr>\n",
       "      <th>24374</th>\n",
       "      <td>pussy so good got me running through the hood</td>\n",
       "      <td>0</td>\n",
       "    </tr>\n",
       "    <tr>\n",
       "      <th>11642</th>\n",
       "      <td>If you got a nigga and you another nigga #wcw you a hoe &amp;#128514;&amp;#128514;</td>\n",
       "      <td>0</td>\n",
       "    </tr>\n",
       "    <tr>\n",
       "      <th>22566</th>\n",
       "      <td>Well now that I'm basically gone full retard, lets get blasted</td>\n",
       "      <td>0</td>\n",
       "    </tr>\n",
       "    <tr>\n",
       "      <th>22306</th>\n",
       "      <td>Twitter niggas always want you to have unprotected sex with these nothing ass bitches. NAH</td>\n",
       "      <td>0</td>\n",
       "    </tr>\n",
       "  </tbody>\n",
       "</table>\n",
       "</div>"
      ],
      "text/plain": [
       "                                                                                                     tweet  \\\n",
       "15407  RT @HBCUfessions: I know if my bf breaks up w/ me I'll become the biggest hoe of all time &amp;p...   \n",
       "24374                                                        pussy so good got me running through the hood   \n",
       "11642                           If you got a nigga and you another nigga #wcw you a hoe &#128514;&#128514;   \n",
       "22566                                       Well now that I'm basically gone full retard, lets get blasted   \n",
       "22306           Twitter niggas always want you to have unprotected sex with these nothing ass bitches. NAH   \n",
       "\n",
       "       class  \n",
       "15407      0  \n",
       "24374      0  \n",
       "11642      0  \n",
       "22566      0  \n",
       "22306      0  "
      ]
     },
     "execution_count": 97,
     "metadata": {},
     "output_type": "execute_result"
    }
   ],
   "source": [
    "data_one.head()"
   ]
  },
  {
   "cell_type": "code",
   "execution_count": 98,
   "metadata": {},
   "outputs": [
    {
     "data": {
      "text/html": [
       "<div>\n",
       "<style scoped>\n",
       "    .dataframe tbody tr th:only-of-type {\n",
       "        vertical-align: middle;\n",
       "    }\n",
       "\n",
       "    .dataframe tbody tr th {\n",
       "        vertical-align: top;\n",
       "    }\n",
       "\n",
       "    .dataframe thead th {\n",
       "        text-align: right;\n",
       "    }\n",
       "</style>\n",
       "<table border=\"1\" class=\"dataframe\">\n",
       "  <thead>\n",
       "    <tr style=\"text-align: right;\">\n",
       "      <th></th>\n",
       "      <th>tweet</th>\n",
       "      <th>class</th>\n",
       "    </tr>\n",
       "  </thead>\n",
       "  <tbody>\n",
       "    <tr>\n",
       "      <th>15407</th>\n",
       "      <td>RT @HBCUfessions: I know if my bf breaks up w/ me I'll become the biggest hoe of all time &amp;amp;p...</td>\n",
       "      <td>1</td>\n",
       "    </tr>\n",
       "    <tr>\n",
       "      <th>24374</th>\n",
       "      <td>pussy so good got me running through the hood</td>\n",
       "      <td>1</td>\n",
       "    </tr>\n",
       "    <tr>\n",
       "      <th>11642</th>\n",
       "      <td>If you got a nigga and you another nigga #wcw you a hoe &amp;#128514;&amp;#128514;</td>\n",
       "      <td>1</td>\n",
       "    </tr>\n",
       "    <tr>\n",
       "      <th>22566</th>\n",
       "      <td>Well now that I'm basically gone full retard, lets get blasted</td>\n",
       "      <td>1</td>\n",
       "    </tr>\n",
       "    <tr>\n",
       "      <th>22306</th>\n",
       "      <td>Twitter niggas always want you to have unprotected sex with these nothing ass bitches. NAH</td>\n",
       "      <td>1</td>\n",
       "    </tr>\n",
       "  </tbody>\n",
       "</table>\n",
       "</div>"
      ],
      "text/plain": [
       "                                                                                                     tweet  \\\n",
       "15407  RT @HBCUfessions: I know if my bf breaks up w/ me I'll become the biggest hoe of all time &amp;p...   \n",
       "24374                                                        pussy so good got me running through the hood   \n",
       "11642                           If you got a nigga and you another nigga #wcw you a hoe &#128514;&#128514;   \n",
       "22566                                       Well now that I'm basically gone full retard, lets get blasted   \n",
       "22306           Twitter niggas always want you to have unprotected sex with these nothing ass bitches. NAH   \n",
       "\n",
       "       class  \n",
       "15407      1  \n",
       "24374      1  \n",
       "11642      1  \n",
       "22566      1  \n",
       "22306      1  "
      ]
     },
     "execution_count": 98,
     "metadata": {},
     "output_type": "execute_result"
    }
   ],
   "source": [
    "data_one['class'] = 1\n",
    "data_one.head()"
   ]
  },
  {
   "cell_type": "code",
   "execution_count": 99,
   "metadata": {},
   "outputs": [],
   "source": [
    "with open('a_hate_two', 'rb') as fp:\n",
    "    data_two = pickle.load(fp)"
   ]
  },
  {
   "cell_type": "code",
   "execution_count": 100,
   "metadata": {},
   "outputs": [
    {
     "data": {
      "text/html": [
       "<div>\n",
       "<style scoped>\n",
       "    .dataframe tbody tr th:only-of-type {\n",
       "        vertical-align: middle;\n",
       "    }\n",
       "\n",
       "    .dataframe tbody tr th {\n",
       "        vertical-align: top;\n",
       "    }\n",
       "\n",
       "    .dataframe thead th {\n",
       "        text-align: right;\n",
       "    }\n",
       "</style>\n",
       "<table border=\"1\" class=\"dataframe\">\n",
       "  <thead>\n",
       "    <tr style=\"text-align: right;\">\n",
       "      <th></th>\n",
       "      <th>comment_text</th>\n",
       "      <th>class</th>\n",
       "    </tr>\n",
       "  </thead>\n",
       "  <tbody>\n",
       "    <tr>\n",
       "      <th>158323</th>\n",
       "      <td>Fuck off you cunt. I know a LOT more about Flynn than you. Don't take out referenced stuff or ELSE.</td>\n",
       "      <td>1</td>\n",
       "    </tr>\n",
       "    <tr>\n",
       "      <th>110055</th>\n",
       "      <td>this person is a communist and should be taken outside and shot as a traitor.</td>\n",
       "      <td>1</td>\n",
       "    </tr>\n",
       "    <tr>\n",
       "      <th>51983</th>\n",
       "      <td>http://www.thirdworldtraveler.com/Blum/Greece_KH.html - America is pure evil</td>\n",
       "      <td>1</td>\n",
       "    </tr>\n",
       "    <tr>\n",
       "      <th>54175</th>\n",
       "      <td>\" \\n\\nfor example, if i were to say that you are \"\"defficient in the immoral\"\" then to you it is...</td>\n",
       "      <td>1</td>\n",
       "    </tr>\n",
       "    <tr>\n",
       "      <th>37057</th>\n",
       "      <td>Wikipieda has hurt my friends and caused them much grief... So, my hobby now is to Hurt Wikpeadi...</td>\n",
       "      <td>1</td>\n",
       "    </tr>\n",
       "  </tbody>\n",
       "</table>\n",
       "</div>"
      ],
      "text/plain": [
       "                                                                                               comment_text  \\\n",
       "158323  Fuck off you cunt. I know a LOT more about Flynn than you. Don't take out referenced stuff or ELSE.   \n",
       "110055                        this person is a communist and should be taken outside and shot as a traitor.   \n",
       "51983                          http://www.thirdworldtraveler.com/Blum/Greece_KH.html - America is pure evil   \n",
       "54175   \" \\n\\nfor example, if i were to say that you are \"\"defficient in the immoral\"\" then to you it is...   \n",
       "37057   Wikipieda has hurt my friends and caused them much grief... So, my hobby now is to Hurt Wikpeadi...   \n",
       "\n",
       "        class  \n",
       "158323      1  \n",
       "110055      1  \n",
       "51983       1  \n",
       "54175       1  \n",
       "37057       1  "
      ]
     },
     "execution_count": 100,
     "metadata": {},
     "output_type": "execute_result"
    }
   ],
   "source": [
    "data_two.head()"
   ]
  },
  {
   "cell_type": "code",
   "execution_count": 101,
   "metadata": {},
   "outputs": [],
   "source": [
    "data_two.rename(columns={'comment_text': 'tweet'}, inplace=True)"
   ]
  },
  {
   "cell_type": "code",
   "execution_count": 102,
   "metadata": {},
   "outputs": [
    {
     "data": {
      "text/html": [
       "<div>\n",
       "<style scoped>\n",
       "    .dataframe tbody tr th:only-of-type {\n",
       "        vertical-align: middle;\n",
       "    }\n",
       "\n",
       "    .dataframe tbody tr th {\n",
       "        vertical-align: top;\n",
       "    }\n",
       "\n",
       "    .dataframe thead th {\n",
       "        text-align: right;\n",
       "    }\n",
       "</style>\n",
       "<table border=\"1\" class=\"dataframe\">\n",
       "  <thead>\n",
       "    <tr style=\"text-align: right;\">\n",
       "      <th></th>\n",
       "      <th>tweet</th>\n",
       "      <th>class</th>\n",
       "    </tr>\n",
       "  </thead>\n",
       "  <tbody>\n",
       "    <tr>\n",
       "      <th>158323</th>\n",
       "      <td>Fuck off you cunt. I know a LOT more about Flynn than you. Don't take out referenced stuff or ELSE.</td>\n",
       "      <td>1</td>\n",
       "    </tr>\n",
       "    <tr>\n",
       "      <th>110055</th>\n",
       "      <td>this person is a communist and should be taken outside and shot as a traitor.</td>\n",
       "      <td>1</td>\n",
       "    </tr>\n",
       "    <tr>\n",
       "      <th>51983</th>\n",
       "      <td>http://www.thirdworldtraveler.com/Blum/Greece_KH.html - America is pure evil</td>\n",
       "      <td>1</td>\n",
       "    </tr>\n",
       "    <tr>\n",
       "      <th>54175</th>\n",
       "      <td>\" \\n\\nfor example, if i were to say that you are \"\"defficient in the immoral\"\" then to you it is...</td>\n",
       "      <td>1</td>\n",
       "    </tr>\n",
       "    <tr>\n",
       "      <th>37057</th>\n",
       "      <td>Wikipieda has hurt my friends and caused them much grief... So, my hobby now is to Hurt Wikpeadi...</td>\n",
       "      <td>1</td>\n",
       "    </tr>\n",
       "  </tbody>\n",
       "</table>\n",
       "</div>"
      ],
      "text/plain": [
       "                                                                                                      tweet  \\\n",
       "158323  Fuck off you cunt. I know a LOT more about Flynn than you. Don't take out referenced stuff or ELSE.   \n",
       "110055                        this person is a communist and should be taken outside and shot as a traitor.   \n",
       "51983                          http://www.thirdworldtraveler.com/Blum/Greece_KH.html - America is pure evil   \n",
       "54175   \" \\n\\nfor example, if i were to say that you are \"\"defficient in the immoral\"\" then to you it is...   \n",
       "37057   Wikipieda has hurt my friends and caused them much grief... So, my hobby now is to Hurt Wikpeadi...   \n",
       "\n",
       "        class  \n",
       "158323      1  \n",
       "110055      1  \n",
       "51983       1  \n",
       "54175       1  \n",
       "37057       1  "
      ]
     },
     "execution_count": 102,
     "metadata": {},
     "output_type": "execute_result"
    }
   ],
   "source": [
    "data_two.head()"
   ]
  },
  {
   "cell_type": "code",
   "execution_count": 103,
   "metadata": {},
   "outputs": [],
   "source": [
    "with open('a_hate_three', 'rb') as fp:\n",
    "    data_three = pickle.load(fp)"
   ]
  },
  {
   "cell_type": "code",
   "execution_count": 104,
   "metadata": {},
   "outputs": [
    {
     "data": {
      "text/html": [
       "<div>\n",
       "<style scoped>\n",
       "    .dataframe tbody tr th:only-of-type {\n",
       "        vertical-align: middle;\n",
       "    }\n",
       "\n",
       "    .dataframe tbody tr th {\n",
       "        vertical-align: top;\n",
       "    }\n",
       "\n",
       "    .dataframe thead th {\n",
       "        text-align: right;\n",
       "    }\n",
       "</style>\n",
       "<table border=\"1\" class=\"dataframe\">\n",
       "  <thead>\n",
       "    <tr style=\"text-align: right;\">\n",
       "      <th></th>\n",
       "      <th>comment</th>\n",
       "      <th>class</th>\n",
       "    </tr>\n",
       "  </thead>\n",
       "  <tbody>\n",
       "    <tr>\n",
       "      <th>3</th>\n",
       "      <td>Click below for a FREE download of a colorfully illustrated 132 page e-book on the Zionist-engin...</td>\n",
       "      <td>1</td>\n",
       "    </tr>\n",
       "    <tr>\n",
       "      <th>10</th>\n",
       "      <td>She may or may not be a Jew but she 's certainly stupid , she seems to think the Blacks wo n't k...</td>\n",
       "      <td>1</td>\n",
       "    </tr>\n",
       "    <tr>\n",
       "      <th>21</th>\n",
       "      <td>I 've always considered teaching as one of the professions I would like to get into , but not in...</td>\n",
       "      <td>1</td>\n",
       "    </tr>\n",
       "    <tr>\n",
       "      <th>22</th>\n",
       "      <td>And the sad thing is the white students at those schools will act like that too .</td>\n",
       "      <td>1</td>\n",
       "    </tr>\n",
       "    <tr>\n",
       "      <th>31</th>\n",
       "      <td>Their gods often had pale skin and blue eyes but I suppose literacy is n't valued highly by thei...</td>\n",
       "      <td>1</td>\n",
       "    </tr>\n",
       "  </tbody>\n",
       "</table>\n",
       "</div>"
      ],
      "text/plain": [
       "                                                                                                comment  \\\n",
       "3   Click below for a FREE download of a colorfully illustrated 132 page e-book on the Zionist-engin...   \n",
       "10  She may or may not be a Jew but she 's certainly stupid , she seems to think the Blacks wo n't k...   \n",
       "21  I 've always considered teaching as one of the professions I would like to get into , but not in...   \n",
       "22                    And the sad thing is the white students at those schools will act like that too .   \n",
       "31  Their gods often had pale skin and blue eyes but I suppose literacy is n't valued highly by thei...   \n",
       "\n",
       "    class  \n",
       "3       1  \n",
       "10      1  \n",
       "21      1  \n",
       "22      1  \n",
       "31      1  "
      ]
     },
     "execution_count": 104,
     "metadata": {},
     "output_type": "execute_result"
    }
   ],
   "source": [
    "data_three.head()"
   ]
  },
  {
   "cell_type": "code",
   "execution_count": 105,
   "metadata": {},
   "outputs": [],
   "source": [
    "data_three.rename(columns={'comment': 'tweet'}, inplace=True)"
   ]
  },
  {
   "cell_type": "code",
   "execution_count": 106,
   "metadata": {},
   "outputs": [
    {
     "data": {
      "text/html": [
       "<div>\n",
       "<style scoped>\n",
       "    .dataframe tbody tr th:only-of-type {\n",
       "        vertical-align: middle;\n",
       "    }\n",
       "\n",
       "    .dataframe tbody tr th {\n",
       "        vertical-align: top;\n",
       "    }\n",
       "\n",
       "    .dataframe thead th {\n",
       "        text-align: right;\n",
       "    }\n",
       "</style>\n",
       "<table border=\"1\" class=\"dataframe\">\n",
       "  <thead>\n",
       "    <tr style=\"text-align: right;\">\n",
       "      <th></th>\n",
       "      <th>tweet</th>\n",
       "      <th>class</th>\n",
       "    </tr>\n",
       "  </thead>\n",
       "  <tbody>\n",
       "    <tr>\n",
       "      <th>3</th>\n",
       "      <td>Click below for a FREE download of a colorfully illustrated 132 page e-book on the Zionist-engin...</td>\n",
       "      <td>1</td>\n",
       "    </tr>\n",
       "    <tr>\n",
       "      <th>10</th>\n",
       "      <td>She may or may not be a Jew but she 's certainly stupid , she seems to think the Blacks wo n't k...</td>\n",
       "      <td>1</td>\n",
       "    </tr>\n",
       "    <tr>\n",
       "      <th>21</th>\n",
       "      <td>I 've always considered teaching as one of the professions I would like to get into , but not in...</td>\n",
       "      <td>1</td>\n",
       "    </tr>\n",
       "    <tr>\n",
       "      <th>22</th>\n",
       "      <td>And the sad thing is the white students at those schools will act like that too .</td>\n",
       "      <td>1</td>\n",
       "    </tr>\n",
       "    <tr>\n",
       "      <th>31</th>\n",
       "      <td>Their gods often had pale skin and blue eyes but I suppose literacy is n't valued highly by thei...</td>\n",
       "      <td>1</td>\n",
       "    </tr>\n",
       "  </tbody>\n",
       "</table>\n",
       "</div>"
      ],
      "text/plain": [
       "                                                                                                  tweet  \\\n",
       "3   Click below for a FREE download of a colorfully illustrated 132 page e-book on the Zionist-engin...   \n",
       "10  She may or may not be a Jew but she 's certainly stupid , she seems to think the Blacks wo n't k...   \n",
       "21  I 've always considered teaching as one of the professions I would like to get into , but not in...   \n",
       "22                    And the sad thing is the white students at those schools will act like that too .   \n",
       "31  Their gods often had pale skin and blue eyes but I suppose literacy is n't valued highly by thei...   \n",
       "\n",
       "    class  \n",
       "3       1  \n",
       "10      1  \n",
       "21      1  \n",
       "22      1  \n",
       "31      1  "
      ]
     },
     "execution_count": 106,
     "metadata": {},
     "output_type": "execute_result"
    }
   ],
   "source": [
    "data_three.head()"
   ]
  },
  {
   "cell_type": "code",
   "execution_count": 107,
   "metadata": {},
   "outputs": [],
   "source": [
    "with open('a_hate_four', 'rb') as fp:\n",
    "    data_four = pickle.load(fp)"
   ]
  },
  {
   "cell_type": "code",
   "execution_count": 108,
   "metadata": {},
   "outputs": [
    {
     "data": {
      "text/html": [
       "<div>\n",
       "<style scoped>\n",
       "    .dataframe tbody tr th:only-of-type {\n",
       "        vertical-align: middle;\n",
       "    }\n",
       "\n",
       "    .dataframe tbody tr th {\n",
       "        vertical-align: top;\n",
       "    }\n",
       "\n",
       "    .dataframe thead th {\n",
       "        text-align: right;\n",
       "    }\n",
       "</style>\n",
       "<table border=\"1\" class=\"dataframe\">\n",
       "  <thead>\n",
       "    <tr style=\"text-align: right;\">\n",
       "      <th></th>\n",
       "      <th>Comment</th>\n",
       "      <th>class</th>\n",
       "    </tr>\n",
       "  </thead>\n",
       "  <tbody>\n",
       "    <tr>\n",
       "      <th>0</th>\n",
       "      <td>\"You fuck your dad.\"</td>\n",
       "      <td>1</td>\n",
       "    </tr>\n",
       "    <tr>\n",
       "      <th>7</th>\n",
       "      <td>\"shut the fuck up. you and the rest of your faggot friends should be burned at the stake\"</td>\n",
       "      <td>1</td>\n",
       "    </tr>\n",
       "    <tr>\n",
       "      <th>8</th>\n",
       "      <td>\"Either you are fake or extremely stupid...maybe both...\"</td>\n",
       "      <td>1</td>\n",
       "    </tr>\n",
       "    <tr>\n",
       "      <th>9</th>\n",
       "      <td>\"That you are an idiot who understands neither taxation nor women's health.\"</td>\n",
       "      <td>1</td>\n",
       "    </tr>\n",
       "    <tr>\n",
       "      <th>15</th>\n",
       "      <td>\"FOR SOME REASON U SOUND RETARDED. LOL. DAMN. WHERE U BEEN NEGRO\"</td>\n",
       "      <td>1</td>\n",
       "    </tr>\n",
       "  </tbody>\n",
       "</table>\n",
       "</div>"
      ],
      "text/plain": [
       "                                                                                      Comment  \\\n",
       "0                                                                        \"You fuck your dad.\"   \n",
       "7   \"shut the fuck up. you and the rest of your faggot friends should be burned at the stake\"   \n",
       "8                                   \"Either you are fake or extremely stupid...maybe both...\"   \n",
       "9                \"That you are an idiot who understands neither taxation nor women's health.\"   \n",
       "15                          \"FOR SOME REASON U SOUND RETARDED. LOL. DAMN. WHERE U BEEN NEGRO\"   \n",
       "\n",
       "    class  \n",
       "0       1  \n",
       "7       1  \n",
       "8       1  \n",
       "9       1  \n",
       "15      1  "
      ]
     },
     "execution_count": 108,
     "metadata": {},
     "output_type": "execute_result"
    }
   ],
   "source": [
    "data_four.head()"
   ]
  },
  {
   "cell_type": "code",
   "execution_count": 109,
   "metadata": {},
   "outputs": [],
   "source": [
    "data_four.rename(columns={'Comment': 'tweet'}, inplace=True)"
   ]
  },
  {
   "cell_type": "code",
   "execution_count": 110,
   "metadata": {},
   "outputs": [
    {
     "data": {
      "text/html": [
       "<div>\n",
       "<style scoped>\n",
       "    .dataframe tbody tr th:only-of-type {\n",
       "        vertical-align: middle;\n",
       "    }\n",
       "\n",
       "    .dataframe tbody tr th {\n",
       "        vertical-align: top;\n",
       "    }\n",
       "\n",
       "    .dataframe thead th {\n",
       "        text-align: right;\n",
       "    }\n",
       "</style>\n",
       "<table border=\"1\" class=\"dataframe\">\n",
       "  <thead>\n",
       "    <tr style=\"text-align: right;\">\n",
       "      <th></th>\n",
       "      <th>tweet</th>\n",
       "      <th>class</th>\n",
       "    </tr>\n",
       "  </thead>\n",
       "  <tbody>\n",
       "    <tr>\n",
       "      <th>0</th>\n",
       "      <td>\"You fuck your dad.\"</td>\n",
       "      <td>1</td>\n",
       "    </tr>\n",
       "    <tr>\n",
       "      <th>7</th>\n",
       "      <td>\"shut the fuck up. you and the rest of your faggot friends should be burned at the stake\"</td>\n",
       "      <td>1</td>\n",
       "    </tr>\n",
       "    <tr>\n",
       "      <th>8</th>\n",
       "      <td>\"Either you are fake or extremely stupid...maybe both...\"</td>\n",
       "      <td>1</td>\n",
       "    </tr>\n",
       "    <tr>\n",
       "      <th>9</th>\n",
       "      <td>\"That you are an idiot who understands neither taxation nor women's health.\"</td>\n",
       "      <td>1</td>\n",
       "    </tr>\n",
       "    <tr>\n",
       "      <th>15</th>\n",
       "      <td>\"FOR SOME REASON U SOUND RETARDED. LOL. DAMN. WHERE U BEEN NEGRO\"</td>\n",
       "      <td>1</td>\n",
       "    </tr>\n",
       "  </tbody>\n",
       "</table>\n",
       "</div>"
      ],
      "text/plain": [
       "                                                                                        tweet  \\\n",
       "0                                                                        \"You fuck your dad.\"   \n",
       "7   \"shut the fuck up. you and the rest of your faggot friends should be burned at the stake\"   \n",
       "8                                   \"Either you are fake or extremely stupid...maybe both...\"   \n",
       "9                \"That you are an idiot who understands neither taxation nor women's health.\"   \n",
       "15                          \"FOR SOME REASON U SOUND RETARDED. LOL. DAMN. WHERE U BEEN NEGRO\"   \n",
       "\n",
       "    class  \n",
       "0       1  \n",
       "7       1  \n",
       "8       1  \n",
       "9       1  \n",
       "15      1  "
      ]
     },
     "execution_count": 110,
     "metadata": {},
     "output_type": "execute_result"
    }
   ],
   "source": [
    "data_four.head()"
   ]
  },
  {
   "cell_type": "code",
   "execution_count": 111,
   "metadata": {},
   "outputs": [
    {
     "data": {
      "text/plain": [
       "(20620, 2)"
      ]
     },
     "execution_count": 111,
     "metadata": {},
     "output_type": "execute_result"
    }
   ],
   "source": [
    "data_one.shape"
   ]
  },
  {
   "cell_type": "code",
   "execution_count": 112,
   "metadata": {},
   "outputs": [
    {
     "data": {
      "text/plain": [
       "(16225, 2)"
      ]
     },
     "execution_count": 112,
     "metadata": {},
     "output_type": "execute_result"
    }
   ],
   "source": [
    "data_two.shape"
   ]
  },
  {
   "cell_type": "code",
   "execution_count": 113,
   "metadata": {},
   "outputs": [
    {
     "data": {
      "text/plain": [
       "(1196, 2)"
      ]
     },
     "execution_count": 113,
     "metadata": {},
     "output_type": "execute_result"
    }
   ],
   "source": [
    "data_three.shape"
   ]
  },
  {
   "cell_type": "code",
   "execution_count": 114,
   "metadata": {},
   "outputs": [
    {
     "data": {
      "text/plain": [
       "(1049, 2)"
      ]
     },
     "execution_count": 114,
     "metadata": {},
     "output_type": "execute_result"
    }
   ],
   "source": [
    "data_four.shape"
   ]
  },
  {
   "cell_type": "code",
   "execution_count": 115,
   "metadata": {},
   "outputs": [],
   "source": [
    "from sklearn.utils import shuffle"
   ]
  },
  {
   "cell_type": "code",
   "execution_count": 116,
   "metadata": {},
   "outputs": [
    {
     "data": {
      "text/html": [
       "<div>\n",
       "<style scoped>\n",
       "    .dataframe tbody tr th:only-of-type {\n",
       "        vertical-align: middle;\n",
       "    }\n",
       "\n",
       "    .dataframe tbody tr th {\n",
       "        vertical-align: top;\n",
       "    }\n",
       "\n",
       "    .dataframe thead th {\n",
       "        text-align: right;\n",
       "    }\n",
       "</style>\n",
       "<table border=\"1\" class=\"dataframe\">\n",
       "  <thead>\n",
       "    <tr style=\"text-align: right;\">\n",
       "      <th></th>\n",
       "      <th>tweet</th>\n",
       "      <th>class</th>\n",
       "    </tr>\n",
       "  </thead>\n",
       "  <tbody>\n",
       "    <tr>\n",
       "      <th>643</th>\n",
       "      <td>Blocking Mardyks \\n\\nGuess what? Loser! Know what a cockblocker is? Hahahaha ~M~ 71.39.183.86</td>\n",
       "      <td>1</td>\n",
       "    </tr>\n",
       "    <tr>\n",
       "      <th>9597</th>\n",
       "      <td>HAHA &amp;#8220;@BASEDNAFRICAN: \"If ANY of you bitches even THINK about attacking me in the elevator...</td>\n",
       "      <td>1</td>\n",
       "    </tr>\n",
       "    <tr>\n",
       "      <th>10482</th>\n",
       "      <td>I hate tht hoe I make it SO hard just to talk, dont I? I get off topic, Dont I??\\n I get it popp...</td>\n",
       "      <td>1</td>\n",
       "    </tr>\n",
       "    <tr>\n",
       "      <th>53913</th>\n",
       "      <td>That angle sucks. Find a better one.</td>\n",
       "      <td>1</td>\n",
       "    </tr>\n",
       "    <tr>\n",
       "      <th>21769</th>\n",
       "      <td>These hoes ain't loyal RT @ComplexMag: Naya Rivera got married three months after breaking up wi...</td>\n",
       "      <td>1</td>\n",
       "    </tr>\n",
       "  </tbody>\n",
       "</table>\n",
       "</div>"
      ],
      "text/plain": [
       "                                                                                                     tweet  \\\n",
       "643          Blocking Mardyks \\n\\nGuess what? Loser! Know what a cockblocker is? Hahahaha ~M~ 71.39.183.86   \n",
       "9597   HAHA &#8220;@BASEDNAFRICAN: \"If ANY of you bitches even THINK about attacking me in the elevator...   \n",
       "10482  I hate tht hoe I make it SO hard just to talk, dont I? I get off topic, Dont I??\\n I get it popp...   \n",
       "53913                                                                 That angle sucks. Find a better one.   \n",
       "21769  These hoes ain't loyal RT @ComplexMag: Naya Rivera got married three months after breaking up wi...   \n",
       "\n",
       "       class  \n",
       "643        1  \n",
       "9597       1  \n",
       "10482      1  \n",
       "53913      1  \n",
       "21769      1  "
      ]
     },
     "execution_count": 116,
     "metadata": {},
     "output_type": "execute_result"
    }
   ],
   "source": [
    "dataframes = [data_one, data_two, data_three, data_four]\n",
    "data_hate = pd.concat(dataframes)\n",
    "data_hate = shuffle(data_hate)\n",
    "data_hate.head()"
   ]
  },
  {
   "cell_type": "code",
   "execution_count": 117,
   "metadata": {},
   "outputs": [
    {
     "data": {
      "text/plain": [
       "(39090, 2)"
      ]
     },
     "execution_count": 117,
     "metadata": {},
     "output_type": "execute_result"
    }
   ],
   "source": [
    "data_hate.shape"
   ]
  },
  {
   "cell_type": "code",
   "execution_count": 118,
   "metadata": {},
   "outputs": [
    {
     "data": {
      "text/plain": [
       "39090"
      ]
     },
     "execution_count": 118,
     "metadata": {},
     "output_type": "execute_result"
    }
   ],
   "source": [
    "20620 + 1049 +1196 +16225"
   ]
  },
  {
   "cell_type": "markdown",
   "metadata": {},
   "source": [
    "# UNHATE DATA COMBINED"
   ]
  },
  {
   "cell_type": "code",
   "execution_count": 119,
   "metadata": {},
   "outputs": [],
   "source": [
    "with open('a_unhate_one', 'rb') as fp:\n",
    "    data_six = pickle.load(fp)"
   ]
  },
  {
   "cell_type": "code",
   "execution_count": 120,
   "metadata": {},
   "outputs": [
    {
     "data": {
      "text/html": [
       "<div>\n",
       "<style scoped>\n",
       "    .dataframe tbody tr th:only-of-type {\n",
       "        vertical-align: middle;\n",
       "    }\n",
       "\n",
       "    .dataframe tbody tr th {\n",
       "        vertical-align: top;\n",
       "    }\n",
       "\n",
       "    .dataframe thead th {\n",
       "        text-align: right;\n",
       "    }\n",
       "</style>\n",
       "<table border=\"1\" class=\"dataframe\">\n",
       "  <thead>\n",
       "    <tr style=\"text-align: right;\">\n",
       "      <th></th>\n",
       "      <th>tweet</th>\n",
       "      <th>class</th>\n",
       "    </tr>\n",
       "  </thead>\n",
       "  <tbody>\n",
       "    <tr>\n",
       "      <th>17302</th>\n",
       "      <td>RT @ShmurdaGang: Free wop</td>\n",
       "      <td>0</td>\n",
       "    </tr>\n",
       "    <tr>\n",
       "      <th>7473</th>\n",
       "      <td>A white lighter is bad luck, not yellow ur stupid</td>\n",
       "      <td>0</td>\n",
       "    </tr>\n",
       "    <tr>\n",
       "      <th>20965</th>\n",
       "      <td>So much more going on but hypocrisy doesn't sit well with me. My redneck family from central Ill...</td>\n",
       "      <td>0</td>\n",
       "    </tr>\n",
       "    <tr>\n",
       "      <th>17403</th>\n",
       "      <td>RT @SportsCenter: Yankees survive 9th-inning scare to beat Rangers, 12-11.\\n&amp;#8226; Gardner: 4-5...</td>\n",
       "      <td>0</td>\n",
       "    </tr>\n",
       "    <tr>\n",
       "      <th>16863</th>\n",
       "      <td>RT @PapaRockk_: My mom paid $5 to hold this monkey &amp;amp; look what he did &amp;#128553;&amp;#128514; htt...</td>\n",
       "      <td>0</td>\n",
       "    </tr>\n",
       "  </tbody>\n",
       "</table>\n",
       "</div>"
      ],
      "text/plain": [
       "                                                                                                     tweet  \\\n",
       "17302                                                                            RT @ShmurdaGang: Free wop   \n",
       "7473                                                     A white lighter is bad luck, not yellow ur stupid   \n",
       "20965  So much more going on but hypocrisy doesn't sit well with me. My redneck family from central Ill...   \n",
       "17403  RT @SportsCenter: Yankees survive 9th-inning scare to beat Rangers, 12-11.\\n&#8226; Gardner: 4-5...   \n",
       "16863  RT @PapaRockk_: My mom paid $5 to hold this monkey &amp; look what he did &#128553;&#128514; htt...   \n",
       "\n",
       "       class  \n",
       "17302      0  \n",
       "7473       0  \n",
       "20965      0  \n",
       "17403      0  \n",
       "16863      0  "
      ]
     },
     "execution_count": 120,
     "metadata": {},
     "output_type": "execute_result"
    }
   ],
   "source": [
    "data_six['class'] = 0\n",
    "data_six.head()"
   ]
  },
  {
   "cell_type": "code",
   "execution_count": 121,
   "metadata": {},
   "outputs": [
    {
     "data": {
      "text/plain": [
       "(4163, 2)"
      ]
     },
     "execution_count": 121,
     "metadata": {},
     "output_type": "execute_result"
    }
   ],
   "source": [
    "data_six.shape"
   ]
  },
  {
   "cell_type": "code",
   "execution_count": 122,
   "metadata": {},
   "outputs": [],
   "source": [
    "with open('a_unhate_two', 'rb') as fp:\n",
    "    data_seven = pickle.load(fp)"
   ]
  },
  {
   "cell_type": "code",
   "execution_count": 123,
   "metadata": {},
   "outputs": [
    {
     "data": {
      "text/html": [
       "<div>\n",
       "<style scoped>\n",
       "    .dataframe tbody tr th:only-of-type {\n",
       "        vertical-align: middle;\n",
       "    }\n",
       "\n",
       "    .dataframe tbody tr th {\n",
       "        vertical-align: top;\n",
       "    }\n",
       "\n",
       "    .dataframe thead th {\n",
       "        text-align: right;\n",
       "    }\n",
       "</style>\n",
       "<table border=\"1\" class=\"dataframe\">\n",
       "  <thead>\n",
       "    <tr style=\"text-align: right;\">\n",
       "      <th></th>\n",
       "      <th>comment_text</th>\n",
       "      <th>class</th>\n",
       "    </tr>\n",
       "  </thead>\n",
       "  <tbody>\n",
       "    <tr>\n",
       "      <th>153999</th>\n",
       "      <td>Blocking \\n\\n |action   = deauto\\n |friendly = \\n |text     = Autoconfirmed revoked\\n}}</td>\n",
       "      <td>0</td>\n",
       "    </tr>\n",
       "    <tr>\n",
       "      <th>66363</th>\n",
       "      <td>[edit: neither lede nor body]</td>\n",
       "      <td>0</td>\n",
       "    </tr>\n",
       "    <tr>\n",
       "      <th>122255</th>\n",
       "      <td>Until you learn to stop being dishonest you should leave wikipedia - immediately.  You are yet a...</td>\n",
       "      <td>0</td>\n",
       "    </tr>\n",
       "    <tr>\n",
       "      <th>144318</th>\n",
       "      <td>\"\\n\\nJesus and Messianic Prophecy\\nHey, you removed my addition to this section. I don't get it....</td>\n",
       "      <td>0</td>\n",
       "    </tr>\n",
       "    <tr>\n",
       "      <th>29011</th>\n",
       "      <td>I give up. The user who has nominated it for deletion is saying that it should be deleted becaus...</td>\n",
       "      <td>0</td>\n",
       "    </tr>\n",
       "  </tbody>\n",
       "</table>\n",
       "</div>"
      ],
      "text/plain": [
       "                                                                                               comment_text  \\\n",
       "153999              Blocking \\n\\n |action   = deauto\\n |friendly = \\n |text     = Autoconfirmed revoked\\n}}   \n",
       "66363                                                                         [edit: neither lede nor body]   \n",
       "122255  Until you learn to stop being dishonest you should leave wikipedia - immediately.  You are yet a...   \n",
       "144318  \"\\n\\nJesus and Messianic Prophecy\\nHey, you removed my addition to this section. I don't get it....   \n",
       "29011   I give up. The user who has nominated it for deletion is saying that it should be deleted becaus...   \n",
       "\n",
       "        class  \n",
       "153999      0  \n",
       "66363       0  \n",
       "122255      0  \n",
       "144318      0  \n",
       "29011       0  "
      ]
     },
     "execution_count": 123,
     "metadata": {},
     "output_type": "execute_result"
    }
   ],
   "source": [
    "data_seven.head()"
   ]
  },
  {
   "cell_type": "code",
   "execution_count": 124,
   "metadata": {},
   "outputs": [
    {
     "data": {
      "text/html": [
       "<div>\n",
       "<style scoped>\n",
       "    .dataframe tbody tr th:only-of-type {\n",
       "        vertical-align: middle;\n",
       "    }\n",
       "\n",
       "    .dataframe tbody tr th {\n",
       "        vertical-align: top;\n",
       "    }\n",
       "\n",
       "    .dataframe thead th {\n",
       "        text-align: right;\n",
       "    }\n",
       "</style>\n",
       "<table border=\"1\" class=\"dataframe\">\n",
       "  <thead>\n",
       "    <tr style=\"text-align: right;\">\n",
       "      <th></th>\n",
       "      <th>tweet</th>\n",
       "      <th>class</th>\n",
       "    </tr>\n",
       "  </thead>\n",
       "  <tbody>\n",
       "    <tr>\n",
       "      <th>153999</th>\n",
       "      <td>Blocking \\n\\n |action   = deauto\\n |friendly = \\n |text     = Autoconfirmed revoked\\n}}</td>\n",
       "      <td>0</td>\n",
       "    </tr>\n",
       "    <tr>\n",
       "      <th>66363</th>\n",
       "      <td>[edit: neither lede nor body]</td>\n",
       "      <td>0</td>\n",
       "    </tr>\n",
       "    <tr>\n",
       "      <th>122255</th>\n",
       "      <td>Until you learn to stop being dishonest you should leave wikipedia - immediately.  You are yet a...</td>\n",
       "      <td>0</td>\n",
       "    </tr>\n",
       "    <tr>\n",
       "      <th>144318</th>\n",
       "      <td>\"\\n\\nJesus and Messianic Prophecy\\nHey, you removed my addition to this section. I don't get it....</td>\n",
       "      <td>0</td>\n",
       "    </tr>\n",
       "    <tr>\n",
       "      <th>29011</th>\n",
       "      <td>I give up. The user who has nominated it for deletion is saying that it should be deleted becaus...</td>\n",
       "      <td>0</td>\n",
       "    </tr>\n",
       "  </tbody>\n",
       "</table>\n",
       "</div>"
      ],
      "text/plain": [
       "                                                                                                      tweet  \\\n",
       "153999              Blocking \\n\\n |action   = deauto\\n |friendly = \\n |text     = Autoconfirmed revoked\\n}}   \n",
       "66363                                                                         [edit: neither lede nor body]   \n",
       "122255  Until you learn to stop being dishonest you should leave wikipedia - immediately.  You are yet a...   \n",
       "144318  \"\\n\\nJesus and Messianic Prophecy\\nHey, you removed my addition to this section. I don't get it....   \n",
       "29011   I give up. The user who has nominated it for deletion is saying that it should be deleted becaus...   \n",
       "\n",
       "        class  \n",
       "153999      0  \n",
       "66363       0  \n",
       "122255      0  \n",
       "144318      0  \n",
       "29011       0  "
      ]
     },
     "execution_count": 124,
     "metadata": {},
     "output_type": "execute_result"
    }
   ],
   "source": [
    "data_seven.rename(columns={'comment_text': 'tweet'}, inplace=True)\n",
    "data_seven.head()"
   ]
  },
  {
   "cell_type": "code",
   "execution_count": 125,
   "metadata": {},
   "outputs": [],
   "source": [
    "with open('a_unhate_three', 'rb') as fp:\n",
    "    data_eight = pickle.load(fp)"
   ]
  },
  {
   "cell_type": "code",
   "execution_count": 126,
   "metadata": {},
   "outputs": [
    {
     "data": {
      "text/html": [
       "<div>\n",
       "<style scoped>\n",
       "    .dataframe tbody tr th:only-of-type {\n",
       "        vertical-align: middle;\n",
       "    }\n",
       "\n",
       "    .dataframe tbody tr th {\n",
       "        vertical-align: top;\n",
       "    }\n",
       "\n",
       "    .dataframe thead th {\n",
       "        text-align: right;\n",
       "    }\n",
       "</style>\n",
       "<table border=\"1\" class=\"dataframe\">\n",
       "  <thead>\n",
       "    <tr style=\"text-align: right;\">\n",
       "      <th></th>\n",
       "      <th>comment</th>\n",
       "      <th>class</th>\n",
       "    </tr>\n",
       "  </thead>\n",
       "  <tbody>\n",
       "    <tr>\n",
       "      <th>0</th>\n",
       "      <td>As of March 13th , 2014 , the booklet had been downloaded over 18,300 times and counting .</td>\n",
       "      <td>0</td>\n",
       "    </tr>\n",
       "    <tr>\n",
       "      <th>1</th>\n",
       "      <td>In order to help increase the booklets downloads , it would be great if all Stormfronters who ha...</td>\n",
       "      <td>0</td>\n",
       "    </tr>\n",
       "    <tr>\n",
       "      <th>2</th>\n",
       "      <td>( Simply copy and paste the following text into your YouTube videos description boxes. )</td>\n",
       "      <td>0</td>\n",
       "    </tr>\n",
       "    <tr>\n",
       "      <th>4</th>\n",
       "      <td>Click on the `` DOWNLOAD ( 7.42 MB ) '' green banner link .</td>\n",
       "      <td>0</td>\n",
       "    </tr>\n",
       "    <tr>\n",
       "      <th>5</th>\n",
       "      <td>Booklet updated on Feb. 14th , 2014 .</td>\n",
       "      <td>0</td>\n",
       "    </tr>\n",
       "  </tbody>\n",
       "</table>\n",
       "</div>"
      ],
      "text/plain": [
       "                                                                                               comment  \\\n",
       "0           As of March 13th , 2014 , the booklet had been downloaded over 18,300 times and counting .   \n",
       "1  In order to help increase the booklets downloads , it would be great if all Stormfronters who ha...   \n",
       "2             ( Simply copy and paste the following text into your YouTube videos description boxes. )   \n",
       "4                                          Click on the `` DOWNLOAD ( 7.42 MB ) '' green banner link .   \n",
       "5                                                                Booklet updated on Feb. 14th , 2014 .   \n",
       "\n",
       "   class  \n",
       "0      0  \n",
       "1      0  \n",
       "2      0  \n",
       "4      0  \n",
       "5      0  "
      ]
     },
     "execution_count": 126,
     "metadata": {},
     "output_type": "execute_result"
    }
   ],
   "source": [
    "data_eight.head()"
   ]
  },
  {
   "cell_type": "code",
   "execution_count": 127,
   "metadata": {},
   "outputs": [
    {
     "data": {
      "text/html": [
       "<div>\n",
       "<style scoped>\n",
       "    .dataframe tbody tr th:only-of-type {\n",
       "        vertical-align: middle;\n",
       "    }\n",
       "\n",
       "    .dataframe tbody tr th {\n",
       "        vertical-align: top;\n",
       "    }\n",
       "\n",
       "    .dataframe thead th {\n",
       "        text-align: right;\n",
       "    }\n",
       "</style>\n",
       "<table border=\"1\" class=\"dataframe\">\n",
       "  <thead>\n",
       "    <tr style=\"text-align: right;\">\n",
       "      <th></th>\n",
       "      <th>tweet</th>\n",
       "      <th>class</th>\n",
       "    </tr>\n",
       "  </thead>\n",
       "  <tbody>\n",
       "    <tr>\n",
       "      <th>0</th>\n",
       "      <td>As of March 13th , 2014 , the booklet had been downloaded over 18,300 times and counting .</td>\n",
       "      <td>0</td>\n",
       "    </tr>\n",
       "    <tr>\n",
       "      <th>1</th>\n",
       "      <td>In order to help increase the booklets downloads , it would be great if all Stormfronters who ha...</td>\n",
       "      <td>0</td>\n",
       "    </tr>\n",
       "    <tr>\n",
       "      <th>2</th>\n",
       "      <td>( Simply copy and paste the following text into your YouTube videos description boxes. )</td>\n",
       "      <td>0</td>\n",
       "    </tr>\n",
       "    <tr>\n",
       "      <th>4</th>\n",
       "      <td>Click on the `` DOWNLOAD ( 7.42 MB ) '' green banner link .</td>\n",
       "      <td>0</td>\n",
       "    </tr>\n",
       "    <tr>\n",
       "      <th>5</th>\n",
       "      <td>Booklet updated on Feb. 14th , 2014 .</td>\n",
       "      <td>0</td>\n",
       "    </tr>\n",
       "  </tbody>\n",
       "</table>\n",
       "</div>"
      ],
      "text/plain": [
       "                                                                                                 tweet  \\\n",
       "0           As of March 13th , 2014 , the booklet had been downloaded over 18,300 times and counting .   \n",
       "1  In order to help increase the booklets downloads , it would be great if all Stormfronters who ha...   \n",
       "2             ( Simply copy and paste the following text into your YouTube videos description boxes. )   \n",
       "4                                          Click on the `` DOWNLOAD ( 7.42 MB ) '' green banner link .   \n",
       "5                                                                Booklet updated on Feb. 14th , 2014 .   \n",
       "\n",
       "   class  \n",
       "0      0  \n",
       "1      0  \n",
       "2      0  \n",
       "4      0  \n",
       "5      0  "
      ]
     },
     "execution_count": 127,
     "metadata": {},
     "output_type": "execute_result"
    }
   ],
   "source": [
    "data_eight.rename(columns={'comment': 'tweet'}, inplace=True)\n",
    "data_eight.head()"
   ]
  },
  {
   "cell_type": "code",
   "execution_count": 128,
   "metadata": {},
   "outputs": [],
   "source": [
    "with open('a_unhate_four', 'rb') as fp:\n",
    "    data_nine = pickle.load(fp)"
   ]
  },
  {
   "cell_type": "code",
   "execution_count": 129,
   "metadata": {},
   "outputs": [
    {
     "data": {
      "text/html": [
       "<div>\n",
       "<style scoped>\n",
       "    .dataframe tbody tr th:only-of-type {\n",
       "        vertical-align: middle;\n",
       "    }\n",
       "\n",
       "    .dataframe tbody tr th {\n",
       "        vertical-align: top;\n",
       "    }\n",
       "\n",
       "    .dataframe thead th {\n",
       "        text-align: right;\n",
       "    }\n",
       "</style>\n",
       "<table border=\"1\" class=\"dataframe\">\n",
       "  <thead>\n",
       "    <tr style=\"text-align: right;\">\n",
       "      <th></th>\n",
       "      <th>Comment</th>\n",
       "      <th>class</th>\n",
       "    </tr>\n",
       "  </thead>\n",
       "  <tbody>\n",
       "    <tr>\n",
       "      <th>1</th>\n",
       "      <td>\"i really don't understand your point.\\xa0 It seems that you are mixing apples and oranges.\"</td>\n",
       "      <td>0</td>\n",
       "    </tr>\n",
       "    <tr>\n",
       "      <th>2</th>\n",
       "      <td>\"A\\\\xc2\\\\xa0majority of Canadians can and has been wrong before now and will be again.\\\\n\\\\nUnle...</td>\n",
       "      <td>0</td>\n",
       "    </tr>\n",
       "    <tr>\n",
       "      <th>3</th>\n",
       "      <td>\"listen if you dont wanna get married to a man or a women DONT DO IT. what would it bother you i...</td>\n",
       "      <td>0</td>\n",
       "    </tr>\n",
       "    <tr>\n",
       "      <th>4</th>\n",
       "      <td>\"C\\xe1c b\\u1ea1n xu\\u1ed1ng \\u0111\\u01b0\\u1eddng bi\\u1ec3u t\\xecnh 2011 c\\xf3 \\xf4n ho\\xe0 kh\\xf...</td>\n",
       "      <td>0</td>\n",
       "    </tr>\n",
       "    <tr>\n",
       "      <th>5</th>\n",
       "      <td>\"@SDL OK, but I would hope they'd sign him to a one-year contract to start with. Give him the ch...</td>\n",
       "      <td>0</td>\n",
       "    </tr>\n",
       "  </tbody>\n",
       "</table>\n",
       "</div>"
      ],
      "text/plain": [
       "                                                                                               Comment  \\\n",
       "1         \"i really don't understand your point.\\xa0 It seems that you are mixing apples and oranges.\"   \n",
       "2  \"A\\\\xc2\\\\xa0majority of Canadians can and has been wrong before now and will be again.\\\\n\\\\nUnle...   \n",
       "3  \"listen if you dont wanna get married to a man or a women DONT DO IT. what would it bother you i...   \n",
       "4  \"C\\xe1c b\\u1ea1n xu\\u1ed1ng \\u0111\\u01b0\\u1eddng bi\\u1ec3u t\\xecnh 2011 c\\xf3 \\xf4n ho\\xe0 kh\\xf...   \n",
       "5  \"@SDL OK, but I would hope they'd sign him to a one-year contract to start with. Give him the ch...   \n",
       "\n",
       "   class  \n",
       "1      0  \n",
       "2      0  \n",
       "3      0  \n",
       "4      0  \n",
       "5      0  "
      ]
     },
     "execution_count": 129,
     "metadata": {},
     "output_type": "execute_result"
    }
   ],
   "source": [
    "data_nine.head()"
   ]
  },
  {
   "cell_type": "code",
   "execution_count": 130,
   "metadata": {},
   "outputs": [
    {
     "data": {
      "text/html": [
       "<div>\n",
       "<style scoped>\n",
       "    .dataframe tbody tr th:only-of-type {\n",
       "        vertical-align: middle;\n",
       "    }\n",
       "\n",
       "    .dataframe tbody tr th {\n",
       "        vertical-align: top;\n",
       "    }\n",
       "\n",
       "    .dataframe thead th {\n",
       "        text-align: right;\n",
       "    }\n",
       "</style>\n",
       "<table border=\"1\" class=\"dataframe\">\n",
       "  <thead>\n",
       "    <tr style=\"text-align: right;\">\n",
       "      <th></th>\n",
       "      <th>tweet</th>\n",
       "      <th>class</th>\n",
       "    </tr>\n",
       "  </thead>\n",
       "  <tbody>\n",
       "    <tr>\n",
       "      <th>1</th>\n",
       "      <td>\"i really don't understand your point.\\xa0 It seems that you are mixing apples and oranges.\"</td>\n",
       "      <td>0</td>\n",
       "    </tr>\n",
       "    <tr>\n",
       "      <th>2</th>\n",
       "      <td>\"A\\\\xc2\\\\xa0majority of Canadians can and has been wrong before now and will be again.\\\\n\\\\nUnle...</td>\n",
       "      <td>0</td>\n",
       "    </tr>\n",
       "    <tr>\n",
       "      <th>3</th>\n",
       "      <td>\"listen if you dont wanna get married to a man or a women DONT DO IT. what would it bother you i...</td>\n",
       "      <td>0</td>\n",
       "    </tr>\n",
       "    <tr>\n",
       "      <th>4</th>\n",
       "      <td>\"C\\xe1c b\\u1ea1n xu\\u1ed1ng \\u0111\\u01b0\\u1eddng bi\\u1ec3u t\\xecnh 2011 c\\xf3 \\xf4n ho\\xe0 kh\\xf...</td>\n",
       "      <td>0</td>\n",
       "    </tr>\n",
       "    <tr>\n",
       "      <th>5</th>\n",
       "      <td>\"@SDL OK, but I would hope they'd sign him to a one-year contract to start with. Give him the ch...</td>\n",
       "      <td>0</td>\n",
       "    </tr>\n",
       "  </tbody>\n",
       "</table>\n",
       "</div>"
      ],
      "text/plain": [
       "                                                                                                 tweet  \\\n",
       "1         \"i really don't understand your point.\\xa0 It seems that you are mixing apples and oranges.\"   \n",
       "2  \"A\\\\xc2\\\\xa0majority of Canadians can and has been wrong before now and will be again.\\\\n\\\\nUnle...   \n",
       "3  \"listen if you dont wanna get married to a man or a women DONT DO IT. what would it bother you i...   \n",
       "4  \"C\\xe1c b\\u1ea1n xu\\u1ed1ng \\u0111\\u01b0\\u1eddng bi\\u1ec3u t\\xecnh 2011 c\\xf3 \\xf4n ho\\xe0 kh\\xf...   \n",
       "5  \"@SDL OK, but I would hope they'd sign him to a one-year contract to start with. Give him the ch...   \n",
       "\n",
       "   class  \n",
       "1      0  \n",
       "2      0  \n",
       "3      0  \n",
       "4      0  \n",
       "5      0  "
      ]
     },
     "execution_count": 130,
     "metadata": {},
     "output_type": "execute_result"
    }
   ],
   "source": [
    "data_nine.rename(columns={'Comment': 'tweet'}, inplace=True)\n",
    "data_nine.head()"
   ]
  },
  {
   "cell_type": "code",
   "execution_count": 131,
   "metadata": {},
   "outputs": [
    {
     "data": {
      "text/plain": [
       "(4163, 2)"
      ]
     },
     "execution_count": 131,
     "metadata": {},
     "output_type": "execute_result"
    }
   ],
   "source": [
    "data_six.shape"
   ]
  },
  {
   "cell_type": "code",
   "execution_count": 132,
   "metadata": {},
   "outputs": [
    {
     "data": {
      "text/plain": [
       "(143346, 2)"
      ]
     },
     "execution_count": 132,
     "metadata": {},
     "output_type": "execute_result"
    }
   ],
   "source": [
    "data_seven.shape"
   ]
  },
  {
   "cell_type": "code",
   "execution_count": 133,
   "metadata": {},
   "outputs": [
    {
     "data": {
      "text/plain": [
       "(9507, 2)"
      ]
     },
     "execution_count": 133,
     "metadata": {},
     "output_type": "execute_result"
    }
   ],
   "source": [
    "data_eight.shape"
   ]
  },
  {
   "cell_type": "code",
   "execution_count": 134,
   "metadata": {},
   "outputs": [
    {
     "data": {
      "text/plain": [
       "(2898, 2)"
      ]
     },
     "execution_count": 134,
     "metadata": {},
     "output_type": "execute_result"
    }
   ],
   "source": [
    "data_nine.shape"
   ]
  },
  {
   "cell_type": "code",
   "execution_count": 135,
   "metadata": {},
   "outputs": [
    {
     "data": {
      "text/html": [
       "<div>\n",
       "<style scoped>\n",
       "    .dataframe tbody tr th:only-of-type {\n",
       "        vertical-align: middle;\n",
       "    }\n",
       "\n",
       "    .dataframe tbody tr th {\n",
       "        vertical-align: top;\n",
       "    }\n",
       "\n",
       "    .dataframe thead th {\n",
       "        text-align: right;\n",
       "    }\n",
       "</style>\n",
       "<table border=\"1\" class=\"dataframe\">\n",
       "  <thead>\n",
       "    <tr style=\"text-align: right;\">\n",
       "      <th></th>\n",
       "      <th>tweet</th>\n",
       "      <th>class</th>\n",
       "    </tr>\n",
       "  </thead>\n",
       "  <tbody>\n",
       "    <tr>\n",
       "      <th>16520</th>\n",
       "      <td>\"\\n\\n Historians are incapable of second guessing Hitler's inner thoughts \\nThere may be some wh...</td>\n",
       "      <td>0</td>\n",
       "    </tr>\n",
       "    <tr>\n",
       "      <th>34613</th>\n",
       "      <td>But I'm not debating any concept of nationalism. All I am saying is that with the Italians , as ...</td>\n",
       "      <td>0</td>\n",
       "    </tr>\n",
       "    <tr>\n",
       "      <th>43081</th>\n",
       "      <td>I know where you hang out lol ;)</td>\n",
       "      <td>0</td>\n",
       "    </tr>\n",
       "    <tr>\n",
       "      <th>50127</th>\n",
       "      <td>Article any useful? \\n\\nGreetings, i think we should propose this article for deletion for many ...</td>\n",
       "      <td>0</td>\n",
       "    </tr>\n",
       "    <tr>\n",
       "      <th>134217</th>\n",
       "      <td>Linguistics Features section: suggestions for improvement\\nI think this section could be improve...</td>\n",
       "      <td>0</td>\n",
       "    </tr>\n",
       "  </tbody>\n",
       "</table>\n",
       "</div>"
      ],
      "text/plain": [
       "                                                                                                      tweet  \\\n",
       "16520   \"\\n\\n Historians are incapable of second guessing Hitler's inner thoughts \\nThere may be some wh...   \n",
       "34613   But I'm not debating any concept of nationalism. All I am saying is that with the Italians , as ...   \n",
       "43081                                                                      I know where you hang out lol ;)   \n",
       "50127   Article any useful? \\n\\nGreetings, i think we should propose this article for deletion for many ...   \n",
       "134217  Linguistics Features section: suggestions for improvement\\nI think this section could be improve...   \n",
       "\n",
       "        class  \n",
       "16520       0  \n",
       "34613       0  \n",
       "43081       0  \n",
       "50127       0  \n",
       "134217      0  "
      ]
     },
     "execution_count": 135,
     "metadata": {},
     "output_type": "execute_result"
    }
   ],
   "source": [
    "dataframe_unhate = [data_six, data_seven, data_eight, data_nine]\n",
    "data_unhate = pd.concat(dataframe_unhate)\n",
    "data_unhate = shuffle(data_unhate)\n",
    "data_unhate.head()"
   ]
  },
  {
   "cell_type": "code",
   "execution_count": 136,
   "metadata": {},
   "outputs": [
    {
     "data": {
      "text/plain": [
       "(159914, 2)"
      ]
     },
     "execution_count": 136,
     "metadata": {},
     "output_type": "execute_result"
    }
   ],
   "source": [
    "data_unhate.shape"
   ]
  },
  {
   "cell_type": "code",
   "execution_count": 137,
   "metadata": {},
   "outputs": [
    {
     "data": {
      "text/plain": [
       "159914"
      ]
     },
     "execution_count": 137,
     "metadata": {},
     "output_type": "execute_result"
    }
   ],
   "source": [
    "2898 + 9507 + 143346 + 4163"
   ]
  },
  {
   "cell_type": "code",
   "execution_count": 138,
   "metadata": {},
   "outputs": [],
   "source": [
    "with open('final_ws_hate', 'wb') as fp:\n",
    "    pickle.dump(data_hate, fp)"
   ]
  },
  {
   "cell_type": "code",
   "execution_count": 139,
   "metadata": {},
   "outputs": [],
   "source": [
    "with open('final_ws_unhate', 'wb') as fp:\n",
    "    pickle.dump(data_unhate, fp)"
   ]
  },
  {
   "cell_type": "code",
   "execution_count": 140,
   "metadata": {},
   "outputs": [
    {
     "data": {
      "text/html": [
       "<div>\n",
       "<style scoped>\n",
       "    .dataframe tbody tr th:only-of-type {\n",
       "        vertical-align: middle;\n",
       "    }\n",
       "\n",
       "    .dataframe tbody tr th {\n",
       "        vertical-align: top;\n",
       "    }\n",
       "\n",
       "    .dataframe thead th {\n",
       "        text-align: right;\n",
       "    }\n",
       "</style>\n",
       "<table border=\"1\" class=\"dataframe\">\n",
       "  <thead>\n",
       "    <tr style=\"text-align: right;\">\n",
       "      <th></th>\n",
       "      <th>tweet</th>\n",
       "      <th>class</th>\n",
       "    </tr>\n",
       "  </thead>\n",
       "  <tbody>\n",
       "    <tr>\n",
       "      <th>57608</th>\n",
       "      <td>Resume marketing services \\n\\nIt's a smart thought to take the time to compose a custom resume t...</td>\n",
       "      <td>0</td>\n",
       "    </tr>\n",
       "    <tr>\n",
       "      <th>492</th>\n",
       "      <td>It wasn't me that added the Glebe Park link, though I might've wikified it. I've never actually ...</td>\n",
       "      <td>0</td>\n",
       "    </tr>\n",
       "    <tr>\n",
       "      <th>104489</th>\n",
       "      <td>\"\\n\\n Also, can people please (not \"\"plz\"\"!) avoid inventing new jargon, such as \"\"or deduction\"...</td>\n",
       "      <td>0</td>\n",
       "    </tr>\n",
       "    <tr>\n",
       "      <th>57212</th>\n",
       "      <td>Progressive Dance music \\n\\nI see you don't surrender, eh? What else can I do t0 show you that e...</td>\n",
       "      <td>0</td>\n",
       "    </tr>\n",
       "    <tr>\n",
       "      <th>59804</th>\n",
       "      <td>\"=== Bringing Edits to the masses (The Latin Rascals) ===\\n\\nHall and Oates out of touch; the ed...</td>\n",
       "      <td>0</td>\n",
       "    </tr>\n",
       "  </tbody>\n",
       "</table>\n",
       "</div>"
      ],
      "text/plain": [
       "                                                                                                      tweet  \\\n",
       "57608   Resume marketing services \\n\\nIt's a smart thought to take the time to compose a custom resume t...   \n",
       "492     It wasn't me that added the Glebe Park link, though I might've wikified it. I've never actually ...   \n",
       "104489  \"\\n\\n Also, can people please (not \"\"plz\"\"!) avoid inventing new jargon, such as \"\"or deduction\"...   \n",
       "57212   Progressive Dance music \\n\\nI see you don't surrender, eh? What else can I do t0 show you that e...   \n",
       "59804   \"=== Bringing Edits to the masses (The Latin Rascals) ===\\n\\nHall and Oates out of touch; the ed...   \n",
       "\n",
       "        class  \n",
       "57608       0  \n",
       "492         0  \n",
       "104489      0  \n",
       "57212       0  \n",
       "59804       0  "
      ]
     },
     "execution_count": 140,
     "metadata": {},
     "output_type": "execute_result"
    }
   ],
   "source": [
    "dataf = [data_hate, data_unhate]\n",
    "data = pd.concat(dataf)\n",
    "data = shuffle(data)\n",
    "data.head()"
   ]
  },
  {
   "cell_type": "code",
   "execution_count": 141,
   "metadata": {},
   "outputs": [
    {
     "data": {
      "text/plain": [
       "(199004, 2)"
      ]
     },
     "execution_count": 141,
     "metadata": {},
     "output_type": "execute_result"
    }
   ],
   "source": [
    "data.shape"
   ]
  },
  {
   "cell_type": "code",
   "execution_count": 142,
   "metadata": {},
   "outputs": [
    {
     "data": {
      "text/plain": [
       "199004"
      ]
     },
     "execution_count": 142,
     "metadata": {},
     "output_type": "execute_result"
    }
   ],
   "source": [
    "159914 + 39090"
   ]
  },
  {
   "cell_type": "markdown",
   "metadata": {},
   "source": [
    "# DATA CLEANING"
   ]
  },
  {
   "cell_type": "code",
   "execution_count": 143,
   "metadata": {},
   "outputs": [],
   "source": [
    "# Import libraries\n",
    "import pandas as pd\n",
    "import numpy as np\n",
    "import seaborn as sns\n",
    "import matplotlib.pyplot as plt\n",
    "from sklearn.feature_extraction.text import CountVectorizer\n",
    "import nltk \n",
    "import string\n",
    "import re\n",
    "%matplotlib inline\n",
    "pd.set_option('display.max_colwidth', 100)"
   ]
  },
  {
   "cell_type": "code",
   "execution_count": 144,
   "metadata": {},
   "outputs": [
    {
     "data": {
      "text/html": [
       "<div>\n",
       "<style scoped>\n",
       "    .dataframe tbody tr th:only-of-type {\n",
       "        vertical-align: middle;\n",
       "    }\n",
       "\n",
       "    .dataframe tbody tr th {\n",
       "        vertical-align: top;\n",
       "    }\n",
       "\n",
       "    .dataframe thead th {\n",
       "        text-align: right;\n",
       "    }\n",
       "</style>\n",
       "<table border=\"1\" class=\"dataframe\">\n",
       "  <thead>\n",
       "    <tr style=\"text-align: right;\">\n",
       "      <th></th>\n",
       "      <th>tweet</th>\n",
       "      <th>class</th>\n",
       "    </tr>\n",
       "  </thead>\n",
       "  <tbody>\n",
       "    <tr>\n",
       "      <th>57608</th>\n",
       "      <td>Resume marketing services \\n\\nIt's a smart thought to take the time to compose a custom resume t...</td>\n",
       "      <td>0</td>\n",
       "    </tr>\n",
       "    <tr>\n",
       "      <th>492</th>\n",
       "      <td>It wasn't me that added the Glebe Park link, though I might've wikified it. I've never actually ...</td>\n",
       "      <td>0</td>\n",
       "    </tr>\n",
       "    <tr>\n",
       "      <th>104489</th>\n",
       "      <td>\"\\n\\n Also, can people please (not \"\"plz\"\"!) avoid inventing new jargon, such as \"\"or deduction\"...</td>\n",
       "      <td>0</td>\n",
       "    </tr>\n",
       "    <tr>\n",
       "      <th>57212</th>\n",
       "      <td>Progressive Dance music \\n\\nI see you don't surrender, eh? What else can I do t0 show you that e...</td>\n",
       "      <td>0</td>\n",
       "    </tr>\n",
       "    <tr>\n",
       "      <th>59804</th>\n",
       "      <td>\"=== Bringing Edits to the masses (The Latin Rascals) ===\\n\\nHall and Oates out of touch; the ed...</td>\n",
       "      <td>0</td>\n",
       "    </tr>\n",
       "  </tbody>\n",
       "</table>\n",
       "</div>"
      ],
      "text/plain": [
       "                                                                                                      tweet  \\\n",
       "57608   Resume marketing services \\n\\nIt's a smart thought to take the time to compose a custom resume t...   \n",
       "492     It wasn't me that added the Glebe Park link, though I might've wikified it. I've never actually ...   \n",
       "104489  \"\\n\\n Also, can people please (not \"\"plz\"\"!) avoid inventing new jargon, such as \"\"or deduction\"...   \n",
       "57212   Progressive Dance music \\n\\nI see you don't surrender, eh? What else can I do t0 show you that e...   \n",
       "59804   \"=== Bringing Edits to the masses (The Latin Rascals) ===\\n\\nHall and Oates out of touch; the ed...   \n",
       "\n",
       "        class  \n",
       "57608       0  \n",
       "492         0  \n",
       "104489      0  \n",
       "57212       0  \n",
       "59804       0  "
      ]
     },
     "execution_count": 144,
     "metadata": {},
     "output_type": "execute_result"
    }
   ],
   "source": [
    "data.head()"
   ]
  },
  {
   "cell_type": "code",
   "execution_count": 145,
   "metadata": {},
   "outputs": [
    {
     "name": "stdout",
     "output_type": "stream",
     "text": [
      "Dataset size: (199004, 2)\n",
      "Columns are: Index(['tweet', 'class'], dtype='object')\n"
     ]
    }
   ],
   "source": [
    "print('Dataset size:',data.shape)\n",
    "print('Columns are:',data.columns)"
   ]
  },
  {
   "cell_type": "code",
   "execution_count": 146,
   "metadata": {},
   "outputs": [
    {
     "name": "stdout",
     "output_type": "stream",
     "text": [
      "<class 'pandas.core.frame.DataFrame'>\n",
      "Int64Index: 199004 entries, 57608 to 31646\n",
      "Data columns (total 2 columns):\n",
      "tweet    199004 non-null object\n",
      "class    199004 non-null int64\n",
      "dtypes: int64(1), object(1)\n",
      "memory usage: 4.6+ MB\n"
     ]
    }
   ],
   "source": [
    "data.info()"
   ]
  },
  {
   "cell_type": "code",
   "execution_count": 147,
   "metadata": {},
   "outputs": [
    {
     "data": {
      "text/html": [
       "<div>\n",
       "<style scoped>\n",
       "    .dataframe tbody tr th:only-of-type {\n",
       "        vertical-align: middle;\n",
       "    }\n",
       "\n",
       "    .dataframe tbody tr th {\n",
       "        vertical-align: top;\n",
       "    }\n",
       "\n",
       "    .dataframe thead th {\n",
       "        text-align: right;\n",
       "    }\n",
       "</style>\n",
       "<table border=\"1\" class=\"dataframe\">\n",
       "  <thead>\n",
       "    <tr style=\"text-align: right;\">\n",
       "      <th></th>\n",
       "      <th>class</th>\n",
       "    </tr>\n",
       "  </thead>\n",
       "  <tbody>\n",
       "    <tr>\n",
       "      <th>count</th>\n",
       "      <td>199004.000000</td>\n",
       "    </tr>\n",
       "    <tr>\n",
       "      <th>mean</th>\n",
       "      <td>0.196428</td>\n",
       "    </tr>\n",
       "    <tr>\n",
       "      <th>std</th>\n",
       "      <td>0.397297</td>\n",
       "    </tr>\n",
       "    <tr>\n",
       "      <th>min</th>\n",
       "      <td>0.000000</td>\n",
       "    </tr>\n",
       "    <tr>\n",
       "      <th>25%</th>\n",
       "      <td>0.000000</td>\n",
       "    </tr>\n",
       "    <tr>\n",
       "      <th>50%</th>\n",
       "      <td>0.000000</td>\n",
       "    </tr>\n",
       "    <tr>\n",
       "      <th>75%</th>\n",
       "      <td>0.000000</td>\n",
       "    </tr>\n",
       "    <tr>\n",
       "      <th>max</th>\n",
       "      <td>1.000000</td>\n",
       "    </tr>\n",
       "  </tbody>\n",
       "</table>\n",
       "</div>"
      ],
      "text/plain": [
       "               class\n",
       "count  199004.000000\n",
       "mean        0.196428\n",
       "std         0.397297\n",
       "min         0.000000\n",
       "25%         0.000000\n",
       "50%         0.000000\n",
       "75%         0.000000\n",
       "max         1.000000"
      ]
     },
     "execution_count": 147,
     "metadata": {},
     "output_type": "execute_result"
    }
   ],
   "source": [
    "data.describe()"
   ]
  },
  {
   "cell_type": "code",
   "execution_count": 148,
   "metadata": {},
   "outputs": [
    {
     "data": {
      "text/plain": [
       "<matplotlib.axes._subplots.AxesSubplot at 0x7f1a508bf908>"
      ]
     },
     "execution_count": 148,
     "metadata": {},
     "output_type": "execute_result"
    },
    {
     "data": {
      "image/png": "[encoded data removed]",
      "text/plain": [
       "<Figure size 432x288 with 1 Axes>"
      ]
     },
     "metadata": {
      "needs_background": "light"
     },
     "output_type": "display_data"
    }
   ],
   "source": [
    "sns.countplot(x = 'class', data = data)"
   ]
  },
  {
   "cell_type": "code",
   "execution_count": 149,
   "metadata": {},
   "outputs": [
    {
     "data": {
      "text/html": [
       "<div>\n",
       "<style scoped>\n",
       "    .dataframe tbody tr th:only-of-type {\n",
       "        vertical-align: middle;\n",
       "    }\n",
       "\n",
       "    .dataframe tbody tr th {\n",
       "        vertical-align: top;\n",
       "    }\n",
       "\n",
       "    .dataframe thead th {\n",
       "        text-align: right;\n",
       "    }\n",
       "</style>\n",
       "<table border=\"1\" class=\"dataframe\">\n",
       "  <thead>\n",
       "    <tr style=\"text-align: right;\">\n",
       "      <th></th>\n",
       "      <th>tweet</th>\n",
       "      <th>class</th>\n",
       "    </tr>\n",
       "  </thead>\n",
       "  <tbody>\n",
       "    <tr>\n",
       "      <th>57608</th>\n",
       "      <td>Resume marketing services \\n\\nIt's a smart thought to take the time to compose a custom resume t...</td>\n",
       "      <td>0</td>\n",
       "    </tr>\n",
       "    <tr>\n",
       "      <th>492</th>\n",
       "      <td>It wasn't me that added the Glebe Park link, though I might've wikified it. I've never actually ...</td>\n",
       "      <td>0</td>\n",
       "    </tr>\n",
       "    <tr>\n",
       "      <th>104489</th>\n",
       "      <td>\"\\n\\n Also, can people please (not \"\"plz\"\"!) avoid inventing new jargon, such as \"\"or deduction\"...</td>\n",
       "      <td>0</td>\n",
       "    </tr>\n",
       "    <tr>\n",
       "      <th>57212</th>\n",
       "      <td>Progressive Dance music \\n\\nI see you don't surrender, eh? What else can I do t0 show you that e...</td>\n",
       "      <td>0</td>\n",
       "    </tr>\n",
       "    <tr>\n",
       "      <th>59804</th>\n",
       "      <td>\"=== Bringing Edits to the masses (The Latin Rascals) ===\\n\\nHall and Oates out of touch; the ed...</td>\n",
       "      <td>0</td>\n",
       "    </tr>\n",
       "  </tbody>\n",
       "</table>\n",
       "</div>"
      ],
      "text/plain": [
       "                                                                                                      tweet  \\\n",
       "57608   Resume marketing services \\n\\nIt's a smart thought to take the time to compose a custom resume t...   \n",
       "492     It wasn't me that added the Glebe Park link, though I might've wikified it. I've never actually ...   \n",
       "104489  \"\\n\\n Also, can people please (not \"\"plz\"\"!) avoid inventing new jargon, such as \"\"or deduction\"...   \n",
       "57212   Progressive Dance music \\n\\nI see you don't surrender, eh? What else can I do t0 show you that e...   \n",
       "59804   \"=== Bringing Edits to the masses (The Latin Rascals) ===\\n\\nHall and Oates out of touch; the ed...   \n",
       "\n",
       "        class  \n",
       "57608       0  \n",
       "492         0  \n",
       "104489      0  \n",
       "57212       0  \n",
       "59804       0  "
      ]
     },
     "execution_count": 149,
     "metadata": {},
     "output_type": "execute_result"
    }
   ],
   "source": [
    "data.head()"
   ]
  },
  {
   "cell_type": "code",
   "execution_count": 150,
   "metadata": {},
   "outputs": [
    {
     "data": {
      "text/html": [
       "<div>\n",
       "<style scoped>\n",
       "    .dataframe tbody tr th:only-of-type {\n",
       "        vertical-align: middle;\n",
       "    }\n",
       "\n",
       "    .dataframe tbody tr th {\n",
       "        vertical-align: top;\n",
       "    }\n",
       "\n",
       "    .dataframe thead th {\n",
       "        text-align: right;\n",
       "    }\n",
       "</style>\n",
       "<table border=\"1\" class=\"dataframe\">\n",
       "  <thead>\n",
       "    <tr style=\"text-align: right;\">\n",
       "      <th></th>\n",
       "      <th>tweet</th>\n",
       "      <th>class</th>\n",
       "    </tr>\n",
       "  </thead>\n",
       "  <tbody>\n",
       "    <tr>\n",
       "      <th>81624</th>\n",
       "      <td>I was advised earlier that such a redirect is the desired option because the disambiguation page...</td>\n",
       "      <td>0</td>\n",
       "    </tr>\n",
       "    <tr>\n",
       "      <th>75269</th>\n",
       "      <td>Please refrain from adding nonsense to Wikipedia, as you did to Banana. It is considered vandali...</td>\n",
       "      <td>0</td>\n",
       "    </tr>\n",
       "    <tr>\n",
       "      <th>19022</th>\n",
       "      <td>RT @fukkitsbrittney: @AustinBedsaul is so wise yet so young. Thank you for listening to me bitch...</td>\n",
       "      <td>1</td>\n",
       "    </tr>\n",
       "    <tr>\n",
       "      <th>80367</th>\n",
       "      <td>You can post me messages here.</td>\n",
       "      <td>0</td>\n",
       "    </tr>\n",
       "    <tr>\n",
       "      <th>111607</th>\n",
       "      <td>On Southwest Airlines you</td>\n",
       "      <td>0</td>\n",
       "    </tr>\n",
       "  </tbody>\n",
       "</table>\n",
       "</div>"
      ],
      "text/plain": [
       "                                                                                                      tweet  \\\n",
       "81624   I was advised earlier that such a redirect is the desired option because the disambiguation page...   \n",
       "75269   Please refrain from adding nonsense to Wikipedia, as you did to Banana. It is considered vandali...   \n",
       "19022   RT @fukkitsbrittney: @AustinBedsaul is so wise yet so young. Thank you for listening to me bitch...   \n",
       "80367                                                                        You can post me messages here.   \n",
       "111607                                                                            On Southwest Airlines you   \n",
       "\n",
       "        class  \n",
       "81624       0  \n",
       "75269       0  \n",
       "19022       1  \n",
       "80367       0  \n",
       "111607      0  "
      ]
     },
     "execution_count": 150,
     "metadata": {},
     "output_type": "execute_result"
    }
   ],
   "source": [
    "data = shuffle(data)\n",
    "data.head()"
   ]
  },
  {
   "cell_type": "code",
   "execution_count": 151,
   "metadata": {},
   "outputs": [
    {
     "data": {
      "text/html": [
       "<div>\n",
       "<style scoped>\n",
       "    .dataframe tbody tr th:only-of-type {\n",
       "        vertical-align: middle;\n",
       "    }\n",
       "\n",
       "    .dataframe tbody tr th {\n",
       "        vertical-align: top;\n",
       "    }\n",
       "\n",
       "    .dataframe thead th {\n",
       "        text-align: right;\n",
       "    }\n",
       "</style>\n",
       "<table border=\"1\" class=\"dataframe\">\n",
       "  <thead>\n",
       "    <tr style=\"text-align: right;\">\n",
       "      <th></th>\n",
       "      <th>tweet</th>\n",
       "      <th>class</th>\n",
       "    </tr>\n",
       "  </thead>\n",
       "  <tbody>\n",
       "    <tr>\n",
       "      <th>81624</th>\n",
       "      <td>I was advised earlier that such a redirect is the desired option because the disambiguation page...</td>\n",
       "      <td>0</td>\n",
       "    </tr>\n",
       "    <tr>\n",
       "      <th>75269</th>\n",
       "      <td>Please refrain from adding nonsense to Wikipedia, as you did to Banana. It is considered vandali...</td>\n",
       "      <td>0</td>\n",
       "    </tr>\n",
       "    <tr>\n",
       "      <th>19022</th>\n",
       "      <td>RT @fukkitsbrittney: @AustinBedsaul is so wise yet so young. Thank you for listening to me bitch...</td>\n",
       "      <td>1</td>\n",
       "    </tr>\n",
       "    <tr>\n",
       "      <th>80367</th>\n",
       "      <td>You can post me messages here.</td>\n",
       "      <td>0</td>\n",
       "    </tr>\n",
       "    <tr>\n",
       "      <th>111607</th>\n",
       "      <td>On Southwest Airlines you</td>\n",
       "      <td>0</td>\n",
       "    </tr>\n",
       "  </tbody>\n",
       "</table>\n",
       "</div>"
      ],
      "text/plain": [
       "                                                                                                      tweet  \\\n",
       "81624   I was advised earlier that such a redirect is the desired option because the disambiguation page...   \n",
       "75269   Please refrain from adding nonsense to Wikipedia, as you did to Banana. It is considered vandali...   \n",
       "19022   RT @fukkitsbrittney: @AustinBedsaul is so wise yet so young. Thank you for listening to me bitch...   \n",
       "80367                                                                        You can post me messages here.   \n",
       "111607                                                                            On Southwest Airlines you   \n",
       "\n",
       "        class  \n",
       "81624       0  \n",
       "75269       0  \n",
       "19022       1  \n",
       "80367       0  \n",
       "111607      0  "
      ]
     },
     "execution_count": 151,
     "metadata": {},
     "output_type": "execute_result"
    }
   ],
   "source": [
    "df = pd.DataFrame(data[['tweet', 'class']])\n",
    "df.head()"
   ]
  },
  {
   "cell_type": "code",
   "execution_count": 152,
   "metadata": {},
   "outputs": [],
   "source": [
    "from wordcloud import WordCloud, STOPWORDS , ImageColorGenerator"
   ]
  },
  {
   "cell_type": "code",
   "execution_count": 153,
   "metadata": {},
   "outputs": [
    {
     "data": {
      "text/html": [
       "<div>\n",
       "<style scoped>\n",
       "    .dataframe tbody tr th:only-of-type {\n",
       "        vertical-align: middle;\n",
       "    }\n",
       "\n",
       "    .dataframe tbody tr th {\n",
       "        vertical-align: top;\n",
       "    }\n",
       "\n",
       "    .dataframe thead th {\n",
       "        text-align: right;\n",
       "    }\n",
       "</style>\n",
       "<table border=\"1\" class=\"dataframe\">\n",
       "  <thead>\n",
       "    <tr style=\"text-align: right;\">\n",
       "      <th></th>\n",
       "      <th>tweet</th>\n",
       "      <th>class</th>\n",
       "    </tr>\n",
       "  </thead>\n",
       "  <tbody>\n",
       "    <tr>\n",
       "      <th>19022</th>\n",
       "      <td>RT @fukkitsbrittney: @AustinBedsaul is so wise yet so young. Thank you for listening to me bitch...</td>\n",
       "      <td>1</td>\n",
       "    </tr>\n",
       "    <tr>\n",
       "      <th>3641</th>\n",
       "      <td>@JeffBlogwell time to call hoes</td>\n",
       "      <td>1</td>\n",
       "    </tr>\n",
       "    <tr>\n",
       "      <th>29790</th>\n",
       "      <td>Reaper Eternal, why are you such an evil bsatard, do you still nibble on Salvio? 89.194.67.129</td>\n",
       "      <td>1</td>\n",
       "    </tr>\n",
       "    <tr>\n",
       "      <th>44994</th>\n",
       "      <td>\"\\n\\nSANDAHL YOU HAVE LABELLED ME AS \"\"A VANDAL\"\" WITHOUT ANY WARNING - THIS IS IN DIRECT CONTRA...</td>\n",
       "      <td>1</td>\n",
       "    </tr>\n",
       "    <tr>\n",
       "      <th>16871</th>\n",
       "      <td>RT @ParisBurned: When they run out of dick inside the pussy. RT @VizyIsIgnant: How do straight d...</td>\n",
       "      <td>1</td>\n",
       "    </tr>\n",
       "  </tbody>\n",
       "</table>\n",
       "</div>"
      ],
      "text/plain": [
       "                                                                                                     tweet  \\\n",
       "19022  RT @fukkitsbrittney: @AustinBedsaul is so wise yet so young. Thank you for listening to me bitch...   \n",
       "3641                                                                       @JeffBlogwell time to call hoes   \n",
       "29790       Reaper Eternal, why are you such an evil bsatard, do you still nibble on Salvio? 89.194.67.129   \n",
       "44994  \"\\n\\nSANDAHL YOU HAVE LABELLED ME AS \"\"A VANDAL\"\" WITHOUT ANY WARNING - THIS IS IN DIRECT CONTRA...   \n",
       "16871  RT @ParisBurned: When they run out of dick inside the pussy. RT @VizyIsIgnant: How do straight d...   \n",
       "\n",
       "       class  \n",
       "19022      1  \n",
       "3641       1  \n",
       "29790      1  \n",
       "44994      1  \n",
       "16871      1  "
      ]
     },
     "execution_count": 153,
     "metadata": {},
     "output_type": "execute_result"
    }
   ],
   "source": [
    "df_class = data[data['class']==1]\n",
    "df_class.head()"
   ]
  },
  {
   "cell_type": "code",
   "execution_count": 154,
   "metadata": {},
   "outputs": [
    {
     "data": {
      "text/html": [
       "<div>\n",
       "<style scoped>\n",
       "    .dataframe tbody tr th:only-of-type {\n",
       "        vertical-align: middle;\n",
       "    }\n",
       "\n",
       "    .dataframe tbody tr th {\n",
       "        vertical-align: top;\n",
       "    }\n",
       "\n",
       "    .dataframe thead th {\n",
       "        text-align: right;\n",
       "    }\n",
       "</style>\n",
       "<table border=\"1\" class=\"dataframe\">\n",
       "  <thead>\n",
       "    <tr style=\"text-align: right;\">\n",
       "      <th></th>\n",
       "      <th>tweet</th>\n",
       "      <th>class</th>\n",
       "    </tr>\n",
       "  </thead>\n",
       "  <tbody>\n",
       "    <tr>\n",
       "      <th>81624</th>\n",
       "      <td>I was advised earlier that such a redirect is the desired option because the disambiguation page...</td>\n",
       "      <td>0</td>\n",
       "    </tr>\n",
       "    <tr>\n",
       "      <th>75269</th>\n",
       "      <td>Please refrain from adding nonsense to Wikipedia, as you did to Banana. It is considered vandali...</td>\n",
       "      <td>0</td>\n",
       "    </tr>\n",
       "    <tr>\n",
       "      <th>80367</th>\n",
       "      <td>You can post me messages here.</td>\n",
       "      <td>0</td>\n",
       "    </tr>\n",
       "    <tr>\n",
       "      <th>111607</th>\n",
       "      <td>On Southwest Airlines you</td>\n",
       "      <td>0</td>\n",
       "    </tr>\n",
       "    <tr>\n",
       "      <th>49244</th>\n",
       "      <td>\"::::Right here, POV pusher. \\nAlso Here.\\nZamfara state maintains an \"\"Islamic Unit\"\" similar t...</td>\n",
       "      <td>0</td>\n",
       "    </tr>\n",
       "  </tbody>\n",
       "</table>\n",
       "</div>"
      ],
      "text/plain": [
       "                                                                                                      tweet  \\\n",
       "81624   I was advised earlier that such a redirect is the desired option because the disambiguation page...   \n",
       "75269   Please refrain from adding nonsense to Wikipedia, as you did to Banana. It is considered vandali...   \n",
       "80367                                                                        You can post me messages here.   \n",
       "111607                                                                            On Southwest Airlines you   \n",
       "49244   \"::::Right here, POV pusher. \\nAlso Here.\\nZamfara state maintains an \"\"Islamic Unit\"\" similar t...   \n",
       "\n",
       "        class  \n",
       "81624       0  \n",
       "75269       0  \n",
       "80367       0  \n",
       "111607      0  \n",
       "49244       0  "
      ]
     },
     "execution_count": 154,
     "metadata": {},
     "output_type": "execute_result"
    }
   ],
   "source": [
    "df_nclass = data[data['class']==0]\n",
    "df_nclass.head()"
   ]
  },
  {
   "cell_type": "code",
   "execution_count": 155,
   "metadata": {},
   "outputs": [],
   "source": [
    "tweet_all = \" \".join(review for review in df.tweet)\n",
    "tweet_class = \" \".join(review for review in df_class.tweet)\n",
    "tweet_nclass = \" \".join(review for review in df_nclass.tweet)"
   ]
  },
  {
   "cell_type": "code",
   "execution_count": 156,
   "metadata": {},
   "outputs": [],
   "source": [
    "#fig, ax = plt.subplots(1, 1, figsize  = (30,30))\n",
    "#wordcloud_ALL = WordCloud(max_font_size=50, max_words=100, background_color=\"white\").generate(tweet_all)\n",
    "#ax[0].imshow(wordcloud_ALL, interpolation='bilinear')\n",
    "#ax[0].set_title('All Tweets', fontsize=30)\n",
    "#ax[0].axis('off')"
   ]
  },
  {
   "cell_type": "markdown",
   "metadata": {},
   "source": [
    "Removing high frequency tokens which are frequently used in both the categorical classes(hate/unhate). Removing these words along with stops words would not impact the performance."
   ]
  },
  {
   "cell_type": "markdown",
   "metadata": {},
   "source": [
    "### REMOVING PUNCTUATION "
   ]
  },
  {
   "cell_type": "code",
   "execution_count": 157,
   "metadata": {},
   "outputs": [
    {
     "data": {
      "text/plain": [
       "'!\"#$%&\\'()*+,-./:;<=>?@[\\\\]^_`{|}~'"
      ]
     },
     "execution_count": 157,
     "metadata": {},
     "output_type": "execute_result"
    }
   ],
   "source": [
    "string.punctuation"
   ]
  },
  {
   "cell_type": "code",
   "execution_count": 158,
   "metadata": {},
   "outputs": [],
   "source": [
    "def remove_punct(text):\n",
    "    text  = \"\".join([char for char in text if char not in string.punctuation])\n",
    "    text = re.sub('[0-9]+', '', text)\n",
    "    return text"
   ]
  },
  {
   "cell_type": "code",
   "execution_count": 159,
   "metadata": {},
   "outputs": [
    {
     "data": {
      "text/html": [
       "<div>\n",
       "<style scoped>\n",
       "    .dataframe tbody tr th:only-of-type {\n",
       "        vertical-align: middle;\n",
       "    }\n",
       "\n",
       "    .dataframe tbody tr th {\n",
       "        vertical-align: top;\n",
       "    }\n",
       "\n",
       "    .dataframe thead th {\n",
       "        text-align: right;\n",
       "    }\n",
       "</style>\n",
       "<table border=\"1\" class=\"dataframe\">\n",
       "  <thead>\n",
       "    <tr style=\"text-align: right;\">\n",
       "      <th></th>\n",
       "      <th>tweet</th>\n",
       "      <th>class</th>\n",
       "      <th>tweet_punct</th>\n",
       "    </tr>\n",
       "  </thead>\n",
       "  <tbody>\n",
       "    <tr>\n",
       "      <th>81624</th>\n",
       "      <td>I was advised earlier that such a redirect is the desired option because the disambiguation page...</td>\n",
       "      <td>0</td>\n",
       "      <td>I was advised earlier that such a redirect is the desired option because the disambiguation page...</td>\n",
       "    </tr>\n",
       "    <tr>\n",
       "      <th>75269</th>\n",
       "      <td>Please refrain from adding nonsense to Wikipedia, as you did to Banana. It is considered vandali...</td>\n",
       "      <td>0</td>\n",
       "      <td>Please refrain from adding nonsense to Wikipedia as you did to Banana It is considered vandalism...</td>\n",
       "    </tr>\n",
       "    <tr>\n",
       "      <th>19022</th>\n",
       "      <td>RT @fukkitsbrittney: @AustinBedsaul is so wise yet so young. Thank you for listening to me bitch...</td>\n",
       "      <td>1</td>\n",
       "      <td>RT fukkitsbrittney AustinBedsaul is so wise yet so young Thank you for listening to me bitch</td>\n",
       "    </tr>\n",
       "    <tr>\n",
       "      <th>80367</th>\n",
       "      <td>You can post me messages here.</td>\n",
       "      <td>0</td>\n",
       "      <td>You can post me messages here</td>\n",
       "    </tr>\n",
       "    <tr>\n",
       "      <th>111607</th>\n",
       "      <td>On Southwest Airlines you</td>\n",
       "      <td>0</td>\n",
       "      <td>On Southwest Airlines you</td>\n",
       "    </tr>\n",
       "  </tbody>\n",
       "</table>\n",
       "</div>"
      ],
      "text/plain": [
       "                                                                                                      tweet  \\\n",
       "81624   I was advised earlier that such a redirect is the desired option because the disambiguation page...   \n",
       "75269   Please refrain from adding nonsense to Wikipedia, as you did to Banana. It is considered vandali...   \n",
       "19022   RT @fukkitsbrittney: @AustinBedsaul is so wise yet so young. Thank you for listening to me bitch...   \n",
       "80367                                                                        You can post me messages here.   \n",
       "111607                                                                            On Southwest Airlines you   \n",
       "\n",
       "        class  \\\n",
       "81624       0   \n",
       "75269       0   \n",
       "19022       1   \n",
       "80367       0   \n",
       "111607      0   \n",
       "\n",
       "                                                                                                tweet_punct  \n",
       "81624   I was advised earlier that such a redirect is the desired option because the disambiguation page...  \n",
       "75269   Please refrain from adding nonsense to Wikipedia as you did to Banana It is considered vandalism...  \n",
       "19022         RT fukkitsbrittney AustinBedsaul is so wise yet so young Thank you for listening to me bitch   \n",
       "80367                                                                         You can post me messages here  \n",
       "111607                                                                            On Southwest Airlines you  "
      ]
     },
     "execution_count": 159,
     "metadata": {},
     "output_type": "execute_result"
    }
   ],
   "source": [
    "df['tweet_punct'] = df['tweet'].apply(lambda x: remove_punct(x))\n",
    "df.head()"
   ]
  },
  {
   "cell_type": "code",
   "execution_count": 160,
   "metadata": {},
   "outputs": [
    {
     "data": {
      "text/plain": [
       "Index(['tweet', 'class', 'tweet_punct'], dtype='object')"
      ]
     },
     "execution_count": 160,
     "metadata": {},
     "output_type": "execute_result"
    }
   ],
   "source": [
    "df.columns"
   ]
  },
  {
   "cell_type": "markdown",
   "metadata": {},
   "source": [
    "### PREPROCESSING "
   ]
  },
  {
   "cell_type": "code",
   "execution_count": 161,
   "metadata": {},
   "outputs": [],
   "source": [
    "#stop_words = stopwords.words(\"english\")\n",
    "#stemmer = SnowballStemmer(\"english\")\n",
    "stop_words = stopword\n",
    "stemmer = ps"
   ]
  },
  {
   "cell_type": "code",
   "execution_count": 162,
   "metadata": {},
   "outputs": [],
   "source": [
    "TEXT_CLEANING_RE = \"@\\S+|https?:\\S+|http?:\\S|[^A-Za-z0-9]+\""
   ]
  },
  {
   "cell_type": "code",
   "execution_count": 163,
   "metadata": {},
   "outputs": [],
   "source": [
    "def preprocess(text, stem=False):\n",
    "    # Remove link,user and special characters\n",
    "    text = re.sub(TEXT_CLEANING_RE, ' ', str(text).lower()).strip()\n",
    "    tokens = []\n",
    "    for token in text.split():\n",
    "        if token not in stop_words:\n",
    "            if stem:\n",
    "                tokens.append(stemmer.stem(token))\n",
    "            else:\n",
    "                tokens.append(token)\n",
    "    return \" \".join(tokens)\n"
   ]
  },
  {
   "cell_type": "code",
   "execution_count": 164,
   "metadata": {},
   "outputs": [
    {
     "data": {
      "text/html": [
       "<div>\n",
       "<style scoped>\n",
       "    .dataframe tbody tr th:only-of-type {\n",
       "        vertical-align: middle;\n",
       "    }\n",
       "\n",
       "    .dataframe tbody tr th {\n",
       "        vertical-align: top;\n",
       "    }\n",
       "\n",
       "    .dataframe thead th {\n",
       "        text-align: right;\n",
       "    }\n",
       "</style>\n",
       "<table border=\"1\" class=\"dataframe\">\n",
       "  <thead>\n",
       "    <tr style=\"text-align: right;\">\n",
       "      <th></th>\n",
       "      <th>tweet</th>\n",
       "      <th>class</th>\n",
       "      <th>tweet_punct</th>\n",
       "      <th>tweet_pre</th>\n",
       "    </tr>\n",
       "  </thead>\n",
       "  <tbody>\n",
       "    <tr>\n",
       "      <th>81624</th>\n",
       "      <td>I was advised earlier that such a redirect is the desired option because the disambiguation page...</td>\n",
       "      <td>0</td>\n",
       "      <td>I was advised earlier that such a redirect is the desired option because the disambiguation page...</td>\n",
       "      <td>advised earlier redirect desired option disambiguation page contains information actor better av...</td>\n",
       "    </tr>\n",
       "    <tr>\n",
       "      <th>75269</th>\n",
       "      <td>Please refrain from adding nonsense to Wikipedia, as you did to Banana. It is considered vandali...</td>\n",
       "      <td>0</td>\n",
       "      <td>Please refrain from adding nonsense to Wikipedia as you did to Banana It is considered vandalism...</td>\n",
       "      <td>please refrain adding nonsense wikipedia banana considered vandalism would like experiment use s...</td>\n",
       "    </tr>\n",
       "    <tr>\n",
       "      <th>19022</th>\n",
       "      <td>RT @fukkitsbrittney: @AustinBedsaul is so wise yet so young. Thank you for listening to me bitch...</td>\n",
       "      <td>1</td>\n",
       "      <td>RT fukkitsbrittney AustinBedsaul is so wise yet so young Thank you for listening to me bitch</td>\n",
       "      <td>rt fukkitsbrittney austinbedsaul wise yet young thank listening bitch</td>\n",
       "    </tr>\n",
       "    <tr>\n",
       "      <th>80367</th>\n",
       "      <td>You can post me messages here.</td>\n",
       "      <td>0</td>\n",
       "      <td>You can post me messages here</td>\n",
       "      <td>post messages</td>\n",
       "    </tr>\n",
       "    <tr>\n",
       "      <th>111607</th>\n",
       "      <td>On Southwest Airlines you</td>\n",
       "      <td>0</td>\n",
       "      <td>On Southwest Airlines you</td>\n",
       "      <td>southwest airlines</td>\n",
       "    </tr>\n",
       "  </tbody>\n",
       "</table>\n",
       "</div>"
      ],
      "text/plain": [
       "                                                                                                      tweet  \\\n",
       "81624   I was advised earlier that such a redirect is the desired option because the disambiguation page...   \n",
       "75269   Please refrain from adding nonsense to Wikipedia, as you did to Banana. It is considered vandali...   \n",
       "19022   RT @fukkitsbrittney: @AustinBedsaul is so wise yet so young. Thank you for listening to me bitch...   \n",
       "80367                                                                        You can post me messages here.   \n",
       "111607                                                                            On Southwest Airlines you   \n",
       "\n",
       "        class  \\\n",
       "81624       0   \n",
       "75269       0   \n",
       "19022       1   \n",
       "80367       0   \n",
       "111607      0   \n",
       "\n",
       "                                                                                                tweet_punct  \\\n",
       "81624   I was advised earlier that such a redirect is the desired option because the disambiguation page...   \n",
       "75269   Please refrain from adding nonsense to Wikipedia as you did to Banana It is considered vandalism...   \n",
       "19022         RT fukkitsbrittney AustinBedsaul is so wise yet so young Thank you for listening to me bitch    \n",
       "80367                                                                         You can post me messages here   \n",
       "111607                                                                            On Southwest Airlines you   \n",
       "\n",
       "                                                                                                  tweet_pre  \n",
       "81624   advised earlier redirect desired option disambiguation page contains information actor better av...  \n",
       "75269   please refrain adding nonsense wikipedia banana considered vandalism would like experiment use s...  \n",
       "19022                                 rt fukkitsbrittney austinbedsaul wise yet young thank listening bitch  \n",
       "80367                                                                                         post messages  \n",
       "111607                                                                                   southwest airlines  "
      ]
     },
     "execution_count": 164,
     "metadata": {},
     "output_type": "execute_result"
    }
   ],
   "source": [
    "df['tweet_pre'] = df['tweet_punct'].apply(lambda x: preprocess(x))\n",
    "df.head()"
   ]
  },
  {
   "cell_type": "markdown",
   "metadata": {},
   "source": [
    "### TOKENIZATION "
   ]
  },
  {
   "cell_type": "code",
   "execution_count": 165,
   "metadata": {},
   "outputs": [],
   "source": [
    "def tokenization(text):\n",
    "    text = re.split('\\W+', text)\n",
    "    return text"
   ]
  },
  {
   "cell_type": "code",
   "execution_count": 166,
   "metadata": {},
   "outputs": [
    {
     "data": {
      "text/html": [
       "<div>\n",
       "<style scoped>\n",
       "    .dataframe tbody tr th:only-of-type {\n",
       "        vertical-align: middle;\n",
       "    }\n",
       "\n",
       "    .dataframe tbody tr th {\n",
       "        vertical-align: top;\n",
       "    }\n",
       "\n",
       "    .dataframe thead th {\n",
       "        text-align: right;\n",
       "    }\n",
       "</style>\n",
       "<table border=\"1\" class=\"dataframe\">\n",
       "  <thead>\n",
       "    <tr style=\"text-align: right;\">\n",
       "      <th></th>\n",
       "      <th>tweet</th>\n",
       "      <th>class</th>\n",
       "      <th>tweet_punct</th>\n",
       "      <th>tweet_pre</th>\n",
       "      <th>tweet_tokenized</th>\n",
       "    </tr>\n",
       "  </thead>\n",
       "  <tbody>\n",
       "    <tr>\n",
       "      <th>81624</th>\n",
       "      <td>I was advised earlier that such a redirect is the desired option because the disambiguation page...</td>\n",
       "      <td>0</td>\n",
       "      <td>I was advised earlier that such a redirect is the desired option because the disambiguation page...</td>\n",
       "      <td>advised earlier redirect desired option disambiguation page contains information actor better av...</td>\n",
       "      <td>[advised, earlier, redirect, desired, option, disambiguation, page, contains, information, actor...</td>\n",
       "    </tr>\n",
       "    <tr>\n",
       "      <th>75269</th>\n",
       "      <td>Please refrain from adding nonsense to Wikipedia, as you did to Banana. It is considered vandali...</td>\n",
       "      <td>0</td>\n",
       "      <td>Please refrain from adding nonsense to Wikipedia as you did to Banana It is considered vandalism...</td>\n",
       "      <td>please refrain adding nonsense wikipedia banana considered vandalism would like experiment use s...</td>\n",
       "      <td>[please, refrain, adding, nonsense, wikipedia, banana, considered, vandalism, would, like, exper...</td>\n",
       "    </tr>\n",
       "    <tr>\n",
       "      <th>19022</th>\n",
       "      <td>RT @fukkitsbrittney: @AustinBedsaul is so wise yet so young. Thank you for listening to me bitch...</td>\n",
       "      <td>1</td>\n",
       "      <td>RT fukkitsbrittney AustinBedsaul is so wise yet so young Thank you for listening to me bitch</td>\n",
       "      <td>rt fukkitsbrittney austinbedsaul wise yet young thank listening bitch</td>\n",
       "      <td>[rt, fukkitsbrittney, austinbedsaul, wise, yet, young, thank, listening, bitch]</td>\n",
       "    </tr>\n",
       "    <tr>\n",
       "      <th>80367</th>\n",
       "      <td>You can post me messages here.</td>\n",
       "      <td>0</td>\n",
       "      <td>You can post me messages here</td>\n",
       "      <td>post messages</td>\n",
       "      <td>[post, messages]</td>\n",
       "    </tr>\n",
       "    <tr>\n",
       "      <th>111607</th>\n",
       "      <td>On Southwest Airlines you</td>\n",
       "      <td>0</td>\n",
       "      <td>On Southwest Airlines you</td>\n",
       "      <td>southwest airlines</td>\n",
       "      <td>[southwest, airlines]</td>\n",
       "    </tr>\n",
       "  </tbody>\n",
       "</table>\n",
       "</div>"
      ],
      "text/plain": [
       "                                                                                                      tweet  \\\n",
       "81624   I was advised earlier that such a redirect is the desired option because the disambiguation page...   \n",
       "75269   Please refrain from adding nonsense to Wikipedia, as you did to Banana. It is considered vandali...   \n",
       "19022   RT @fukkitsbrittney: @AustinBedsaul is so wise yet so young. Thank you for listening to me bitch...   \n",
       "80367                                                                        You can post me messages here.   \n",
       "111607                                                                            On Southwest Airlines you   \n",
       "\n",
       "        class  \\\n",
       "81624       0   \n",
       "75269       0   \n",
       "19022       1   \n",
       "80367       0   \n",
       "111607      0   \n",
       "\n",
       "                                                                                                tweet_punct  \\\n",
       "81624   I was advised earlier that such a redirect is the desired option because the disambiguation page...   \n",
       "75269   Please refrain from adding nonsense to Wikipedia as you did to Banana It is considered vandalism...   \n",
       "19022         RT fukkitsbrittney AustinBedsaul is so wise yet so young Thank you for listening to me bitch    \n",
       "80367                                                                         You can post me messages here   \n",
       "111607                                                                            On Southwest Airlines you   \n",
       "\n",
       "                                                                                                  tweet_pre  \\\n",
       "81624   advised earlier redirect desired option disambiguation page contains information actor better av...   \n",
       "75269   please refrain adding nonsense wikipedia banana considered vandalism would like experiment use s...   \n",
       "19022                                 rt fukkitsbrittney austinbedsaul wise yet young thank listening bitch   \n",
       "80367                                                                                         post messages   \n",
       "111607                                                                                   southwest airlines   \n",
       "\n",
       "                                                                                            tweet_tokenized  \n",
       "81624   [advised, earlier, redirect, desired, option, disambiguation, page, contains, information, actor...  \n",
       "75269   [please, refrain, adding, nonsense, wikipedia, banana, considered, vandalism, would, like, exper...  \n",
       "19022                       [rt, fukkitsbrittney, austinbedsaul, wise, yet, young, thank, listening, bitch]  \n",
       "80367                                                                                      [post, messages]  \n",
       "111607                                                                                [southwest, airlines]  "
      ]
     },
     "execution_count": 166,
     "metadata": {},
     "output_type": "execute_result"
    }
   ],
   "source": [
    "df['tweet_tokenized'] = df['tweet_pre'].apply(lambda x: tokenization(x.lower()))\n",
    "df.head()"
   ]
  },
  {
   "cell_type": "markdown",
   "metadata": {},
   "source": [
    "### REMOVE STOPWORDS "
   ]
  },
  {
   "cell_type": "code",
   "execution_count": 167,
   "metadata": {},
   "outputs": [
    {
     "name": "stderr",
     "output_type": "stream",
     "text": [
      "[nltk_data] Downloading package stopwords to\n",
      "[nltk_data]     /home/spriyanshu723/nltk_data...\n",
      "[nltk_data]   Package stopwords is already up-to-date!\n"
     ]
    },
    {
     "data": {
      "text/plain": [
       "True"
      ]
     },
     "execution_count": 167,
     "metadata": {},
     "output_type": "execute_result"
    }
   ],
   "source": [
    "import nltk\n",
    "nltk.download('stopwords')"
   ]
  },
  {
   "cell_type": "code",
   "execution_count": 168,
   "metadata": {},
   "outputs": [],
   "source": [
    "stopword = nltk.corpus.stopwords.words('english')"
   ]
  },
  {
   "cell_type": "code",
   "execution_count": 169,
   "metadata": {},
   "outputs": [],
   "source": [
    "def remove_stopwords(text):\n",
    "    text = [word for word in text if word not in stopword]\n",
    "    return text"
   ]
  },
  {
   "cell_type": "code",
   "execution_count": 170,
   "metadata": {},
   "outputs": [
    {
     "data": {
      "text/html": [
       "<div>\n",
       "<style scoped>\n",
       "    .dataframe tbody tr th:only-of-type {\n",
       "        vertical-align: middle;\n",
       "    }\n",
       "\n",
       "    .dataframe tbody tr th {\n",
       "        vertical-align: top;\n",
       "    }\n",
       "\n",
       "    .dataframe thead th {\n",
       "        text-align: right;\n",
       "    }\n",
       "</style>\n",
       "<table border=\"1\" class=\"dataframe\">\n",
       "  <thead>\n",
       "    <tr style=\"text-align: right;\">\n",
       "      <th></th>\n",
       "      <th>tweet</th>\n",
       "      <th>class</th>\n",
       "      <th>tweet_punct</th>\n",
       "      <th>tweet_pre</th>\n",
       "      <th>tweet_tokenized</th>\n",
       "      <th>tweet_nonstop</th>\n",
       "    </tr>\n",
       "  </thead>\n",
       "  <tbody>\n",
       "    <tr>\n",
       "      <th>81624</th>\n",
       "      <td>I was advised earlier that such a redirect is the desired option because the disambiguation page...</td>\n",
       "      <td>0</td>\n",
       "      <td>I was advised earlier that such a redirect is the desired option because the disambiguation page...</td>\n",
       "      <td>advised earlier redirect desired option disambiguation page contains information actor better av...</td>\n",
       "      <td>[advised, earlier, redirect, desired, option, disambiguation, page, contains, information, actor...</td>\n",
       "      <td>[advised, earlier, redirect, desired, option, disambiguation, page, contains, information, actor...</td>\n",
       "    </tr>\n",
       "    <tr>\n",
       "      <th>75269</th>\n",
       "      <td>Please refrain from adding nonsense to Wikipedia, as you did to Banana. It is considered vandali...</td>\n",
       "      <td>0</td>\n",
       "      <td>Please refrain from adding nonsense to Wikipedia as you did to Banana It is considered vandalism...</td>\n",
       "      <td>please refrain adding nonsense wikipedia banana considered vandalism would like experiment use s...</td>\n",
       "      <td>[please, refrain, adding, nonsense, wikipedia, banana, considered, vandalism, would, like, exper...</td>\n",
       "      <td>[please, refrain, adding, nonsense, wikipedia, banana, considered, vandalism, would, like, exper...</td>\n",
       "    </tr>\n",
       "    <tr>\n",
       "      <th>19022</th>\n",
       "      <td>RT @fukkitsbrittney: @AustinBedsaul is so wise yet so young. Thank you for listening to me bitch...</td>\n",
       "      <td>1</td>\n",
       "      <td>RT fukkitsbrittney AustinBedsaul is so wise yet so young Thank you for listening to me bitch</td>\n",
       "      <td>rt fukkitsbrittney austinbedsaul wise yet young thank listening bitch</td>\n",
       "      <td>[rt, fukkitsbrittney, austinbedsaul, wise, yet, young, thank, listening, bitch]</td>\n",
       "      <td>[rt, fukkitsbrittney, austinbedsaul, wise, yet, young, thank, listening, bitch]</td>\n",
       "    </tr>\n",
       "    <tr>\n",
       "      <th>80367</th>\n",
       "      <td>You can post me messages here.</td>\n",
       "      <td>0</td>\n",
       "      <td>You can post me messages here</td>\n",
       "      <td>post messages</td>\n",
       "      <td>[post, messages]</td>\n",
       "      <td>[post, messages]</td>\n",
       "    </tr>\n",
       "    <tr>\n",
       "      <th>111607</th>\n",
       "      <td>On Southwest Airlines you</td>\n",
       "      <td>0</td>\n",
       "      <td>On Southwest Airlines you</td>\n",
       "      <td>southwest airlines</td>\n",
       "      <td>[southwest, airlines]</td>\n",
       "      <td>[southwest, airlines]</td>\n",
       "    </tr>\n",
       "  </tbody>\n",
       "</table>\n",
       "</div>"
      ],
      "text/plain": [
       "                                                                                                      tweet  \\\n",
       "81624   I was advised earlier that such a redirect is the desired option because the disambiguation page...   \n",
       "75269   Please refrain from adding nonsense to Wikipedia, as you did to Banana. It is considered vandali...   \n",
       "19022   RT @fukkitsbrittney: @AustinBedsaul is so wise yet so young. Thank you for listening to me bitch...   \n",
       "80367                                                                        You can post me messages here.   \n",
       "111607                                                                            On Southwest Airlines you   \n",
       "\n",
       "        class  \\\n",
       "81624       0   \n",
       "75269       0   \n",
       "19022       1   \n",
       "80367       0   \n",
       "111607      0   \n",
       "\n",
       "                                                                                                tweet_punct  \\\n",
       "81624   I was advised earlier that such a redirect is the desired option because the disambiguation page...   \n",
       "75269   Please refrain from adding nonsense to Wikipedia as you did to Banana It is considered vandalism...   \n",
       "19022         RT fukkitsbrittney AustinBedsaul is so wise yet so young Thank you for listening to me bitch    \n",
       "80367                                                                         You can post me messages here   \n",
       "111607                                                                            On Southwest Airlines you   \n",
       "\n",
       "                                                                                                  tweet_pre  \\\n",
       "81624   advised earlier redirect desired option disambiguation page contains information actor better av...   \n",
       "75269   please refrain adding nonsense wikipedia banana considered vandalism would like experiment use s...   \n",
       "19022                                 rt fukkitsbrittney austinbedsaul wise yet young thank listening bitch   \n",
       "80367                                                                                         post messages   \n",
       "111607                                                                                   southwest airlines   \n",
       "\n",
       "                                                                                            tweet_tokenized  \\\n",
       "81624   [advised, earlier, redirect, desired, option, disambiguation, page, contains, information, actor...   \n",
       "75269   [please, refrain, adding, nonsense, wikipedia, banana, considered, vandalism, would, like, exper...   \n",
       "19022                       [rt, fukkitsbrittney, austinbedsaul, wise, yet, young, thank, listening, bitch]   \n",
       "80367                                                                                      [post, messages]   \n",
       "111607                                                                                [southwest, airlines]   \n",
       "\n",
       "                                                                                              tweet_nonstop  \n",
       "81624   [advised, earlier, redirect, desired, option, disambiguation, page, contains, information, actor...  \n",
       "75269   [please, refrain, adding, nonsense, wikipedia, banana, considered, vandalism, would, like, exper...  \n",
       "19022                       [rt, fukkitsbrittney, austinbedsaul, wise, yet, young, thank, listening, bitch]  \n",
       "80367                                                                                      [post, messages]  \n",
       "111607                                                                                [southwest, airlines]  "
      ]
     },
     "execution_count": 170,
     "metadata": {},
     "output_type": "execute_result"
    }
   ],
   "source": [
    "df['tweet_nonstop'] = df['tweet_tokenized'].apply(lambda x: remove_stopwords(x))\n",
    "df.head()"
   ]
  },
  {
   "cell_type": "markdown",
   "metadata": {},
   "source": [
    "### STEMMING"
   ]
  },
  {
   "cell_type": "code",
   "execution_count": 171,
   "metadata": {},
   "outputs": [],
   "source": [
    "ps = nltk.PorterStemmer()"
   ]
  },
  {
   "cell_type": "code",
   "execution_count": 172,
   "metadata": {},
   "outputs": [],
   "source": [
    "def stemming(text):\n",
    "    text = [ps.stem(word) for word in text]\n",
    "    return text"
   ]
  },
  {
   "cell_type": "code",
   "execution_count": 173,
   "metadata": {},
   "outputs": [],
   "source": [
    "import sys\n",
    "sys.setrecursionlimit(15000)"
   ]
  },
  {
   "cell_type": "code",
   "execution_count": 174,
   "metadata": {},
   "outputs": [
    {
     "data": {
      "text/html": [
       "<div>\n",
       "<style scoped>\n",
       "    .dataframe tbody tr th:only-of-type {\n",
       "        vertical-align: middle;\n",
       "    }\n",
       "\n",
       "    .dataframe tbody tr th {\n",
       "        vertical-align: top;\n",
       "    }\n",
       "\n",
       "    .dataframe thead th {\n",
       "        text-align: right;\n",
       "    }\n",
       "</style>\n",
       "<table border=\"1\" class=\"dataframe\">\n",
       "  <thead>\n",
       "    <tr style=\"text-align: right;\">\n",
       "      <th></th>\n",
       "      <th>tweet</th>\n",
       "      <th>class</th>\n",
       "      <th>tweet_punct</th>\n",
       "      <th>tweet_pre</th>\n",
       "      <th>tweet_tokenized</th>\n",
       "      <th>tweet_nonstop</th>\n",
       "      <th>tweet_stemmed</th>\n",
       "    </tr>\n",
       "  </thead>\n",
       "  <tbody>\n",
       "    <tr>\n",
       "      <th>81624</th>\n",
       "      <td>I was advised earlier that such a redirect is the desired option because the disambiguation page...</td>\n",
       "      <td>0</td>\n",
       "      <td>I was advised earlier that such a redirect is the desired option because the disambiguation page...</td>\n",
       "      <td>advised earlier redirect desired option disambiguation page contains information actor better av...</td>\n",
       "      <td>[advised, earlier, redirect, desired, option, disambiguation, page, contains, information, actor...</td>\n",
       "      <td>[advised, earlier, redirect, desired, option, disambiguation, page, contains, information, actor...</td>\n",
       "      <td>[advis, earlier, redirect, desir, option, disambigu, page, contain, inform, actor, better, avera...</td>\n",
       "    </tr>\n",
       "    <tr>\n",
       "      <th>75269</th>\n",
       "      <td>Please refrain from adding nonsense to Wikipedia, as you did to Banana. It is considered vandali...</td>\n",
       "      <td>0</td>\n",
       "      <td>Please refrain from adding nonsense to Wikipedia as you did to Banana It is considered vandalism...</td>\n",
       "      <td>please refrain adding nonsense wikipedia banana considered vandalism would like experiment use s...</td>\n",
       "      <td>[please, refrain, adding, nonsense, wikipedia, banana, considered, vandalism, would, like, exper...</td>\n",
       "      <td>[please, refrain, adding, nonsense, wikipedia, banana, considered, vandalism, would, like, exper...</td>\n",
       "      <td>[pleas, refrain, ad, nonsens, wikipedia, banana, consid, vandal, would, like, experi, use, sandb...</td>\n",
       "    </tr>\n",
       "    <tr>\n",
       "      <th>19022</th>\n",
       "      <td>RT @fukkitsbrittney: @AustinBedsaul is so wise yet so young. Thank you for listening to me bitch...</td>\n",
       "      <td>1</td>\n",
       "      <td>RT fukkitsbrittney AustinBedsaul is so wise yet so young Thank you for listening to me bitch</td>\n",
       "      <td>rt fukkitsbrittney austinbedsaul wise yet young thank listening bitch</td>\n",
       "      <td>[rt, fukkitsbrittney, austinbedsaul, wise, yet, young, thank, listening, bitch]</td>\n",
       "      <td>[rt, fukkitsbrittney, austinbedsaul, wise, yet, young, thank, listening, bitch]</td>\n",
       "      <td>[rt, fukkitsbrittney, austinbedsaul, wise, yet, young, thank, listen, bitch]</td>\n",
       "    </tr>\n",
       "    <tr>\n",
       "      <th>80367</th>\n",
       "      <td>You can post me messages here.</td>\n",
       "      <td>0</td>\n",
       "      <td>You can post me messages here</td>\n",
       "      <td>post messages</td>\n",
       "      <td>[post, messages]</td>\n",
       "      <td>[post, messages]</td>\n",
       "      <td>[post, messag]</td>\n",
       "    </tr>\n",
       "    <tr>\n",
       "      <th>111607</th>\n",
       "      <td>On Southwest Airlines you</td>\n",
       "      <td>0</td>\n",
       "      <td>On Southwest Airlines you</td>\n",
       "      <td>southwest airlines</td>\n",
       "      <td>[southwest, airlines]</td>\n",
       "      <td>[southwest, airlines]</td>\n",
       "      <td>[southwest, airlin]</td>\n",
       "    </tr>\n",
       "  </tbody>\n",
       "</table>\n",
       "</div>"
      ],
      "text/plain": [
       "                                                                                                      tweet  \\\n",
       "81624   I was advised earlier that such a redirect is the desired option because the disambiguation page...   \n",
       "75269   Please refrain from adding nonsense to Wikipedia, as you did to Banana. It is considered vandali...   \n",
       "19022   RT @fukkitsbrittney: @AustinBedsaul is so wise yet so young. Thank you for listening to me bitch...   \n",
       "80367                                                                        You can post me messages here.   \n",
       "111607                                                                            On Southwest Airlines you   \n",
       "\n",
       "        class  \\\n",
       "81624       0   \n",
       "75269       0   \n",
       "19022       1   \n",
       "80367       0   \n",
       "111607      0   \n",
       "\n",
       "                                                                                                tweet_punct  \\\n",
       "81624   I was advised earlier that such a redirect is the desired option because the disambiguation page...   \n",
       "75269   Please refrain from adding nonsense to Wikipedia as you did to Banana It is considered vandalism...   \n",
       "19022         RT fukkitsbrittney AustinBedsaul is so wise yet so young Thank you for listening to me bitch    \n",
       "80367                                                                         You can post me messages here   \n",
       "111607                                                                            On Southwest Airlines you   \n",
       "\n",
       "                                                                                                  tweet_pre  \\\n",
       "81624   advised earlier redirect desired option disambiguation page contains information actor better av...   \n",
       "75269   please refrain adding nonsense wikipedia banana considered vandalism would like experiment use s...   \n",
       "19022                                 rt fukkitsbrittney austinbedsaul wise yet young thank listening bitch   \n",
       "80367                                                                                         post messages   \n",
       "111607                                                                                   southwest airlines   \n",
       "\n",
       "                                                                                            tweet_tokenized  \\\n",
       "81624   [advised, earlier, redirect, desired, option, disambiguation, page, contains, information, actor...   \n",
       "75269   [please, refrain, adding, nonsense, wikipedia, banana, considered, vandalism, would, like, exper...   \n",
       "19022                       [rt, fukkitsbrittney, austinbedsaul, wise, yet, young, thank, listening, bitch]   \n",
       "80367                                                                                      [post, messages]   \n",
       "111607                                                                                [southwest, airlines]   \n",
       "\n",
       "                                                                                              tweet_nonstop  \\\n",
       "81624   [advised, earlier, redirect, desired, option, disambiguation, page, contains, information, actor...   \n",
       "75269   [please, refrain, adding, nonsense, wikipedia, banana, considered, vandalism, would, like, exper...   \n",
       "19022                       [rt, fukkitsbrittney, austinbedsaul, wise, yet, young, thank, listening, bitch]   \n",
       "80367                                                                                      [post, messages]   \n",
       "111607                                                                                [southwest, airlines]   \n",
       "\n",
       "                                                                                              tweet_stemmed  \n",
       "81624   [advis, earlier, redirect, desir, option, disambigu, page, contain, inform, actor, better, avera...  \n",
       "75269   [pleas, refrain, ad, nonsens, wikipedia, banana, consid, vandal, would, like, experi, use, sandb...  \n",
       "19022                          [rt, fukkitsbrittney, austinbedsaul, wise, yet, young, thank, listen, bitch]  \n",
       "80367                                                                                        [post, messag]  \n",
       "111607                                                                                  [southwest, airlin]  "
      ]
     },
     "execution_count": 174,
     "metadata": {},
     "output_type": "execute_result"
    }
   ],
   "source": [
    "df['tweet_stemmed'] = df['tweet_nonstop'].apply(lambda x: stemming(x))\n",
    "df.head()"
   ]
  },
  {
   "cell_type": "markdown",
   "metadata": {},
   "source": [
    "###  LAMMITIZATION "
   ]
  },
  {
   "cell_type": "code",
   "execution_count": 175,
   "metadata": {},
   "outputs": [],
   "source": [
    "wn = nltk.WordNetLemmatizer()"
   ]
  },
  {
   "cell_type": "code",
   "execution_count": 176,
   "metadata": {},
   "outputs": [],
   "source": [
    "def lemmatizer(text):\n",
    "    text = [wn.lemmatize(word) for word in text]\n",
    "    return text"
   ]
  },
  {
   "cell_type": "code",
   "execution_count": 177,
   "metadata": {},
   "outputs": [
    {
     "name": "stderr",
     "output_type": "stream",
     "text": [
      "[nltk_data] Downloading package wordnet to\n",
      "[nltk_data]     /home/spriyanshu723/nltk_data...\n",
      "[nltk_data]   Package wordnet is already up-to-date!\n"
     ]
    },
    {
     "data": {
      "text/plain": [
       "True"
      ]
     },
     "execution_count": 177,
     "metadata": {},
     "output_type": "execute_result"
    }
   ],
   "source": [
    "import nltk\n",
    "nltk.download('wordnet')"
   ]
  },
  {
   "cell_type": "code",
   "execution_count": 178,
   "metadata": {},
   "outputs": [
    {
     "data": {
      "text/html": [
       "<div>\n",
       "<style scoped>\n",
       "    .dataframe tbody tr th:only-of-type {\n",
       "        vertical-align: middle;\n",
       "    }\n",
       "\n",
       "    .dataframe tbody tr th {\n",
       "        vertical-align: top;\n",
       "    }\n",
       "\n",
       "    .dataframe thead th {\n",
       "        text-align: right;\n",
       "    }\n",
       "</style>\n",
       "<table border=\"1\" class=\"dataframe\">\n",
       "  <thead>\n",
       "    <tr style=\"text-align: right;\">\n",
       "      <th></th>\n",
       "      <th>tweet</th>\n",
       "      <th>class</th>\n",
       "      <th>tweet_punct</th>\n",
       "      <th>tweet_pre</th>\n",
       "      <th>tweet_tokenized</th>\n",
       "      <th>tweet_nonstop</th>\n",
       "      <th>tweet_stemmed</th>\n",
       "      <th>tweet_lemmatized</th>\n",
       "    </tr>\n",
       "  </thead>\n",
       "  <tbody>\n",
       "    <tr>\n",
       "      <th>81624</th>\n",
       "      <td>I was advised earlier that such a redirect is the desired option because the disambiguation page...</td>\n",
       "      <td>0</td>\n",
       "      <td>I was advised earlier that such a redirect is the desired option because the disambiguation page...</td>\n",
       "      <td>advised earlier redirect desired option disambiguation page contains information actor better av...</td>\n",
       "      <td>[advised, earlier, redirect, desired, option, disambiguation, page, contains, information, actor...</td>\n",
       "      <td>[advised, earlier, redirect, desired, option, disambiguation, page, contains, information, actor...</td>\n",
       "      <td>[advis, earlier, redirect, desir, option, disambigu, page, contain, inform, actor, better, avera...</td>\n",
       "      <td>[advised, earlier, redirect, desired, option, disambiguation, page, contains, information, actor...</td>\n",
       "    </tr>\n",
       "    <tr>\n",
       "      <th>75269</th>\n",
       "      <td>Please refrain from adding nonsense to Wikipedia, as you did to Banana. It is considered vandali...</td>\n",
       "      <td>0</td>\n",
       "      <td>Please refrain from adding nonsense to Wikipedia as you did to Banana It is considered vandalism...</td>\n",
       "      <td>please refrain adding nonsense wikipedia banana considered vandalism would like experiment use s...</td>\n",
       "      <td>[please, refrain, adding, nonsense, wikipedia, banana, considered, vandalism, would, like, exper...</td>\n",
       "      <td>[please, refrain, adding, nonsense, wikipedia, banana, considered, vandalism, would, like, exper...</td>\n",
       "      <td>[pleas, refrain, ad, nonsens, wikipedia, banana, consid, vandal, would, like, experi, use, sandb...</td>\n",
       "      <td>[please, refrain, adding, nonsense, wikipedia, banana, considered, vandalism, would, like, exper...</td>\n",
       "    </tr>\n",
       "    <tr>\n",
       "      <th>19022</th>\n",
       "      <td>RT @fukkitsbrittney: @AustinBedsaul is so wise yet so young. Thank you for listening to me bitch...</td>\n",
       "      <td>1</td>\n",
       "      <td>RT fukkitsbrittney AustinBedsaul is so wise yet so young Thank you for listening to me bitch</td>\n",
       "      <td>rt fukkitsbrittney austinbedsaul wise yet young thank listening bitch</td>\n",
       "      <td>[rt, fukkitsbrittney, austinbedsaul, wise, yet, young, thank, listening, bitch]</td>\n",
       "      <td>[rt, fukkitsbrittney, austinbedsaul, wise, yet, young, thank, listening, bitch]</td>\n",
       "      <td>[rt, fukkitsbrittney, austinbedsaul, wise, yet, young, thank, listen, bitch]</td>\n",
       "      <td>[rt, fukkitsbrittney, austinbedsaul, wise, yet, young, thank, listening, bitch]</td>\n",
       "    </tr>\n",
       "    <tr>\n",
       "      <th>80367</th>\n",
       "      <td>You can post me messages here.</td>\n",
       "      <td>0</td>\n",
       "      <td>You can post me messages here</td>\n",
       "      <td>post messages</td>\n",
       "      <td>[post, messages]</td>\n",
       "      <td>[post, messages]</td>\n",
       "      <td>[post, messag]</td>\n",
       "      <td>[post, message]</td>\n",
       "    </tr>\n",
       "    <tr>\n",
       "      <th>111607</th>\n",
       "      <td>On Southwest Airlines you</td>\n",
       "      <td>0</td>\n",
       "      <td>On Southwest Airlines you</td>\n",
       "      <td>southwest airlines</td>\n",
       "      <td>[southwest, airlines]</td>\n",
       "      <td>[southwest, airlines]</td>\n",
       "      <td>[southwest, airlin]</td>\n",
       "      <td>[southwest, airline]</td>\n",
       "    </tr>\n",
       "  </tbody>\n",
       "</table>\n",
       "</div>"
      ],
      "text/plain": [
       "                                                                                                      tweet  \\\n",
       "81624   I was advised earlier that such a redirect is the desired option because the disambiguation page...   \n",
       "75269   Please refrain from adding nonsense to Wikipedia, as you did to Banana. It is considered vandali...   \n",
       "19022   RT @fukkitsbrittney: @AustinBedsaul is so wise yet so young. Thank you for listening to me bitch...   \n",
       "80367                                                                        You can post me messages here.   \n",
       "111607                                                                            On Southwest Airlines you   \n",
       "\n",
       "        class  \\\n",
       "81624       0   \n",
       "75269       0   \n",
       "19022       1   \n",
       "80367       0   \n",
       "111607      0   \n",
       "\n",
       "                                                                                                tweet_punct  \\\n",
       "81624   I was advised earlier that such a redirect is the desired option because the disambiguation page...   \n",
       "75269   Please refrain from adding nonsense to Wikipedia as you did to Banana It is considered vandalism...   \n",
       "19022         RT fukkitsbrittney AustinBedsaul is so wise yet so young Thank you for listening to me bitch    \n",
       "80367                                                                         You can post me messages here   \n",
       "111607                                                                            On Southwest Airlines you   \n",
       "\n",
       "                                                                                                  tweet_pre  \\\n",
       "81624   advised earlier redirect desired option disambiguation page contains information actor better av...   \n",
       "75269   please refrain adding nonsense wikipedia banana considered vandalism would like experiment use s...   \n",
       "19022                                 rt fukkitsbrittney austinbedsaul wise yet young thank listening bitch   \n",
       "80367                                                                                         post messages   \n",
       "111607                                                                                   southwest airlines   \n",
       "\n",
       "                                                                                            tweet_tokenized  \\\n",
       "81624   [advised, earlier, redirect, desired, option, disambiguation, page, contains, information, actor...   \n",
       "75269   [please, refrain, adding, nonsense, wikipedia, banana, considered, vandalism, would, like, exper...   \n",
       "19022                       [rt, fukkitsbrittney, austinbedsaul, wise, yet, young, thank, listening, bitch]   \n",
       "80367                                                                                      [post, messages]   \n",
       "111607                                                                                [southwest, airlines]   \n",
       "\n",
       "                                                                                              tweet_nonstop  \\\n",
       "81624   [advised, earlier, redirect, desired, option, disambiguation, page, contains, information, actor...   \n",
       "75269   [please, refrain, adding, nonsense, wikipedia, banana, considered, vandalism, would, like, exper...   \n",
       "19022                       [rt, fukkitsbrittney, austinbedsaul, wise, yet, young, thank, listening, bitch]   \n",
       "80367                                                                                      [post, messages]   \n",
       "111607                                                                                [southwest, airlines]   \n",
       "\n",
       "                                                                                              tweet_stemmed  \\\n",
       "81624   [advis, earlier, redirect, desir, option, disambigu, page, contain, inform, actor, better, avera...   \n",
       "75269   [pleas, refrain, ad, nonsens, wikipedia, banana, consid, vandal, would, like, experi, use, sandb...   \n",
       "19022                          [rt, fukkitsbrittney, austinbedsaul, wise, yet, young, thank, listen, bitch]   \n",
       "80367                                                                                        [post, messag]   \n",
       "111607                                                                                  [southwest, airlin]   \n",
       "\n",
       "                                                                                           tweet_lemmatized  \n",
       "81624   [advised, earlier, redirect, desired, option, disambiguation, page, contains, information, actor...  \n",
       "75269   [please, refrain, adding, nonsense, wikipedia, banana, considered, vandalism, would, like, exper...  \n",
       "19022                       [rt, fukkitsbrittney, austinbedsaul, wise, yet, young, thank, listening, bitch]  \n",
       "80367                                                                                       [post, message]  \n",
       "111607                                                                                 [southwest, airline]  "
      ]
     },
     "execution_count": 178,
     "metadata": {},
     "output_type": "execute_result"
    }
   ],
   "source": [
    "df['tweet_lemmatized'] = df['tweet_nonstop'].apply(lambda x: lemmatizer(x))\n",
    "df.head()"
   ]
  },
  {
   "cell_type": "markdown",
   "metadata": {},
   "source": [
    "### CLEANING "
   ]
  },
  {
   "cell_type": "code",
   "execution_count": 181,
   "metadata": {},
   "outputs": [],
   "source": [
    "def clean_text(text):\n",
    "    text_lc = \"\".join([word.lower() for word in text if word not in string.punctuation]) # remove puntuation\n",
    "    text_rc = re.sub('[0-9]+', '', text_lc)\n",
    "    tokens = re.split('\\W+', text_rc)    # tokenization\n",
    "    text = [ps.stem(word) for word in tokens if word not in stopword]  # remove stopwords and stemming\n",
    "    return text"
   ]
  },
  {
   "cell_type": "code",
   "execution_count": 183,
   "metadata": {},
   "outputs": [
    {
     "data": {
      "text/html": [
       "<div>\n",
       "<style scoped>\n",
       "    .dataframe tbody tr th:only-of-type {\n",
       "        vertical-align: middle;\n",
       "    }\n",
       "\n",
       "    .dataframe tbody tr th {\n",
       "        vertical-align: top;\n",
       "    }\n",
       "\n",
       "    .dataframe thead th {\n",
       "        text-align: right;\n",
       "    }\n",
       "</style>\n",
       "<table border=\"1\" class=\"dataframe\">\n",
       "  <thead>\n",
       "    <tr style=\"text-align: right;\">\n",
       "      <th></th>\n",
       "      <th>tweet</th>\n",
       "      <th>class</th>\n",
       "      <th>tweet_punct</th>\n",
       "      <th>tweet_pre</th>\n",
       "      <th>tweet_tokenized</th>\n",
       "      <th>tweet_nonstop</th>\n",
       "      <th>tweet_stemmed</th>\n",
       "      <th>tweet_lemmatized</th>\n",
       "      <th>tweet_clean</th>\n",
       "    </tr>\n",
       "  </thead>\n",
       "  <tbody>\n",
       "    <tr>\n",
       "      <th>81624</th>\n",
       "      <td>I was advised earlier that such a redirect is the desired option because the disambiguation page...</td>\n",
       "      <td>0</td>\n",
       "      <td>I was advised earlier that such a redirect is the desired option because the disambiguation page...</td>\n",
       "      <td>advised earlier redirect desired option disambiguation page contains information actor better av...</td>\n",
       "      <td>[advised, earlier, redirect, desired, option, disambiguation, page, contains, information, actor...</td>\n",
       "      <td>[advised, earlier, redirect, desired, option, disambiguation, page, contains, information, actor...</td>\n",
       "      <td>[advis, earlier, redirect, desir, option, disambigu, page, contain, inform, actor, better, avera...</td>\n",
       "      <td>[advised, earlier, redirect, desired, option, disambiguation, page, contains, information, actor...</td>\n",
       "      <td>[advis, earlier, redirect, desir, option, disambigu, page, contain, inform, actor, better, avera...</td>\n",
       "    </tr>\n",
       "    <tr>\n",
       "      <th>75269</th>\n",
       "      <td>Please refrain from adding nonsense to Wikipedia, as you did to Banana. It is considered vandali...</td>\n",
       "      <td>0</td>\n",
       "      <td>Please refrain from adding nonsense to Wikipedia as you did to Banana It is considered vandalism...</td>\n",
       "      <td>please refrain adding nonsense wikipedia banana considered vandalism would like experiment use s...</td>\n",
       "      <td>[please, refrain, adding, nonsense, wikipedia, banana, considered, vandalism, would, like, exper...</td>\n",
       "      <td>[please, refrain, adding, nonsense, wikipedia, banana, considered, vandalism, would, like, exper...</td>\n",
       "      <td>[pleas, refrain, ad, nonsens, wikipedia, banana, consid, vandal, would, like, experi, use, sandb...</td>\n",
       "      <td>[please, refrain, adding, nonsense, wikipedia, banana, considered, vandalism, would, like, exper...</td>\n",
       "      <td>[pleas, refrain, ad, nonsens, wikipedia, banana, consid, vandal, would, like, experi, use, sandb...</td>\n",
       "    </tr>\n",
       "    <tr>\n",
       "      <th>19022</th>\n",
       "      <td>RT @fukkitsbrittney: @AustinBedsaul is so wise yet so young. Thank you for listening to me bitch...</td>\n",
       "      <td>1</td>\n",
       "      <td>RT fukkitsbrittney AustinBedsaul is so wise yet so young Thank you for listening to me bitch</td>\n",
       "      <td>rt fukkitsbrittney austinbedsaul wise yet young thank listening bitch</td>\n",
       "      <td>[rt, fukkitsbrittney, austinbedsaul, wise, yet, young, thank, listening, bitch]</td>\n",
       "      <td>[rt, fukkitsbrittney, austinbedsaul, wise, yet, young, thank, listening, bitch]</td>\n",
       "      <td>[rt, fukkitsbrittney, austinbedsaul, wise, yet, young, thank, listen, bitch]</td>\n",
       "      <td>[rt, fukkitsbrittney, austinbedsaul, wise, yet, young, thank, listening, bitch]</td>\n",
       "      <td>[rt, fukkitsbrittney, austinbedsaul, wise, yet, young, thank, listen, bitch]</td>\n",
       "    </tr>\n",
       "    <tr>\n",
       "      <th>80367</th>\n",
       "      <td>You can post me messages here.</td>\n",
       "      <td>0</td>\n",
       "      <td>You can post me messages here</td>\n",
       "      <td>post messages</td>\n",
       "      <td>[post, messages]</td>\n",
       "      <td>[post, messages]</td>\n",
       "      <td>[post, messag]</td>\n",
       "      <td>[post, message]</td>\n",
       "      <td>[post, messag]</td>\n",
       "    </tr>\n",
       "    <tr>\n",
       "      <th>111607</th>\n",
       "      <td>On Southwest Airlines you</td>\n",
       "      <td>0</td>\n",
       "      <td>On Southwest Airlines you</td>\n",
       "      <td>southwest airlines</td>\n",
       "      <td>[southwest, airlines]</td>\n",
       "      <td>[southwest, airlines]</td>\n",
       "      <td>[southwest, airlin]</td>\n",
       "      <td>[southwest, airline]</td>\n",
       "      <td>[southwest, airlin]</td>\n",
       "    </tr>\n",
       "  </tbody>\n",
       "</table>\n",
       "</div>"
      ],
      "text/plain": [
       "                                                                                                      tweet  \\\n",
       "81624   I was advised earlier that such a redirect is the desired option because the disambiguation page...   \n",
       "75269   Please refrain from adding nonsense to Wikipedia, as you did to Banana. It is considered vandali...   \n",
       "19022   RT @fukkitsbrittney: @AustinBedsaul is so wise yet so young. Thank you for listening to me bitch...   \n",
       "80367                                                                        You can post me messages here.   \n",
       "111607                                                                            On Southwest Airlines you   \n",
       "\n",
       "        class  \\\n",
       "81624       0   \n",
       "75269       0   \n",
       "19022       1   \n",
       "80367       0   \n",
       "111607      0   \n",
       "\n",
       "                                                                                                tweet_punct  \\\n",
       "81624   I was advised earlier that such a redirect is the desired option because the disambiguation page...   \n",
       "75269   Please refrain from adding nonsense to Wikipedia as you did to Banana It is considered vandalism...   \n",
       "19022         RT fukkitsbrittney AustinBedsaul is so wise yet so young Thank you for listening to me bitch    \n",
       "80367                                                                         You can post me messages here   \n",
       "111607                                                                            On Southwest Airlines you   \n",
       "\n",
       "                                                                                                  tweet_pre  \\\n",
       "81624   advised earlier redirect desired option disambiguation page contains information actor better av...   \n",
       "75269   please refrain adding nonsense wikipedia banana considered vandalism would like experiment use s...   \n",
       "19022                                 rt fukkitsbrittney austinbedsaul wise yet young thank listening bitch   \n",
       "80367                                                                                         post messages   \n",
       "111607                                                                                   southwest airlines   \n",
       "\n",
       "                                                                                            tweet_tokenized  \\\n",
       "81624   [advised, earlier, redirect, desired, option, disambiguation, page, contains, information, actor...   \n",
       "75269   [please, refrain, adding, nonsense, wikipedia, banana, considered, vandalism, would, like, exper...   \n",
       "19022                       [rt, fukkitsbrittney, austinbedsaul, wise, yet, young, thank, listening, bitch]   \n",
       "80367                                                                                      [post, messages]   \n",
       "111607                                                                                [southwest, airlines]   \n",
       "\n",
       "                                                                                              tweet_nonstop  \\\n",
       "81624   [advised, earlier, redirect, desired, option, disambiguation, page, contains, information, actor...   \n",
       "75269   [please, refrain, adding, nonsense, wikipedia, banana, considered, vandalism, would, like, exper...   \n",
       "19022                       [rt, fukkitsbrittney, austinbedsaul, wise, yet, young, thank, listening, bitch]   \n",
       "80367                                                                                      [post, messages]   \n",
       "111607                                                                                [southwest, airlines]   \n",
       "\n",
       "                                                                                              tweet_stemmed  \\\n",
       "81624   [advis, earlier, redirect, desir, option, disambigu, page, contain, inform, actor, better, avera...   \n",
       "75269   [pleas, refrain, ad, nonsens, wikipedia, banana, consid, vandal, would, like, experi, use, sandb...   \n",
       "19022                          [rt, fukkitsbrittney, austinbedsaul, wise, yet, young, thank, listen, bitch]   \n",
       "80367                                                                                        [post, messag]   \n",
       "111607                                                                                  [southwest, airlin]   \n",
       "\n",
       "                                                                                           tweet_lemmatized  \\\n",
       "81624   [advised, earlier, redirect, desired, option, disambiguation, page, contains, information, actor...   \n",
       "75269   [please, refrain, adding, nonsense, wikipedia, banana, considered, vandalism, would, like, exper...   \n",
       "19022                       [rt, fukkitsbrittney, austinbedsaul, wise, yet, young, thank, listening, bitch]   \n",
       "80367                                                                                       [post, message]   \n",
       "111607                                                                                 [southwest, airline]   \n",
       "\n",
       "                                                                                                tweet_clean  \n",
       "81624   [advis, earlier, redirect, desir, option, disambigu, page, contain, inform, actor, better, avera...  \n",
       "75269   [pleas, refrain, ad, nonsens, wikipedia, banana, consid, vandal, would, like, experi, use, sandb...  \n",
       "19022                          [rt, fukkitsbrittney, austinbedsaul, wise, yet, young, thank, listen, bitch]  \n",
       "80367                                                                                        [post, messag]  \n",
       "111607                                                                                  [southwest, airlin]  "
      ]
     },
     "execution_count": 183,
     "metadata": {},
     "output_type": "execute_result"
    }
   ],
   "source": [
    "df['tweet_clean'] = df['tweet_pre'].apply(lambda x: clean_text(x))\n",
    "df.head()"
   ]
  },
  {
   "cell_type": "code",
   "execution_count": 184,
   "metadata": {},
   "outputs": [
    {
     "data": {
      "text/plain": [
       "Index(['tweet', 'class', 'tweet_punct', 'tweet_pre', 'tweet_tokenized',\n",
       "       'tweet_nonstop', 'tweet_stemmed', 'tweet_lemmatized', 'tweet_clean'],\n",
       "      dtype='object')"
      ]
     },
     "execution_count": 184,
     "metadata": {},
     "output_type": "execute_result"
    }
   ],
   "source": [
    "df.columns"
   ]
  },
  {
   "cell_type": "code",
   "execution_count": 186,
   "metadata": {},
   "outputs": [],
   "source": [
    "df = df[['tweet', 'tweet_punct', 'tweet_pre', 'tweet_tokenized', 'tweet_nonstop', 'tweet_stemmed', 'tweet_lemmatized', 'tweet_clean', 'class']]"
   ]
  },
  {
   "cell_type": "code",
   "execution_count": 187,
   "metadata": {},
   "outputs": [
    {
     "data": {
      "text/html": [
       "<div>\n",
       "<style scoped>\n",
       "    .dataframe tbody tr th:only-of-type {\n",
       "        vertical-align: middle;\n",
       "    }\n",
       "\n",
       "    .dataframe tbody tr th {\n",
       "        vertical-align: top;\n",
       "    }\n",
       "\n",
       "    .dataframe thead th {\n",
       "        text-align: right;\n",
       "    }\n",
       "</style>\n",
       "<table border=\"1\" class=\"dataframe\">\n",
       "  <thead>\n",
       "    <tr style=\"text-align: right;\">\n",
       "      <th></th>\n",
       "      <th>tweet</th>\n",
       "      <th>tweet_punct</th>\n",
       "      <th>tweet_pre</th>\n",
       "      <th>tweet_tokenized</th>\n",
       "      <th>tweet_nonstop</th>\n",
       "      <th>tweet_stemmed</th>\n",
       "      <th>tweet_lemmatized</th>\n",
       "      <th>tweet_clean</th>\n",
       "      <th>class</th>\n",
       "    </tr>\n",
       "  </thead>\n",
       "  <tbody>\n",
       "    <tr>\n",
       "      <th>81624</th>\n",
       "      <td>I was advised earlier that such a redirect is the desired option because the disambiguation page...</td>\n",
       "      <td>I was advised earlier that such a redirect is the desired option because the disambiguation page...</td>\n",
       "      <td>advised earlier redirect desired option disambiguation page contains information actor better av...</td>\n",
       "      <td>[advised, earlier, redirect, desired, option, disambiguation, page, contains, information, actor...</td>\n",
       "      <td>[advised, earlier, redirect, desired, option, disambiguation, page, contains, information, actor...</td>\n",
       "      <td>[advis, earlier, redirect, desir, option, disambigu, page, contain, inform, actor, better, avera...</td>\n",
       "      <td>[advised, earlier, redirect, desired, option, disambiguation, page, contains, information, actor...</td>\n",
       "      <td>[advis, earlier, redirect, desir, option, disambigu, page, contain, inform, actor, better, avera...</td>\n",
       "      <td>0</td>\n",
       "    </tr>\n",
       "    <tr>\n",
       "      <th>75269</th>\n",
       "      <td>Please refrain from adding nonsense to Wikipedia, as you did to Banana. It is considered vandali...</td>\n",
       "      <td>Please refrain from adding nonsense to Wikipedia as you did to Banana It is considered vandalism...</td>\n",
       "      <td>please refrain adding nonsense wikipedia banana considered vandalism would like experiment use s...</td>\n",
       "      <td>[please, refrain, adding, nonsense, wikipedia, banana, considered, vandalism, would, like, exper...</td>\n",
       "      <td>[please, refrain, adding, nonsense, wikipedia, banana, considered, vandalism, would, like, exper...</td>\n",
       "      <td>[pleas, refrain, ad, nonsens, wikipedia, banana, consid, vandal, would, like, experi, use, sandb...</td>\n",
       "      <td>[please, refrain, adding, nonsense, wikipedia, banana, considered, vandalism, would, like, exper...</td>\n",
       "      <td>[pleas, refrain, ad, nonsens, wikipedia, banana, consid, vandal, would, like, experi, use, sandb...</td>\n",
       "      <td>0</td>\n",
       "    </tr>\n",
       "    <tr>\n",
       "      <th>19022</th>\n",
       "      <td>RT @fukkitsbrittney: @AustinBedsaul is so wise yet so young. Thank you for listening to me bitch...</td>\n",
       "      <td>RT fukkitsbrittney AustinBedsaul is so wise yet so young Thank you for listening to me bitch</td>\n",
       "      <td>rt fukkitsbrittney austinbedsaul wise yet young thank listening bitch</td>\n",
       "      <td>[rt, fukkitsbrittney, austinbedsaul, wise, yet, young, thank, listening, bitch]</td>\n",
       "      <td>[rt, fukkitsbrittney, austinbedsaul, wise, yet, young, thank, listening, bitch]</td>\n",
       "      <td>[rt, fukkitsbrittney, austinbedsaul, wise, yet, young, thank, listen, bitch]</td>\n",
       "      <td>[rt, fukkitsbrittney, austinbedsaul, wise, yet, young, thank, listening, bitch]</td>\n",
       "      <td>[rt, fukkitsbrittney, austinbedsaul, wise, yet, young, thank, listen, bitch]</td>\n",
       "      <td>1</td>\n",
       "    </tr>\n",
       "    <tr>\n",
       "      <th>80367</th>\n",
       "      <td>You can post me messages here.</td>\n",
       "      <td>You can post me messages here</td>\n",
       "      <td>post messages</td>\n",
       "      <td>[post, messages]</td>\n",
       "      <td>[post, messages]</td>\n",
       "      <td>[post, messag]</td>\n",
       "      <td>[post, message]</td>\n",
       "      <td>[post, messag]</td>\n",
       "      <td>0</td>\n",
       "    </tr>\n",
       "    <tr>\n",
       "      <th>111607</th>\n",
       "      <td>On Southwest Airlines you</td>\n",
       "      <td>On Southwest Airlines you</td>\n",
       "      <td>southwest airlines</td>\n",
       "      <td>[southwest, airlines]</td>\n",
       "      <td>[southwest, airlines]</td>\n",
       "      <td>[southwest, airlin]</td>\n",
       "      <td>[southwest, airline]</td>\n",
       "      <td>[southwest, airlin]</td>\n",
       "      <td>0</td>\n",
       "    </tr>\n",
       "  </tbody>\n",
       "</table>\n",
       "</div>"
      ],
      "text/plain": [
       "                                                                                                      tweet  \\\n",
       "81624   I was advised earlier that such a redirect is the desired option because the disambiguation page...   \n",
       "75269   Please refrain from adding nonsense to Wikipedia, as you did to Banana. It is considered vandali...   \n",
       "19022   RT @fukkitsbrittney: @AustinBedsaul is so wise yet so young. Thank you for listening to me bitch...   \n",
       "80367                                                                        You can post me messages here.   \n",
       "111607                                                                            On Southwest Airlines you   \n",
       "\n",
       "                                                                                                tweet_punct  \\\n",
       "81624   I was advised earlier that such a redirect is the desired option because the disambiguation page...   \n",
       "75269   Please refrain from adding nonsense to Wikipedia as you did to Banana It is considered vandalism...   \n",
       "19022         RT fukkitsbrittney AustinBedsaul is so wise yet so young Thank you for listening to me bitch    \n",
       "80367                                                                         You can post me messages here   \n",
       "111607                                                                            On Southwest Airlines you   \n",
       "\n",
       "                                                                                                  tweet_pre  \\\n",
       "81624   advised earlier redirect desired option disambiguation page contains information actor better av...   \n",
       "75269   please refrain adding nonsense wikipedia banana considered vandalism would like experiment use s...   \n",
       "19022                                 rt fukkitsbrittney austinbedsaul wise yet young thank listening bitch   \n",
       "80367                                                                                         post messages   \n",
       "111607                                                                                   southwest airlines   \n",
       "\n",
       "                                                                                            tweet_tokenized  \\\n",
       "81624   [advised, earlier, redirect, desired, option, disambiguation, page, contains, information, actor...   \n",
       "75269   [please, refrain, adding, nonsense, wikipedia, banana, considered, vandalism, would, like, exper...   \n",
       "19022                       [rt, fukkitsbrittney, austinbedsaul, wise, yet, young, thank, listening, bitch]   \n",
       "80367                                                                                      [post, messages]   \n",
       "111607                                                                                [southwest, airlines]   \n",
       "\n",
       "                                                                                              tweet_nonstop  \\\n",
       "81624   [advised, earlier, redirect, desired, option, disambiguation, page, contains, information, actor...   \n",
       "75269   [please, refrain, adding, nonsense, wikipedia, banana, considered, vandalism, would, like, exper...   \n",
       "19022                       [rt, fukkitsbrittney, austinbedsaul, wise, yet, young, thank, listening, bitch]   \n",
       "80367                                                                                      [post, messages]   \n",
       "111607                                                                                [southwest, airlines]   \n",
       "\n",
       "                                                                                              tweet_stemmed  \\\n",
       "81624   [advis, earlier, redirect, desir, option, disambigu, page, contain, inform, actor, better, avera...   \n",
       "75269   [pleas, refrain, ad, nonsens, wikipedia, banana, consid, vandal, would, like, experi, use, sandb...   \n",
       "19022                          [rt, fukkitsbrittney, austinbedsaul, wise, yet, young, thank, listen, bitch]   \n",
       "80367                                                                                        [post, messag]   \n",
       "111607                                                                                  [southwest, airlin]   \n",
       "\n",
       "                                                                                           tweet_lemmatized  \\\n",
       "81624   [advised, earlier, redirect, desired, option, disambiguation, page, contains, information, actor...   \n",
       "75269   [please, refrain, adding, nonsense, wikipedia, banana, considered, vandalism, would, like, exper...   \n",
       "19022                       [rt, fukkitsbrittney, austinbedsaul, wise, yet, young, thank, listening, bitch]   \n",
       "80367                                                                                       [post, message]   \n",
       "111607                                                                                 [southwest, airline]   \n",
       "\n",
       "                                                                                                tweet_clean  \\\n",
       "81624   [advis, earlier, redirect, desir, option, disambigu, page, contain, inform, actor, better, avera...   \n",
       "75269   [pleas, refrain, ad, nonsens, wikipedia, banana, consid, vandal, would, like, experi, use, sandb...   \n",
       "19022                          [rt, fukkitsbrittney, austinbedsaul, wise, yet, young, thank, listen, bitch]   \n",
       "80367                                                                                        [post, messag]   \n",
       "111607                                                                                  [southwest, airlin]   \n",
       "\n",
       "        class  \n",
       "81624       0  \n",
       "75269       0  \n",
       "19022       1  \n",
       "80367       0  \n",
       "111607      0  "
      ]
     },
     "execution_count": 187,
     "metadata": {},
     "output_type": "execute_result"
    }
   ],
   "source": [
    "df.head()"
   ]
  },
  {
   "cell_type": "code",
   "execution_count": 188,
   "metadata": {},
   "outputs": [],
   "source": [
    "with open('processed_final_ws_hate', 'wb') as fp:\n",
    "    pickle.dump(df, fp)"
   ]
  },
  {
   "cell_type": "code",
   "execution_count": null,
   "metadata": {},
   "outputs": [],
   "source": []
  }
 ],
 "metadata": {
  "kernelspec": {
   "display_name": "Python 3",
   "language": "python",
   "name": "python3"
  },
  "language_info": {
   "codemirror_mode": {
    "name": "ipython",
    "version": 3
   },
   "file_extension": ".py",
   "mimetype": "text/x-python",
   "name": "python",
   "nbconvert_exporter": "python",
   "pygments_lexer": "ipython3",
   "version": "3.6.8"
  }
 },
 "nbformat": 4,
 "nbformat_minor": 2
}
